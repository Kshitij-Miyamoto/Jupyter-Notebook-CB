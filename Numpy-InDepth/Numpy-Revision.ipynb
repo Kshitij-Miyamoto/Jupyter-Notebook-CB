{
 "cells": [
  {
   "cell_type": "code",
   "execution_count": null,
   "id": "c119f755-e2cd-49a8-aa2b-ce12dc361216",
   "metadata": {},
   "outputs": [],
   "source": [
    "#Never out of the fight, Never affected by the fight.\n"
   ]
  },
  {
   "cell_type": "code",
   "execution_count": 3,
   "id": "fba4c177-9d69-4d8d-a7c0-9507d54306ae",
   "metadata": {},
   "outputs": [],
   "source": [
    "import numpy as np \n"
   ]
  },
  {
   "cell_type": "code",
   "execution_count": 7,
   "id": "b56bc511-50e0-4eb3-b936-e4ae1be4988f",
   "metadata": {},
   "outputs": [],
   "source": [
    "a = np.array([10 ,20 , 30, 40, 50])"
   ]
  },
  {
   "cell_type": "code",
   "execution_count": 8,
   "id": "aa86c70d-085d-4712-b855-745d72eaf8ec",
   "metadata": {},
   "outputs": [
    {
     "name": "stdout",
     "output_type": "stream",
     "text": [
      "[10 20 30 40 50]\n"
     ]
    }
   ],
   "source": [
    "print(a) "
   ]
  },
  {
   "cell_type": "code",
   "execution_count": 10,
   "id": "0b31471f-8b3a-4155-85d1-4e3720ae45d2",
   "metadata": {},
   "outputs": [
    {
     "data": {
      "text/plain": [
       "(5,)"
      ]
     },
     "execution_count": 10,
     "metadata": {},
     "output_type": "execute_result"
    }
   ],
   "source": [
    "a.shape"
   ]
  },
  {
   "cell_type": "code",
   "execution_count": 12,
   "id": "4532e36b-458c-40d9-8939-f4b5b6db4b60",
   "metadata": {},
   "outputs": [],
   "source": [
    "arr = np.array([[10, 20, 30, 40, 50], [1, 2, 3, 4, 5], [11, 12, 13, 14, 15]])"
   ]
  },
  {
   "cell_type": "code",
   "execution_count": 16,
   "id": "2eb7cefa-043b-48f8-ae3d-38e275977fc3",
   "metadata": {},
   "outputs": [
    {
     "data": {
      "text/plain": [
       "(3, 5)"
      ]
     },
     "execution_count": 16,
     "metadata": {},
     "output_type": "execute_result"
    }
   ],
   "source": [
    "arr.shape #Gives us the shape here, 3 rows and 5 columns"
   ]
  },
  {
   "cell_type": "code",
   "execution_count": 17,
   "id": "1b6e77da-1ebc-414c-bbe5-ce55064eac06",
   "metadata": {},
   "outputs": [
    {
     "name": "stdout",
     "output_type": "stream",
     "text": [
      "[[10 20 30 40 50]\n",
      " [ 1  2  3  4  5]\n",
      " [11 12 13 14 15]]\n"
     ]
    }
   ],
   "source": [
    "print(arr) # so basically a matix was formed with 3 rows and 5 columns,"
   ]
  },
  {
   "cell_type": "code",
   "execution_count": 18,
   "id": "44ed48b1-ea22-45cf-b0eb-cdd7740247ea",
   "metadata": {},
   "outputs": [
    {
     "data": {
      "text/plain": [
       "array([10, 20, 30, 40, 50])"
      ]
     },
     "execution_count": 18,
     "metadata": {},
     "output_type": "execute_result"
    }
   ],
   "source": [
    "arr[0] # Gives us the first array Obviously"
   ]
  },
  {
   "cell_type": "code",
   "execution_count": 19,
   "id": "20c0a481-f8f3-4101-8dc5-c94a10c20b79",
   "metadata": {},
   "outputs": [
    {
     "data": {
      "text/plain": [
       "array([1, 2, 3, 4, 5])"
      ]
     },
     "execution_count": 19,
     "metadata": {},
     "output_type": "execute_result"
    }
   ],
   "source": [
    "arr[1] # Gives us the second array, obviously."
   ]
  },
  {
   "cell_type": "code",
   "execution_count": 23,
   "id": "897666a2-6816-484f-9ab4-5ae2661ac701",
   "metadata": {},
   "outputs": [
    {
     "data": {
      "text/plain": [
       "array([11, 12, 13, 14, 15])"
      ]
     },
     "execution_count": 23,
     "metadata": {},
     "output_type": "execute_result"
    }
   ],
   "source": [
    "arr[2] # Gives us the third array, obviously."
   ]
  },
  {
   "cell_type": "code",
   "execution_count": 24,
   "id": "bcb07250-d56f-46cc-955b-6a843cdd276b",
   "metadata": {},
   "outputs": [
    {
     "data": {
      "text/plain": [
       "np.int64(10)"
      ]
     },
     "execution_count": 24,
     "metadata": {},
     "output_type": "execute_result"
    }
   ],
   "source": [
    "arr[0][0] # basically to access the first element of the 2-D matrix"
   ]
  },
  {
   "cell_type": "code",
   "execution_count": 27,
   "id": "d203b5ef-3331-4543-97d1-4ad4da99629f",
   "metadata": {},
   "outputs": [],
   "source": [
    "mat = np.ones([3,3])"
   ]
  },
  {
   "cell_type": "code",
   "execution_count": 33,
   "id": "74da9bbc-592f-47ae-8020-d744ccbacca2",
   "metadata": {},
   "outputs": [
    {
     "name": "stdout",
     "output_type": "stream",
     "text": [
      "\n",
      "Array after converting to int:\n",
      "[[10 20 30 40 50]\n",
      " [ 1  2  3  4  5]\n",
      " [11 12 13 14 15]]\n"
     ]
    }
   ],
   "source": [
    "arr_int = arr.astype(int) #basically converting the whole stuff to integer.\n",
    "print(\"\\nArray after converting to int:\")\n",
    "print(arr_int)"
   ]
  },
  {
   "cell_type": "code",
   "execution_count": 44,
   "id": "68dd9e68-c856-475a-af90-1fda04eba206",
   "metadata": {},
   "outputs": [
    {
     "name": "stdout",
     "output_type": "stream",
     "text": [
      "[[1 1 1]\n",
      " [1 1 1]\n",
      " [1 1 1]]\n",
      "\n",
      "[[1 1 1]\n",
      " [1 1 1]\n",
      " [1 1 1]]\n"
     ]
    }
   ],
   "source": [
    "mat_int  = mat.astype(int) #basically converting the whole stuff to integer.\n",
    "print(mat_int)\n",
    "print()\n",
    "print(mat.astype(int))"
   ]
  },
  {
   "cell_type": "code",
   "execution_count": 39,
   "id": "d3589087-4d5b-4f64-9951-fdb4c20d6966",
   "metadata": {},
   "outputs": [
    {
     "name": "stdout",
     "output_type": "stream",
     "text": [
      "[ 0.   2.5  5.   7.5 10. ]\n"
     ]
    }
   ],
   "source": [
    "line_arr  = np.linspace(0, 10, num=5)\n",
    "print(line_arr)\n"
   ]
  },
  {
   "cell_type": "code",
   "execution_count": 42,
   "id": "e0999056-a357-41aa-a992-4f5c99fbc3d9",
   "metadata": {},
   "outputs": [
    {
     "name": "stdout",
     "output_type": "stream",
     "text": [
      "[  0  25  50  75 100]\n"
     ]
    }
   ],
   "source": [
    "line_arr  = np.linspace(0, 100, num=5) #basically to print out equispaced arrays.\n",
    "print(line_arr.astype(int))"
   ]
  },
  {
   "cell_type": "code",
   "execution_count": 53,
   "id": "2211e56b-4b85-471e-b9a2-f4726ce6cea7",
   "metadata": {},
   "outputs": [],
   "source": [
    "x = np.ones([3,3], dtype= int)"
   ]
  },
  {
   "cell_type": "code",
   "execution_count": 54,
   "id": "1e36870b-339a-406a-a846-b7106cf0f775",
   "metadata": {},
   "outputs": [
    {
     "name": "stdout",
     "output_type": "stream",
     "text": [
      "[[1 1 1]\n",
      " [1 1 1]\n",
      " [1 1 1]]\n"
     ]
    }
   ],
   "source": [
    "print(x)"
   ]
  },
  {
   "cell_type": "code",
   "execution_count": 55,
   "id": "67f35985-a5bf-4d7d-9810-29928175e843",
   "metadata": {},
   "outputs": [],
   "source": [
    "arr = np.array([2, 1, 5, 3, 7, 4, 6, 8])\n"
   ]
  },
  {
   "cell_type": "code",
   "execution_count": 61,
   "id": "febd76e9-548d-4119-8e86-8e45ce4f20cb",
   "metadata": {},
   "outputs": [],
   "source": [
    "Sorted_array = np.sort(arr)"
   ]
  },
  {
   "cell_type": "code",
   "execution_count": 62,
   "id": "9233f751-6269-481c-bf3b-2ceb7b830106",
   "metadata": {},
   "outputs": [
    {
     "name": "stdout",
     "output_type": "stream",
     "text": [
      "[1 2 3 4 5 6 7 8]\n"
     ]
    }
   ],
   "source": [
    "print(np.sort(arr))"
   ]
  },
  {
   "cell_type": "code",
   "execution_count": 63,
   "id": "4255b884-bd88-45a8-90e6-12e4ecbc7ebd",
   "metadata": {},
   "outputs": [
    {
     "name": "stdout",
     "output_type": "stream",
     "text": [
      "[1 2 3 4 5 6 7 8]\n"
     ]
    }
   ],
   "source": [
    "print(Sorted_array)"
   ]
  },
  {
   "cell_type": "code",
   "execution_count": 65,
   "id": "868bfe67-e8fc-473f-bf7e-219822caee09",
   "metadata": {},
   "outputs": [],
   "source": [
    "a = np.array( [10, 20, 30, 40, 50, 60, 70] )\n",
    "b = np.array( [100, 200, 300, 400, 500, 600, 700])"
   ]
  },
  {
   "cell_type": "code",
   "execution_count": 67,
   "id": "0242c141-80ca-404f-bcc9-af737370a5d8",
   "metadata": {},
   "outputs": [],
   "source": [
    "conc = np.concatenate((a,b))"
   ]
  },
  {
   "cell_type": "code",
   "execution_count": 68,
   "id": "7236b448-b732-43cb-a5b6-278562cf577b",
   "metadata": {},
   "outputs": [
    {
     "name": "stdout",
     "output_type": "stream",
     "text": [
      "[ 10  20  30  40  50  60  70 100 200 300 400 500 600 700]\n"
     ]
    }
   ],
   "source": [
    "print(conc)"
   ]
  },
  {
   "cell_type": "code",
   "execution_count": 70,
   "id": "7319ba70-10a5-46fc-a95c-4fa87e5e7c7f",
   "metadata": {},
   "outputs": [
    {
     "name": "stdout",
     "output_type": "stream",
     "text": [
      "[ 10  20  30  40  50  60  70 100 200 300 400 500 600 700]\n"
     ]
    }
   ],
   "source": [
    "print(np.concatenate((a,b)))"
   ]
  },
  {
   "cell_type": "code",
   "execution_count": 71,
   "id": "1a753c90-6f39-463e-92ae-203474f712ce",
   "metadata": {},
   "outputs": [],
   "source": [
    "add = a + b ; "
   ]
  },
  {
   "cell_type": "code",
   "execution_count": 72,
   "id": "61986e62-ce07-4eb5-8162-71809842cbd3",
   "metadata": {},
   "outputs": [
    {
     "name": "stdout",
     "output_type": "stream",
     "text": [
      "[110 220 330 440 550 660 770]\n"
     ]
    }
   ],
   "source": [
    "print(add) "
   ]
  },
  {
   "cell_type": "code",
   "execution_count": 73,
   "id": "cefe99a3-b40d-41c7-be94-e3ffb71cff9c",
   "metadata": {},
   "outputs": [],
   "source": [
    "x = np.array([[1, 2], [3, 4]])\n",
    "y = np.array([[5, 6]])"
   ]
  },
  {
   "cell_type": "code",
   "execution_count": 77,
   "id": "008d8359-5bf5-47fd-a814-bbdff966a1a7",
   "metadata": {},
   "outputs": [
    {
     "name": "stdout",
     "output_type": "stream",
     "text": [
      "[[1 2]\n",
      " [3 4]\n",
      " [5 6]]\n"
     ]
    }
   ],
   "source": [
    "xy = np.concatenate((x, y), axis=0)\n",
    "print(xy)"
   ]
  },
  {
   "cell_type": "code",
   "execution_count": 79,
   "id": "95ca3197-52f0-4e28-8afd-e5eb628eda96",
   "metadata": {},
   "outputs": [
    {
     "name": "stdout",
     "output_type": "stream",
     "text": [
      "[0 1 2 3 4 5]\n",
      "\n",
      "[[0 1]\n",
      " [2 3]\n",
      " [4 5]]\n"
     ]
    }
   ],
   "source": [
    "a = np.arange(6) #Basically we are trying to reshape an array here !!\n",
    "print(a)\n",
    "print()\n",
    "b = a.reshape(3, 2) # We are trying to reshape the array here, using a.reshape()\n",
    "print(b)"
   ]
  },
  {
   "cell_type": "code",
   "execution_count": null,
   "id": "d19c9ba8-8212-474a-88af-bcee823703e4",
   "metadata": {},
   "outputs": [],
   "source": []
  }
 ],
 "metadata": {
  "kernelspec": {
   "display_name": "Python 3 (ipykernel)",
   "language": "python",
   "name": "python3"
  },
  "language_info": {
   "codemirror_mode": {
    "name": "ipython",
    "version": 3
   },
   "file_extension": ".py",
   "mimetype": "text/x-python",
   "name": "python",
   "nbconvert_exporter": "python",
   "pygments_lexer": "ipython3",
   "version": "3.13.2"
  }
 },
 "nbformat": 4,
 "nbformat_minor": 5
}
