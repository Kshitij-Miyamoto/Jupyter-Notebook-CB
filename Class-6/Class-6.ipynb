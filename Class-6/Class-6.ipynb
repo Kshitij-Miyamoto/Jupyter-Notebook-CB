{
 "cells": [
  {
   "cell_type": "code",
   "execution_count": 4,
   "id": "b2d68f43-ed39-40e9-b96c-c038bb19557e",
   "metadata": {},
   "outputs": [
    {
     "name": "stdout",
     "output_type": "stream",
     "text": [
      "Hello there, class-6 : List and Tuples\n"
     ]
    }
   ],
   "source": [
    "print(\"Hello there, class-6 : List and Tuples\")\n"
   ]
  },
  {
   "cell_type": "code",
   "execution_count": 8,
   "id": "1053a5e0-591d-494b-8307-b99f63ce69bc",
   "metadata": {},
   "outputs": [
    {
     "name": "stdout",
     "output_type": "stream",
     "text": [
      "1\n",
      "3\n"
     ]
    }
   ],
   "source": [
    "list1 = [\"1\", \"2\", \"3\", \"4\", \"5\"]\n",
    "print(list1[0])\n",
    "print(list1[2])"
   ]
  },
  {
   "cell_type": "code",
   "execution_count": 10,
   "id": "cd52884c-4c61-43d5-a0bb-3bc711569fae",
   "metadata": {},
   "outputs": [
    {
     "data": {
      "text/plain": [
       "(4+5j)"
      ]
     },
     "execution_count": 10,
     "metadata": {},
     "output_type": "execute_result"
    }
   ],
   "source": [
    "l = [ 10, 20, \"Kshitij\", 4 + 5j]\n",
    "l[3]\n"
   ]
  },
  {
   "cell_type": "code",
   "execution_count": 11,
   "id": "66fcd663-ff2f-4135-a238-e3f9ef188a6c",
   "metadata": {},
   "outputs": [],
   "source": [
    "l.append(\"Apple\")"
   ]
  },
  {
   "cell_type": "code",
   "execution_count": 12,
   "id": "d2bd9f41-6dee-40c5-9b1c-9f158ade4938",
   "metadata": {},
   "outputs": [
    {
     "name": "stdout",
     "output_type": "stream",
     "text": [
      "[10, 20, 'Kshitij', (4+5j), 'Apple']\n"
     ]
    }
   ],
   "source": [
    "print(l)"
   ]
  },
  {
   "cell_type": "code",
   "execution_count": 13,
   "id": "55a1e8cc-8a75-4129-905b-55a3fedc059b",
   "metadata": {},
   "outputs": [
    {
     "name": "stdout",
     "output_type": "stream",
     "text": [
      "[10, 'Salu', 20, 'Kshitij', (4+5j), 'Apple']\n"
     ]
    }
   ],
   "source": [
    "l.insert(1 , \"Salu\")\n",
    "print(l)"
   ]
  },
  {
   "cell_type": "code",
   "execution_count": 16,
   "id": "08943c34-bd3a-4878-82d4-b0bff6ee6017",
   "metadata": {},
   "outputs": [
    {
     "name": "stdout",
     "output_type": "stream",
     "text": [
      "10 Salu 20 Kshitij (4+5j) Apple "
     ]
    }
   ],
   "source": [
    "for i in l:\n",
    "  print(i , end = \" \")"
   ]
  },
  {
   "cell_type": "code",
   "execution_count": 27,
   "id": "1e0f8f49-1062-4659-abbf-024716b3fe9e",
   "metadata": {},
   "outputs": [
    {
     "name": "stdout",
     "output_type": "stream",
     "text": [
      "10 Salu 20 Kshitij (4+5j) Apple "
     ]
    }
   ],
   "source": [
    "i = 0\n",
    "while i < len(l):\n",
    "    print(l[i], end =  \" \") \n",
    "    i +=1"
   ]
  },
  {
   "cell_type": "code",
   "execution_count": 28,
   "id": "9b9b1256-b93d-4096-88d5-9f117fad87fd",
   "metadata": {},
   "outputs": [
    {
     "name": "stdout",
     "output_type": "stream",
     "text": [
      "6\n"
     ]
    }
   ],
   "source": [
    "print(len(l))"
   ]
  },
  {
   "cell_type": "code",
   "execution_count": 31,
   "id": "c7fadb43-4840-4c76-bd59-487312777395",
   "metadata": {},
   "outputs": [
    {
     "name": "stdout",
     "output_type": "stream",
     "text": [
      "[10, 'Salu', 20, 'Kshitij', (4+5j), 'Apple']\n"
     ]
    }
   ],
   "source": [
    "l1 = l.copy()\n",
    "print(l1)"
   ]
  },
  {
   "cell_type": "code",
   "execution_count": 32,
   "id": "264de4c7-3456-4ed1-b093-c4ba951368e2",
   "metadata": {},
   "outputs": [
    {
     "name": "stdout",
     "output_type": "stream",
     "text": [
      "[10, 'Salu', 20, 'Kshitij', (4+5j), 'Apple', 'Bablu']\n",
      "[10, 'Salu', 20, 'Kshitij', (4+5j), 'Apple']\n"
     ]
    }
   ],
   "source": [
    "l1.append(\"Bablu\")\n",
    "print( l1 ) \n",
    "print (l)"
   ]
  },
  {
   "cell_type": "code",
   "execution_count": 39,
   "id": "5ee44d20-7598-461d-8fa4-630794e6f27f",
   "metadata": {},
   "outputs": [
    {
     "name": "stdout",
     "output_type": "stream",
     "text": [
      "10\n",
      "Salu\n",
      "20\n",
      "Kshitij\n",
      "(4+5j)\n",
      "Apple\n",
      "Bablu\n"
     ]
    }
   ],
   "source": [
    "for j in l1:\n",
    "    print(j)"
   ]
  },
  {
   "cell_type": "code",
   "execution_count": 40,
   "id": "9ff02fd6-96b2-40e7-b44a-e1567f2de3f6",
   "metadata": {},
   "outputs": [
    {
     "name": "stdout",
     "output_type": "stream",
     "text": [
      "10\n",
      "20\n",
      "30\n",
      "40\n",
      "50\n",
      "60\n",
      "70\n"
     ]
    }
   ],
   "source": [
    "l1 = [10, 20, 30, 40, 50, 60, 70]\n",
    "for i in l1:\n",
    "    print(i)"
   ]
  },
  {
   "cell_type": "code",
   "execution_count": 41,
   "id": "da2cf42e-01f6-4619-996c-c7c414bb3b58",
   "metadata": {},
   "outputs": [
    {
     "name": "stdout",
     "output_type": "stream",
     "text": [
      "[1, 4, 9, 16, 25]\n"
     ]
    }
   ],
   "source": [
    "numbers = [1, 2, 3, 4, 5]\n",
    "squares = [x ** 2 for x in numbers]\n",
    "print(squares) "
   ]
  },
  {
   "cell_type": "code",
   "execution_count": 42,
   "id": "23fe37ed-18ad-4fb4-a31c-01c19df13de7",
   "metadata": {},
   "outputs": [
    {
     "name": "stdout",
     "output_type": "stream",
     "text": [
      "[2, 4, 6]\n"
     ]
    }
   ],
   "source": [
    "numbers = [1, 2, 3, 4, 5, 6]\n",
    "even_numbers = [x for x in numbers if x % 2 == 0]\n",
    "print(even_numbers)"
   ]
  },
  {
   "cell_type": "code",
   "execution_count": 43,
   "id": "3e72b71e-2fb4-4271-8b7e-e132b1bae9c7",
   "metadata": {},
   "outputs": [
    {
     "name": "stdout",
     "output_type": "stream",
     "text": [
      "[6, 8]\n"
     ]
    }
   ],
   "source": [
    "numbers = [1, 2, 3, 4, 5, 6, 7, 8, 9]\n",
    "result = [x for x in numbers if x % 2 == 0 and x > 4]\n",
    "print(result)"
   ]
  },
  {
   "cell_type": "code",
   "execution_count": 44,
   "id": "371d6421-72e3-473f-b604-4177971fdac3",
   "metadata": {},
   "outputs": [
    {
     "name": "stdout",
     "output_type": "stream",
     "text": [
      "[3, 6, 9, 12, 15, 18, 21, 24, 27, 30]\n"
     ]
    }
   ],
   "source": [
    "multiples_of_3 = [x * 3 for x in range(1, 11)]\n",
    "print(multiples_of_3)"
   ]
  },
  {
   "cell_type": "code",
   "execution_count": 45,
   "id": "eee6bc4f-2643-4119-a75a-52509df16fa0",
   "metadata": {},
   "outputs": [
    {
     "data": {
      "text/plain": [
       "[1, 4, 9, 16, 25, 36, 49, 64, 81, 100]"
      ]
     },
     "execution_count": 45,
     "metadata": {},
     "output_type": "execute_result"
    }
   ],
   "source": [
    "A = []\n",
    "for i in range(1, 11):\n",
    "    A.append(i*i)\n",
    "\n",
    "A"
   ]
  },
  {
   "cell_type": "code",
   "execution_count": 46,
   "id": "4d3481c5-07bb-4b2c-88b8-07f7c1e6658b",
   "metadata": {},
   "outputs": [
    {
     "data": {
      "text/plain": [
       "[10, 20, 30, 40, 50, 60, 70]"
      ]
     },
     "execution_count": 46,
     "metadata": {},
     "output_type": "execute_result"
    }
   ],
   "source": [
    "l1"
   ]
  },
  {
   "cell_type": "code",
   "execution_count": 47,
   "id": "06db502b-af9d-40a0-98dc-623623f167ab",
   "metadata": {},
   "outputs": [
    {
     "data": {
      "text/plain": [
       "[10, 'Salu', 20, 'Kshitij', (4+5j), 'Apple']"
      ]
     },
     "execution_count": 47,
     "metadata": {},
     "output_type": "execute_result"
    }
   ],
   "source": [
    "l"
   ]
  },
  {
   "cell_type": "code",
   "execution_count": 53,
   "id": "38f58e70-add2-4945-83d6-0ee0218dd924",
   "metadata": {},
   "outputs": [
    {
     "name": "stdout",
     "output_type": "stream",
     "text": [
      "[3, 5, 7, 9, 11, 13, 15, 17, 19, 21]\n",
      "[1, 2, 3, 4, 5, 6, 7, 8, 9, 10]\n"
     ]
    }
   ],
   "source": [
    "numbers = [1, 2, 3, 4, 5, 6, 7, 8, 9, 10]\n",
    "y = [2*x+1 for x in numbers]\n",
    "print(y) \n",
    "\n",
    "print(numbers)"
   ]
  },
  {
   "cell_type": "code",
   "execution_count": 57,
   "id": "8f7a75b8-df42-4abd-8aa7-02b4ac0c5083",
   "metadata": {},
   "outputs": [
    {
     "data": {
      "text/plain": [
       "[10, 20, 30, 30, 40, 50]"
      ]
     },
     "execution_count": 57,
     "metadata": {},
     "output_type": "execute_result"
    }
   ],
   "source": [
    "l1 = [10, 20, 30]\n",
    "l2 = [30, 40, 50]\n",
    "l3 = l1 + l2 \n",
    "l3 "
   ]
  },
  {
   "cell_type": "code",
   "execution_count": 58,
   "id": "f53942e8-2603-452a-aa8f-fd72cecaef13",
   "metadata": {},
   "outputs": [
    {
     "data": {
      "text/plain": [
       "[10, 100, 20, 30]"
      ]
     },
     "execution_count": 58,
     "metadata": {},
     "output_type": "execute_result"
    }
   ],
   "source": [
    "l1.insert(1 , 100)\n",
    "l1"
   ]
  },
  {
   "cell_type": "code",
   "execution_count": 59,
   "id": "b0eecf09-8595-43df-a687-1e8464c6cb9c",
   "metadata": {},
   "outputs": [
    {
     "data": {
      "text/plain": [
       "[10, 20, 30]"
      ]
     },
     "execution_count": 59,
     "metadata": {},
     "output_type": "execute_result"
    }
   ],
   "source": [
    "l1.pop(1)\n",
    "l1"
   ]
  },
  {
   "cell_type": "code",
   "execution_count": 60,
   "id": "426d7b1e-21fd-4f55-8c27-773d7f720d6c",
   "metadata": {},
   "outputs": [
    {
     "data": {
      "text/plain": [
       "[10, 30]"
      ]
     },
     "execution_count": 60,
     "metadata": {},
     "output_type": "execute_result"
    }
   ],
   "source": [
    "l1.remove(20)\n",
    "l1"
   ]
  },
  {
   "cell_type": "code",
   "execution_count": 61,
   "id": "ab47480e-f19b-40f5-8083-4fef2677a4bd",
   "metadata": {},
   "outputs": [
    {
     "data": {
      "text/plain": [
       "[10, 10, 10, 10, 10, 10, 10, 10, 10, 10]"
      ]
     },
     "execution_count": 61,
     "metadata": {},
     "output_type": "execute_result"
    }
   ],
   "source": [
    "l = [10]*10\n",
    "l"
   ]
  },
  {
   "cell_type": "code",
   "execution_count": 66,
   "id": "ee359365-a521-4fbb-ba01-b001a608bb1a",
   "metadata": {},
   "outputs": [
    {
     "data": {
      "text/plain": [
       "[1, 2, 3, 4, 5, 6, 7, 8, 9, 10, 11, 12, 13, 14, 15, 16, 17, 18, 19]"
      ]
     },
     "execution_count": 66,
     "metadata": {},
     "output_type": "execute_result"
    }
   ],
   "source": [
    "l1 = [i for i in range(1,20)]\n",
    "l\n",
    "\n"
   ]
  },
  {
   "cell_type": "code",
   "execution_count": 78,
   "id": "1050f682-4d9e-4df6-963c-882234c89408",
   "metadata": {
    "scrolled": true
   },
   "outputs": [
    {
     "data": {
      "text/plain": [
       "[]"
      ]
     },
     "execution_count": 78,
     "metadata": {},
     "output_type": "execute_result"
    }
   ],
   "source": [
    "\n",
    "l1[5:15]"
   ]
  },
  {
   "cell_type": "code",
   "execution_count": 76,
   "id": "ca1a11ed-0ee0-4fdf-9396-9e994f0f47ac",
   "metadata": {},
   "outputs": [
    {
     "data": {
      "text/plain": [
       "[]"
      ]
     },
     "execution_count": 76,
     "metadata": {},
     "output_type": "execute_result"
    }
   ],
   "source": [
    "l[5:15:3]"
   ]
  },
  {
   "cell_type": "code",
   "execution_count": 77,
   "id": "1cdad4a4-02f3-4989-8557-4190cc01f184",
   "metadata": {},
   "outputs": [
    {
     "data": {
      "text/plain": [
       "6"
      ]
     },
     "execution_count": 77,
     "metadata": {},
     "output_type": "execute_result"
    }
   ],
   "source": [
    "l = [[1,2,3],[4,5,6]]\n",
    "l[1][2]"
   ]
  },
  {
   "cell_type": "code",
   "execution_count": 84,
   "id": "b90ab5f0-afc7-4d51-a3c1-73ac3d812a55",
   "metadata": {},
   "outputs": [
    {
     "name": "stdout",
     "output_type": "stream",
     "text": [
      "Enter the elements of the 3x3 matrix:\n"
     ]
    },
    {
     "name": "stdin",
     "output_type": "stream",
     "text": [
      "Enter element [1][1]:  1\n",
      "Enter element [1][2]:  2\n",
      "Enter element [1][3]:  3\n",
      "Enter element [2][1]:  4\n",
      "Enter element [2][2]:  5\n",
      "Enter element [2][3]:  6\n",
      "Enter element [3][1]:  7\n",
      "Enter element [3][2]:  8\n",
      "Enter element [3][3]:  9\n"
     ]
    },
    {
     "name": "stdout",
     "output_type": "stream",
     "text": [
      "\n",
      "The 3x3 matrix is:\n",
      "[1, 2, 3]\n",
      "[4, 5, 6]\n",
      "[7, 8, 9]\n"
     ]
    }
   ],
   "source": [
    "\n",
    "matrix = []\n",
    "\n",
    "\n",
    "print(\"Enter the elements of the 3x3 matrix:\")\n",
    "for i in range(3):\n",
    "    row = []  \n",
    "    for j in range(3):\n",
    "        element = int(input(f\"Enter element [{i+1}][{j+1}]: \"))\n",
    "        row.append(element)  \n",
    "    matrix.append(row) \n",
    "\n",
    "# Display the matrix\n",
    "print(\"\\nThe 3x3 matrix is:\")\n",
    "for row in matrix:\n",
    "    print(row)"
   ]
  },
  {
   "cell_type": "code",
   "execution_count": 88,
   "id": "a8181fd5-fda8-4514-8462-fb0de8ca53cf",
   "metadata": {},
   "outputs": [],
   "source": [
    " t = (1,2,3,4,5)\n",
    "\n",
    "#They are basically immutable and that is it."
   ]
  },
  {
   "cell_type": "code",
   "execution_count": 89,
   "id": "236e9f37-49a2-4138-bb7e-ff8571acdbbb",
   "metadata": {},
   "outputs": [
    {
     "data": {
      "text/plain": [
       "tuple"
      ]
     },
     "execution_count": 89,
     "metadata": {},
     "output_type": "execute_result"
    }
   ],
   "source": [
    "type(t)"
   ]
  },
  {
   "cell_type": "code",
   "execution_count": 90,
   "id": "7613f562-322a-4817-adf6-797648f3c8b3",
   "metadata": {},
   "outputs": [
    {
     "data": {
      "text/plain": [
       "list"
      ]
     },
     "execution_count": 90,
     "metadata": {},
     "output_type": "execute_result"
    }
   ],
   "source": [
    "type(l)"
   ]
  },
  {
   "cell_type": "code",
   "execution_count": null,
   "id": "8d8ada6b-de2b-4d7e-bbad-25b2d5be177d",
   "metadata": {},
   "outputs": [],
   "source": []
  }
 ],
 "metadata": {
  "kernelspec": {
   "display_name": "Python 3 (ipykernel)",
   "language": "python",
   "name": "python3"
  },
  "language_info": {
   "codemirror_mode": {
    "name": "ipython",
    "version": 3
   },
   "file_extension": ".py",
   "mimetype": "text/x-python",
   "name": "python",
   "nbconvert_exporter": "python",
   "pygments_lexer": "ipython3",
   "version": "3.13.2"
  }
 },
 "nbformat": 4,
 "nbformat_minor": 5
}
