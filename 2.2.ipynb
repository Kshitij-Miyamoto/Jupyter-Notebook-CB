{
 "cells": [
  {
   "cell_type": "code",
   "execution_count": null,
   "id": "409a8d9f-2a21-4e74-96e8-b5748bd3d028",
   "metadata": {},
   "outputs": [],
   "source": [
    "N = int(input(\"Enter the number : \"))\n",
    "rem = 0\n",
    "\n",
    "\n",
    "while( N != 0):\n",
    "rem \n",
    "revNum = revNum * 10 + n % 10;\n",
    "rem = "
   ]
  }
 ],
 "metadata": {
  "kernelspec": {
   "display_name": "Python 3 (ipykernel)",
   "language": "python",
   "name": "python3"
  },
  "language_info": {
   "name": ""
  }
 },
 "nbformat": 4,
 "nbformat_minor": 5
}
