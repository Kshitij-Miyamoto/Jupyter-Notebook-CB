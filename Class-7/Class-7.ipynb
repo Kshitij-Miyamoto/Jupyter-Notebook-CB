{
 "cells": [
  {
   "cell_type": "code",
   "execution_count": 56,
   "id": "709d06d7-4314-43b1-8311-09b0f85d06e3",
   "metadata": {},
   "outputs": [
    {
     "name": "stdout",
     "output_type": "stream",
     "text": [
      "Cl-7, Dictionaries and Sets\n"
     ]
    }
   ],
   "source": [
    "print(\"Cl-7, Dictionaries and Sets\")"
   ]
  },
  {
   "cell_type": "code",
   "execution_count": 57,
   "id": "826265a7-4062-442a-940d-297260df1646",
   "metadata": {},
   "outputs": [
    {
     "name": "stdout",
     "output_type": "stream",
     "text": [
      "{1, 2, 3, 4}\n"
     ]
    }
   ],
   "source": [
    "my_set = {1 , 2 , 3, 3, 4}\n",
    "print(my_set)"
   ]
  },
  {
   "cell_type": "code",
   "execution_count": 58,
   "id": "0e51dc10-dd25-40e4-adb9-2fe173b34a9f",
   "metadata": {},
   "outputs": [
    {
     "name": "stdout",
     "output_type": "stream",
     "text": [
      "{1, 'Hello', (10, 20, 30, 40)}\n"
     ]
    }
   ],
   "source": [
    "my_set_1 = { \"Hello\", 1 , True , (10, 20, 30, 40)}\n",
    "print(my_set_1)"
   ]
  },
  {
   "cell_type": "code",
   "execution_count": 59,
   "id": "0d657591-91c2-4038-844e-ca0e70e46a94",
   "metadata": {},
   "outputs": [
    {
     "name": "stdout",
     "output_type": "stream",
     "text": [
      "1\n",
      "Hello\n",
      "(10, 20, 30, 40)\n"
     ]
    }
   ],
   "source": [
    "for item in my_set_1:\n",
    "    print(item)\n"
   ]
  },
  {
   "cell_type": "code",
   "execution_count": 60,
   "id": "669a3dd7-889d-45c6-ba58-9eeff7831af1",
   "metadata": {},
   "outputs": [],
   "source": [
    "s2 = set() #Empty set is created here, if we don't write set, it will become a dictionary\n",
    "s2.add(10)\n",
    "s2.add(\"Hi\")\n",
    "s2.add(\"Salu\")"
   ]
  },
  {
   "cell_type": "code",
   "execution_count": 61,
   "id": "67298c69-1242-492e-845a-d8bfadeff3b5",
   "metadata": {},
   "outputs": [
    {
     "data": {
      "text/plain": [
       "{10, 'Hi', 'Salu'}"
      ]
     },
     "execution_count": 61,
     "metadata": {},
     "output_type": "execute_result"
    }
   ],
   "source": [
    "s2\n"
   ]
  },
  {
   "cell_type": "code",
   "execution_count": 62,
   "id": "8a58b197-50a4-4297-8596-3815126ef9a1",
   "metadata": {},
   "outputs": [
    {
     "name": "stdout",
     "output_type": "stream",
     "text": [
      "{0, 1, 2, 3, 4}\n"
     ]
    }
   ],
   "source": [
    "s = set()  # Creating an empty set\n",
    "\n",
    "# Using a loop to add elements\n",
    "for i in range(5):\n",
    "    s.add(i)\n",
    "\n",
    "print(s)  # Output: {0, 1, 2, 3, 4}\n"
   ]
  },
  {
   "cell_type": "code",
   "execution_count": 63,
   "id": "cbdbdd10-7b49-4319-ab29-bdce19f88ba3",
   "metadata": {},
   "outputs": [
    {
     "name": "stdout",
     "output_type": "stream",
     "text": [
      "{0, 1, 2, 3, 4, 'Hi', 'Salu', 10}\n"
     ]
    }
   ],
   "source": [
    "print(s.union(s2))"
   ]
  },
  {
   "cell_type": "code",
   "execution_count": 64,
   "id": "64fc7e4d-393c-47e1-983c-abc6dce54fbf",
   "metadata": {},
   "outputs": [
    {
     "data": {
      "text/plain": [
       "set()"
      ]
     },
     "execution_count": 64,
     "metadata": {},
     "output_type": "execute_result"
    }
   ],
   "source": [
    "s.intersection(s2) #this will hence return an empty set"
   ]
  },
  {
   "cell_type": "code",
   "execution_count": 65,
   "id": "6d51b853-b1b5-4d2b-941d-1ea2b7226342",
   "metadata": {},
   "outputs": [
    {
     "data": {
      "text/plain": [
       "{0, 1, 2, 3, 4, 100}"
      ]
     },
     "execution_count": 65,
     "metadata": {},
     "output_type": "execute_result"
    }
   ],
   "source": [
    "s.add(100)\n",
    "s"
   ]
  },
  {
   "cell_type": "code",
   "execution_count": 66,
   "id": "04f4439a-957f-456b-b2a7-97890d1221b1",
   "metadata": {},
   "outputs": [
    {
     "name": "stdout",
     "output_type": "stream",
     "text": [
      "None\n"
     ]
    }
   ],
   "source": [
    "print(s.discard(\"true\"))\n",
    "#This will give us none if the element isn't present !"
   ]
  },
  {
   "cell_type": "code",
   "execution_count": 67,
   "id": "14eb6f1b-4fa5-4d36-9d6a-230b6242ec5d",
   "metadata": {},
   "outputs": [
    {
     "data": {
      "text/plain": [
       "6"
      ]
     },
     "execution_count": 67,
     "metadata": {},
     "output_type": "execute_result"
    }
   ],
   "source": [
    "len(s)"
   ]
  },
  {
   "cell_type": "code",
   "execution_count": 68,
   "id": "91f846b1-3ef5-4779-828f-378821a96ee4",
   "metadata": {},
   "outputs": [],
   "source": [
    "s.add(2)\n"
   ]
  },
  {
   "cell_type": "code",
   "execution_count": 69,
   "id": "a4154ce0-4dcf-4d9f-b207-6ad8d6ee8af3",
   "metadata": {},
   "outputs": [
    {
     "name": "stdout",
     "output_type": "stream",
     "text": [
      "{0, 1, 64, 4, 36, 9, 16, 49, 81, 25}\n"
     ]
    }
   ],
   "source": [
    "s1 = set()\n",
    "for i in range(10):\n",
    "    s1.add(i*i)\n",
    "\n",
    "print(s1)"
   ]
  },
  {
   "cell_type": "code",
   "execution_count": 70,
   "id": "5056ec86-2279-407f-81ac-c5ff64397814",
   "metadata": {},
   "outputs": [
    {
     "data": {
      "text/plain": [
       "{0, 1, 2, 3, 4, 100}"
      ]
     },
     "execution_count": 70,
     "metadata": {},
     "output_type": "execute_result"
    }
   ],
   "source": [
    "s\n"
   ]
  },
  {
   "cell_type": "code",
   "execution_count": 71,
   "id": "ad8c14fe-2898-4908-9835-9c8117e8b691",
   "metadata": {},
   "outputs": [
    {
     "data": {
      "text/plain": [
       "True"
      ]
     },
     "execution_count": 71,
     "metadata": {},
     "output_type": "execute_result"
    }
   ],
   "source": [
    "3 in s"
   ]
  },
  {
   "cell_type": "code",
   "execution_count": 72,
   "id": "c86a9078-e3a2-43be-a974-aa9ceaa159f4",
   "metadata": {},
   "outputs": [
    {
     "name": "stdout",
     "output_type": "stream",
     "text": [
      "{'name': 'John', 'age': 22, 'grade': 'A', 'Warcry': 'Never Out of the fight'}\n",
      "{'name': 'Alice', 'age': 25, 'city': 'New York'}\n"
     ]
    }
   ],
   "source": [
    "student = {\"name\": \"John\", \"age\": 22, \"grade\": \"A\", \"Warcry\": \"Never Out of the fight\"}\n",
    "print(student)  # Output: {'name': 'John', 'age': 22, 'grade': 'A'}\n",
    "#The key is always unique here !!\n",
    "\n",
    "# Using dict() constructor\n",
    "person = dict(name=\"Alice\", age=25, city=\"New York\")\n",
    "print(person)  # Output: {'name': 'Alice', 'age': 25, 'city': 'New York'}"
   ]
  },
  {
   "cell_type": "code",
   "execution_count": 73,
   "id": "47533842-f3f8-41ba-a391-ae283ca914ea",
   "metadata": {},
   "outputs": [
    {
     "name": "stdout",
     "output_type": "stream",
     "text": [
      "John\n"
     ]
    }
   ],
   "source": [
    "print(student.get(\"name\"))\n"
   ]
  },
  {
   "cell_type": "code",
   "execution_count": 74,
   "id": "3199c497-e411-441d-9b20-10df0bf6a732",
   "metadata": {},
   "outputs": [
    {
     "name": "stdout",
     "output_type": "stream",
     "text": [
      "22\n"
     ]
    }
   ],
   "source": [
    "print(student.get(\"age\"))\n"
   ]
  },
  {
   "cell_type": "code",
   "execution_count": 75,
   "id": "8a55b5ed-67da-4ba4-919a-b6608ea094b7",
   "metadata": {},
   "outputs": [
    {
     "name": "stdout",
     "output_type": "stream",
     "text": [
      "Never Out of the fight\n"
     ]
    }
   ],
   "source": [
    "print(student.get(\"Warcry\")) #When we give the key to the get()"
   ]
  },
  {
   "cell_type": "code",
   "execution_count": 76,
   "id": "bb5495d3-6986-4cbb-920d-e8d08d4021b3",
   "metadata": {},
   "outputs": [
    {
     "name": "stdout",
     "output_type": "stream",
     "text": [
      "None\n"
     ]
    }
   ],
   "source": [
    "print(student.get(\"height\")) #If we return a not availiable key value"
   ]
  },
  {
   "cell_type": "code",
   "execution_count": 77,
   "id": "ffc45475-2b6a-43ce-825f-f22521260708",
   "metadata": {},
   "outputs": [
    {
     "name": "stdout",
     "output_type": "stream",
     "text": [
      "name\n",
      "age\n",
      "grade\n",
      "Warcry\n"
     ]
    }
   ],
   "source": [
    "for key in student:\n",
    "    print(key)"
   ]
  },
  {
   "cell_type": "code",
   "execution_count": 78,
   "id": "489e714c-fb5c-4b5b-85d5-43acd00a9cef",
   "metadata": {},
   "outputs": [
    {
     "name": "stdout",
     "output_type": "stream",
     "text": [
      "John\n",
      "22\n",
      "A\n",
      "Never Out of the fight\n"
     ]
    }
   ],
   "source": [
    "for value in student.values():\n",
    "    print(value)"
   ]
  },
  {
   "cell_type": "code",
   "execution_count": 79,
   "id": "eabe07c1-7d40-470b-895c-a60d5f599c5b",
   "metadata": {},
   "outputs": [
    {
     "data": {
      "text/plain": [
       "('city', 'New York')"
      ]
     },
     "execution_count": 79,
     "metadata": {},
     "output_type": "execute_result"
    }
   ],
   "source": [
    "person.popitem() #basically deletes and returns the element, the last element"
   ]
  },
  {
   "cell_type": "code",
   "execution_count": 80,
   "id": "f28f507a-81d9-4d1a-8072-9b8912e6857e",
   "metadata": {},
   "outputs": [
    {
     "data": {
      "text/plain": [
       "{'name': 'Alice', 'age': 25}"
      ]
     },
     "execution_count": 80,
     "metadata": {},
     "output_type": "execute_result"
    }
   ],
   "source": [
    "person\n"
   ]
  },
  {
   "cell_type": "code",
   "execution_count": 81,
   "id": "680f3591-c666-4118-af01-d0298e2838fe",
   "metadata": {},
   "outputs": [
    {
     "name": "stdout",
     "output_type": "stream",
     "text": [
      "name: John\n",
      "age: 22\n",
      "grade: A\n",
      "Warcry: Never Out of the fight\n"
     ]
    }
   ],
   "source": [
    "for key, value in student.items():\n",
    "    print(f\"{key}: {value}\")"
   ]
  },
  {
   "cell_type": "code",
   "execution_count": 82,
   "id": "9e045c9d-f40f-4853-bdfa-6c6f39b6a0e0",
   "metadata": {},
   "outputs": [],
   "source": [
    "#in set we can put in immutable data structures, \n",
    "#the structures which we can't change, e.g tuples. , also key should always be unique, which is the property of immutabilty.\n"
   ]
  },
  {
   "cell_type": "code",
   "execution_count": 86,
   "id": "8f00058f-5880-47dc-a724-2cbc55e827fb",
   "metadata": {},
   "outputs": [],
   "source": [
    "person[12] = \"Kshitij\""
   ]
  },
  {
   "cell_type": "code",
   "execution_count": 87,
   "id": "feaee1e2-a852-4703-b201-4ce10b10d760",
   "metadata": {},
   "outputs": [
    {
     "data": {
      "text/plain": [
       "{'name': 'Alice', 'age': 25, 12: 'Kshitij'}"
      ]
     },
     "execution_count": 87,
     "metadata": {},
     "output_type": "execute_result"
    }
   ],
   "source": [
    "person"
   ]
  },
  {
   "cell_type": "code",
   "execution_count": 88,
   "id": "d713ad2f-4e5b-4f22-a6d1-db06600c8aba",
   "metadata": {},
   "outputs": [
    {
     "data": {
      "text/plain": [
       "dict_keys(['name', 'age', 'grade', 'Warcry'])"
      ]
     },
     "execution_count": 88,
     "metadata": {},
     "output_type": "execute_result"
    }
   ],
   "source": [
    "student.keys()"
   ]
  },
  {
   "cell_type": "code",
   "execution_count": 89,
   "id": "a16c3d79-44eb-42f7-baae-547460422000",
   "metadata": {},
   "outputs": [
    {
     "data": {
      "text/plain": [
       "dict_values(['John', 22, 'A', 'Never Out of the fight'])"
      ]
     },
     "execution_count": 89,
     "metadata": {},
     "output_type": "execute_result"
    }
   ],
   "source": [
    "student.values()"
   ]
  },
  {
   "cell_type": "code",
   "execution_count": 90,
   "id": "cb5738ff-b0b5-42cc-bf9a-bbccf45351d7",
   "metadata": {},
   "outputs": [
    {
     "data": {
      "text/plain": [
       "False"
      ]
     },
     "execution_count": 90,
     "metadata": {},
     "output_type": "execute_result"
    }
   ],
   "source": [
    "22 in student #basically we check the keys not the values\n"
   ]
  },
  {
   "cell_type": "code",
   "execution_count": 91,
   "id": "0cd27747-110f-4806-b7d0-86431e0a9dd6",
   "metadata": {},
   "outputs": [
    {
     "data": {
      "text/plain": [
       "True"
      ]
     },
     "execution_count": 91,
     "metadata": {},
     "output_type": "execute_result"
    }
   ],
   "source": [
    "\"name\" in student"
   ]
  },
  {
   "cell_type": "code",
   "execution_count": 93,
   "id": "fa55d642-dc35-46b4-8a77-77ab303a99c1",
   "metadata": {},
   "outputs": [],
   "source": [
    "student[\"record\"] = ( 1 , 2, 3, 4, 5, 6)\n"
   ]
  },
  {
   "cell_type": "code",
   "execution_count": 94,
   "id": "ee9b25c4-cc70-47b7-8a17-eba9bd7822d8",
   "metadata": {},
   "outputs": [
    {
     "data": {
      "text/plain": [
       "{'name': 'John',\n",
       " 'age': 22,\n",
       " 'grade': 'A',\n",
       " 'Warcry': 'Never Out of the fight',\n",
       " 'record': (1, 2, 3, 4, 5, 6)}"
      ]
     },
     "execution_count": 94,
     "metadata": {},
     "output_type": "execute_result"
    }
   ],
   "source": [
    "student"
   ]
  },
  {
   "cell_type": "code",
   "execution_count": 95,
   "id": "65c2a3ee-4455-4dc4-981f-5dc77868eba2",
   "metadata": {},
   "outputs": [
    {
     "data": {
      "text/plain": [
       "dict_items([('name', 'John'), ('age', 22), ('grade', 'A'), ('Warcry', 'Never Out of the fight'), ('record', (1, 2, 3, 4, 5, 6))])"
      ]
     },
     "execution_count": 95,
     "metadata": {},
     "output_type": "execute_result"
    }
   ],
   "source": [
    "student.items()"
   ]
  },
  {
   "cell_type": "code",
   "execution_count": 96,
   "id": "703da409-7d8d-46e7-8c67-7f12cf387d63",
   "metadata": {},
   "outputs": [
    {
     "name": "stdout",
     "output_type": "stream",
     "text": [
      "name John\n",
      "age 22\n",
      "grade A\n",
      "Warcry Never Out of the fight\n",
      "record (1, 2, 3, 4, 5, 6)\n"
     ]
    }
   ],
   "source": [
    "for k,v in student.items():\n",
    "    print(k,v) #This is basically unpacking "
   ]
  },
  {
   "cell_type": "code",
   "execution_count": 98,
   "id": "6386f772-5e3e-4f06-86a4-b47bbda3cb27",
   "metadata": {},
   "outputs": [
    {
     "name": "stdout",
     "output_type": "stream",
     "text": [
      "name John\n",
      "age 22\n",
      "grade A\n",
      "Warcry Never Out of the fight\n",
      "record (1, 2, 3, 4, 5, 6)\n"
     ]
    }
   ],
   "source": [
    "for k in student: #Here we are accessing elements \n",
    "    print(k, student[k])"
   ]
  },
  {
   "cell_type": "code",
   "execution_count": 99,
   "id": "0e0a57ea-451b-4b6a-8ccb-4c79e69b1f7a",
   "metadata": {},
   "outputs": [],
   "source": [
    "d = {}\n",
    "for i in range(10):\n",
    "    d[i] = i*i"
   ]
  },
  {
   "cell_type": "code",
   "execution_count": 100,
   "id": "a5f95b27-5350-440d-8cfe-de0433caa144",
   "metadata": {},
   "outputs": [
    {
     "data": {
      "text/plain": [
       "{0: 0, 1: 1, 2: 4, 3: 9, 4: 16, 5: 25, 6: 36, 7: 49, 8: 64, 9: 81}"
      ]
     },
     "execution_count": 100,
     "metadata": {},
     "output_type": "execute_result"
    }
   ],
   "source": [
    "d"
   ]
  },
  {
   "cell_type": "code",
   "execution_count": 101,
   "id": "b9d73b0b-48d8-4ed0-85a2-354dd06c9275",
   "metadata": {},
   "outputs": [],
   "source": [
    "d = { i : i**2 for i in range(10)}"
   ]
  },
  {
   "cell_type": "code",
   "execution_count": 102,
   "id": "018915a0-f4f2-4eee-a787-8e978080288c",
   "metadata": {},
   "outputs": [
    {
     "name": "stdout",
     "output_type": "stream",
     "text": [
      "{0: 0, 1: 1, 2: 4, 3: 9, 4: 16, 5: 25, 6: 36, 7: 49, 8: 64, 9: 81}\n"
     ]
    }
   ],
   "source": [
    "print(d)"
   ]
  },
  {
   "cell_type": "code",
   "execution_count": 103,
   "id": "beba7b3a-a2d9-4380-87ff-ed8bbb3d0881",
   "metadata": {},
   "outputs": [
    {
     "name": "stdout",
     "output_type": "stream",
     "text": [
      "Hello World\n",
      "This is \n",
      "a multi-line \n",
      "string\n"
     ]
    }
   ],
   "source": [
    "#strings in python\n",
    "# Single or double quotes\n",
    "s1 = 'Hello'\n",
    "s2 = \"World\"\n",
    "\n",
    "# Triple quotes (for multi-line strings)\n",
    "s3 = '''This is \n",
    "a multi-line \n",
    "string'''\n",
    "\n",
    "print(s1, s2)\n",
    "print(s3)"
   ]
  },
  {
   "cell_type": "code",
   "execution_count": 105,
   "id": "fb8789d3-8f5d-4961-801f-cfdba6b38db9",
   "metadata": {},
   "outputs": [
    {
     "data": {
      "text/plain": [
       "['H', 'e', 'l', 'l', 'o']"
      ]
     },
     "execution_count": 105,
     "metadata": {},
     "output_type": "execute_result"
    }
   ],
   "source": [
    "l = list(s1)\n",
    "l"
   ]
  },
  {
   "cell_type": "code",
   "execution_count": 107,
   "id": "763d37f2-5bac-4cb3-8e32-10cabaa2ad80",
   "metadata": {},
   "outputs": [
    {
     "data": {
      "text/plain": [
       "'o'"
      ]
     },
     "execution_count": 107,
     "metadata": {},
     "output_type": "execute_result"
    }
   ],
   "source": [
    "l[-1]"
   ]
  },
  {
   "cell_type": "code",
   "execution_count": 108,
   "id": "84a37fd8-eec6-447c-ac31-68c43cc1f8d1",
   "metadata": {},
   "outputs": [
    {
     "data": {
      "text/plain": [
       "'H'"
      ]
     },
     "execution_count": 108,
     "metadata": {},
     "output_type": "execute_result"
    }
   ],
   "source": [
    "l[0]"
   ]
  },
  {
   "cell_type": "code",
   "execution_count": 110,
   "id": "c115e75c-e383-4918-aaea-464f22cf00d3",
   "metadata": {},
   "outputs": [
    {
     "data": {
      "text/plain": [
       "('H', 'l')"
      ]
     },
     "execution_count": 110,
     "metadata": {},
     "output_type": "execute_result"
    }
   ],
   "source": [
    "s1[0], s1[2]"
   ]
  },
  {
   "cell_type": "code",
   "execution_count": 113,
   "id": "57d670bc-fd14-4ea7-94e4-4a0af60bd9e4",
   "metadata": {},
   "outputs": [
    {
     "data": {
      "text/plain": [
       "'Hello'"
      ]
     },
     "execution_count": 113,
     "metadata": {},
     "output_type": "execute_result"
    }
   ],
   "source": [
    "s1[0:5]"
   ]
  },
  {
   "cell_type": "code",
   "execution_count": 117,
   "id": "de9ceabb-db2f-4015-a6ed-d41b1d6f5a3c",
   "metadata": {},
   "outputs": [
    {
     "name": "stdout",
     "output_type": "stream",
     "text": [
      "False\n"
     ]
    }
   ],
   "source": [
    "str1 = \"123\"\n",
    "str2 = \"Hello, I am never out of the fight\"\n",
    "str3 = str(123)\n",
    "print(id(str1) == id(str3))"
   ]
  },
  {
   "cell_type": "code",
   "execution_count": 118,
   "id": "73b2f0e3-2141-4598-9045-412742e5793b",
   "metadata": {
    "scrolled": true
   },
   "outputs": [
    {
     "name": "stdout",
     "output_type": "stream",
     "text": [
      "True\n"
     ]
    }
   ],
   "source": [
    "str1 = \"123\"\n",
    "str2 = \"Hello\"\n",
    "str3 = str(\"123\")\n",
    "print(id(str1) == id(str3))"
   ]
  },
  {
   "cell_type": "code",
   "execution_count": 120,
   "id": "f5eef9de-1e49-4f0b-b560-4bf158aad55d",
   "metadata": {},
   "outputs": [
    {
     "name": "stdout",
     "output_type": "stream",
     "text": [
      "My name is Kshitij Sharma and I am 19 years old, I am never out of the fight\n"
     ]
    }
   ],
   "source": [
    "name = \"Kshitij Sharma\"\n",
    "age = 19\n",
    "print(f\"My name is {name} and I am {age} years old, I am never out of the fight\")"
   ]
  },
  {
   "cell_type": "code",
   "execution_count": 121,
   "id": "ad81001a-8ffe-4f7c-a862-8fdde210ff1f",
   "metadata": {},
   "outputs": [
    {
     "data": {
      "text/plain": [
       "['Hello']"
      ]
     },
     "execution_count": 121,
     "metadata": {},
     "output_type": "execute_result"
    }
   ],
   "source": [
    "str2.split()"
   ]
  },
  {
   "cell_type": "code",
   "execution_count": 122,
   "id": "54427883-371e-43fb-a843-3cd27e4730fb",
   "metadata": {},
   "outputs": [
    {
     "name": "stdout",
     "output_type": "stream",
     "text": [
      "['apple', 'banana', 'cherry']\n",
      "apple-banana-cherry\n"
     ]
    }
   ],
   "source": [
    "s = \"apple,banana,cherry\"\n",
    "words = s.split(\",\")  # ['apple', 'banana', 'cherry']\n",
    "print(words)\n",
    "\n",
    "new_s = \"-\".join(words)\n",
    "print(new_s)  # \"apple-banana-cherry\""
   ]
  },
  {
   "cell_type": "code",
   "execution_count": 123,
   "id": "b594eefc-4665-4fa2-88c4-5c08192043eb",
   "metadata": {},
   "outputs": [
    {
     "name": "stdout",
     "output_type": "stream",
     "text": [
      "True\n",
      "True\n",
      "True\n",
      "False\n"
     ]
    }
   ],
   "source": [
    "s = \"12345\"\n",
    "print(s.isdigit())  # True (Only numbers)\n",
    "\n",
    "s = \"Hello\"\n",
    "print(s.isalpha())  # True (Only letters)\n",
    "\n",
    "s = \"Hello123\"\n",
    "print(s.isalnum())  # True (Letters + numbers)\n",
    "\n",
    "s = \"hello world\"\n",
    "print(s.isspace())  # False (Not only spaces)"
   ]
  },
  {
   "cell_type": "code",
   "execution_count": 124,
   "id": "1326293e-3210-403a-8c8a-96b7f6231856",
   "metadata": {},
   "outputs": [
    {
     "name": "stdout",
     "output_type": "stream",
     "text": [
      "7\n",
      "Python is awesome\n"
     ]
    }
   ],
   "source": [
    "s = \"Python is fun\"\n",
    "print(s.find(\"is\"))     # 7 (Returns the index)\n",
    "print(s.replace(\"fun\", \"awesome\"))  # \"Python is awesome\"\n"
   ]
  },
  {
   "cell_type": "code",
   "execution_count": null,
   "id": "c0ebeb2d-4415-4434-b99f-d31f28161c6d",
   "metadata": {},
   "outputs": [],
   "source": []
  }
 ],
 "metadata": {
  "kernelspec": {
   "display_name": "Python 3 (ipykernel)",
   "language": "python",
   "name": "python3"
  },
  "language_info": {
   "codemirror_mode": {
    "name": "ipython",
    "version": 3
   },
   "file_extension": ".py",
   "mimetype": "text/x-python",
   "name": "python",
   "nbconvert_exporter": "python",
   "pygments_lexer": "ipython3",
   "version": "3.13.2"
  }
 },
 "nbformat": 4,
 "nbformat_minor": 5
}
