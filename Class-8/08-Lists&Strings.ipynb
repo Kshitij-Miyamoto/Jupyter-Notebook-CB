{
 "cells": [
  {
   "cell_type": "code",
   "execution_count": 1,
   "id": "f179a80d-db49-43c8-8f6d-0ffe26b564d8",
   "metadata": {},
   "outputs": [
    {
     "name": "stdout",
     "output_type": "stream",
     "text": [
      "Fearless Innocent Kshitij Sharma : 08\n"
     ]
    }
   ],
   "source": [
    "print(\"Fearless Innocent Kshitij Sharma : 08\")"
   ]
  },
  {
   "cell_type": "code",
   "execution_count": null,
   "id": "b01325f3-8143-4714-8704-a5a3296997e7",
   "metadata": {},
   "outputs": [],
   "source": [
    "#Arbitary Arguments \n",
    "#Function Decorators \n",
    "#iterators"
   ]
  },
  {
   "cell_type": "code",
   "execution_count": 5,
   "id": "b99e6376-6a25-49fd-bd61-095420f0a898",
   "metadata": {},
   "outputs": [],
   "source": [
    "def fn(*args):\n",
    "    print(args)\n",
    "#So basically we can use args in order to save any number of arguments "
   ]
  },
  {
   "cell_type": "code",
   "execution_count": 6,
   "id": "d984a90c-c1bf-4caf-94d6-e449133747af",
   "metadata": {},
   "outputs": [
    {
     "name": "stdout",
     "output_type": "stream",
     "text": [
      "(1, 2, 3, 4, 5, 6)\n"
     ]
    }
   ],
   "source": [
    "fn(1,2,3,4,5,6)"
   ]
  },
  {
   "cell_type": "code",
   "execution_count": 9,
   "id": "33555b4d-ca06-42a2-a9fe-4a8e136b21c0",
   "metadata": {},
   "outputs": [],
   "source": [
    "def fn(**kwargs):\n",
    "    print(kwargs)"
   ]
  },
  {
   "cell_type": "code",
   "execution_count": 10,
   "id": "6dc96fed-8a52-46ea-8461-f708be7b5865",
   "metadata": {},
   "outputs": [
    {
     "name": "stdout",
     "output_type": "stream",
     "text": [
      "{'a': 10, 'b': 20, 'c': 30}\n"
     ]
    }
   ],
   "source": [
    "fn(a = 10 , b = 20 , c = 30)"
   ]
  },
  {
   "cell_type": "code",
   "execution_count": 11,
   "id": "d2be3b89-41de-4859-8ef9-9b9db53f6d5c",
   "metadata": {},
   "outputs": [
    {
     "name": "stdout",
     "output_type": "stream",
     "text": [
      "6\n",
      "100\n"
     ]
    }
   ],
   "source": [
    "def add_numbers(*args):\n",
    "    return sum(args)\n",
    "\n",
    "print(add_numbers(1, 2, 3))       # Output: 6\n",
    "print(add_numbers(10, 20, 30, 40))  # Output: 100"
   ]
  },
  {
   "cell_type": "code",
   "execution_count": 12,
   "id": "276b240d-f73b-4f44-a96a-35c7b2ced114",
   "metadata": {},
   "outputs": [
    {
     "name": "stdout",
     "output_type": "stream",
     "text": [
      "Positional arguments: (1, 2, 3)\n",
      "Keyword arguments: {'name': 'Alice', 'age': 30}\n"
     ]
    }
   ],
   "source": [
    "def mix_args(*args, **kwargs): #(**kwargs , *args) this isn't permissable\n",
    "    print(\"Positional arguments:\", args)\n",
    "    print(\"Keyword arguments:\", kwargs)\n",
    "\n",
    "mix_args(1, 2, 3, name=\"Alice\", age=30)"
   ]
  },
  {
   "cell_type": "code",
   "execution_count": 13,
   "id": "754f85dc-75a8-4321-baa0-af44ceedb979",
   "metadata": {},
   "outputs": [
    {
     "name": "stdout",
     "output_type": "stream",
     "text": [
      "name: John\n",
      "age: 25\n",
      "city: New York\n"
     ]
    }
   ],
   "source": [
    "def print_info(**kwargs):\n",
    "    for key, value in kwargs.items():\n",
    "        print(f\"{key}: {value}\")\n",
    "\n",
    "print_info(name=\"John\", age=25, city=\"New York\")\n",
    "\n"
   ]
  },
  {
   "cell_type": "code",
   "execution_count": 16,
   "id": "4568fa05-a29b-4b8a-8419-6a2ab1b3fac3",
   "metadata": {},
   "outputs": [],
   "source": [
    "# Positional arguments (*args) → Values are passed without keys and are stored as a tuple.\n",
    "#Keyword arguments (**kwargs) → Values are passed with key-value pairs and are stored as a dictionary."
   ]
  },
  {
   "cell_type": "code",
   "execution_count": 17,
   "id": "2490636f-04f3-496f-aa3f-e74214167328",
   "metadata": {},
   "outputs": [],
   "source": [
    "def printHi():\n",
    "    print(\"Hi\")\n",
    "    "
   ]
  },
  {
   "cell_type": "code",
   "execution_count": 18,
   "id": "d51d043e-18cc-4f88-8c79-7bcd9e1813d9",
   "metadata": {},
   "outputs": [
    {
     "name": "stdout",
     "output_type": "stream",
     "text": [
      "Hi\n"
     ]
    }
   ],
   "source": [
    "printHi()"
   ]
  },
  {
   "cell_type": "code",
   "execution_count": 27,
   "id": "93f0efb1-9c0d-464a-b397-630bd90859b1",
   "metadata": {},
   "outputs": [],
   "source": [
    "user = {\n",
    "    \"Shubham\" : 1234,\n",
    "    \"Kshitij\" : \"Neveroutofthefight\"\n",
    "}"
   ]
  },
  {
   "cell_type": "code",
   "execution_count": 41,
   "id": "99db449f-86ec-466c-8ee1-64820d9db1db",
   "metadata": {},
   "outputs": [],
   "source": [
    "def protectedHi(username , password):\n",
    "    if username in user and password == user[username]:\n",
    "        printHi()\n",
    "    else:\n",
    "        print(\"Wrong username or Password\")\n",
    "        "
   ]
  },
  {
   "cell_type": "code",
   "execution_count": 42,
   "id": "34c3e726-c822-4a20-8480-88ce12359a77",
   "metadata": {},
   "outputs": [
    {
     "name": "stdout",
     "output_type": "stream",
     "text": [
      "Hi\n"
     ]
    }
   ],
   "source": [
    "protectedHi(\"Kshitij\" , \"Neveroutofthefight\")"
   ]
  },
  {
   "cell_type": "code",
   "execution_count": 52,
   "id": "93105349-0235-4134-a382-39deaca028a7",
   "metadata": {},
   "outputs": [],
   "source": [
    "def add(a , b , c):\n",
    "    return a+b+c"
   ]
  },
  {
   "cell_type": "code",
   "execution_count": 53,
   "id": "785864eb-27d7-4f1b-a876-6d94697d5170",
   "metadata": {},
   "outputs": [],
   "source": [
    "def protectedADD(username , password, *args , **kwargs):\n",
    "    if username in user and password == user[username]:\n",
    "       return add(*args , *kwargs)\n",
    "    else:\n",
    "        print(\"Wrong Username or Password\")"
   ]
  },
  {
   "cell_type": "code",
   "execution_count": 54,
   "id": "f12d6571-4539-4b26-8b0e-98003f92f812",
   "metadata": {},
   "outputs": [
    {
     "name": "stdout",
     "output_type": "stream",
     "text": [
      "Wrong Username or Password\n"
     ]
    }
   ],
   "source": [
    "protectedADD(12 , 1234)"
   ]
  },
  {
   "cell_type": "code",
   "execution_count": 55,
   "id": "64adab4d-a4f5-4583-ac83-a0e2f2ab70c1",
   "metadata": {},
   "outputs": [
    {
     "data": {
      "text/plain": [
       "60"
      ]
     },
     "execution_count": 55,
     "metadata": {},
     "output_type": "execute_result"
    }
   ],
   "source": [
    "protectedADD(\"Shubham\" , 1234, 10, 20, 30)"
   ]
  },
  {
   "cell_type": "code",
   "execution_count": 59,
   "id": "52bdfa75-4523-4316-aad1-685eb9e6b5bf",
   "metadata": {},
   "outputs": [],
   "source": [
    "def authenticate(fn):\n",
    "    def wrapper(username , password, *args , **kwargs):\n",
    "      if username in user and password == user[username]:\n",
    "         return fn(*args , *kwargs)\n",
    "      else:\n",
    "         print(\"Wrong Username or Password\")\n",
    "    return wrapper\n",
    "    "
   ]
  },
  {
   "cell_type": "code",
   "execution_count": 65,
   "id": "b65fa7d4-43c0-4f9e-aae5-815d6f7e7c72",
   "metadata": {},
   "outputs": [],
   "source": [
    "def prod(a , b , c):\n",
    "    return a*b*c\n",
    "prod = authenticate(prod) #We can basically use authenticate in every function, by just using this."
   ]
  },
  {
   "cell_type": "code",
   "execution_count": 66,
   "id": "b0766bbb-f2b8-4767-9183-b07f8c2335bd",
   "metadata": {},
   "outputs": [
    {
     "data": {
      "text/plain": [
       "6000"
      ]
     },
     "execution_count": 66,
     "metadata": {},
     "output_type": "execute_result"
    }
   ],
   "source": [
    "prod(\"Shubham\", 1234, 10 , 20, 30)"
   ]
  },
  {
   "cell_type": "code",
   "execution_count": 67,
   "id": "42c19096-36b3-4e6f-bae6-c0955f44b9c9",
   "metadata": {},
   "outputs": [],
   "source": [
    "@authenticate #also known as function decorator\n",
    "def abc():\n",
    "    print('xyz')\n",
    "#@authenticate basically helps us to run au"
   ]
  },
  {
   "cell_type": "code",
   "execution_count": 68,
   "id": "55af2b0b-46d7-41fe-9ee0-0c35f6f46273",
   "metadata": {},
   "outputs": [
    {
     "name": "stdout",
     "output_type": "stream",
     "text": [
      "xyz\n"
     ]
    }
   ],
   "source": [
    "abc(\"Shubham\", 1234)\n"
   ]
  },
  {
   "cell_type": "code",
   "execution_count": null,
   "id": "b506fcec-3f88-41b0-b9b1-e79eb6ce8dd0",
   "metadata": {},
   "outputs": [],
   "source": []
  }
 ],
 "metadata": {
  "kernelspec": {
   "display_name": "Python 3 (ipykernel)",
   "language": "python",
   "name": "python3"
  },
  "language_info": {
   "codemirror_mode": {
    "name": "ipython",
    "version": 3
   },
   "file_extension": ".py",
   "mimetype": "text/x-python",
   "name": "python",
   "nbconvert_exporter": "python",
   "pygments_lexer": "ipython3",
   "version": "3.13.2"
  }
 },
 "nbformat": 4,
 "nbformat_minor": 5
}
