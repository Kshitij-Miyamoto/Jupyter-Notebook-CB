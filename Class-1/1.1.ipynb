{
 "cells": [
  {
   "cell_type": "code",
   "execution_count": 12,
   "id": "89758b24-c08f-408b-a178-a3804c2097da",
   "metadata": {},
   "outputs": [
    {
     "name": "stdin",
     "output_type": "stream",
     "text": [
      "Enter the marks:  -12\n"
     ]
    },
    {
     "name": "stdout",
     "output_type": "stream",
     "text": [
      "Invalid\n"
     ]
    }
   ],
   "source": [
    "a = int(input(\"Enter the marks: \")) \n",
    "\n",
    "if a > 100 or a < 0:\n",
    "    print(\"Invalid\")\n",
    "    \n",
    "elif 80 < a <= 100:\n",
    "    print(\"Oustanding\")\n",
    "\n",
    "elif 60 < a <= 80:\n",
    "    print(\"Good\")\n",
    "\n",
    "elif 40 < a <= 60:\n",
    "    print(\"Satisfactory\")\n",
    "\n",
    "else:\n",
    "    print(\"Fail\")\n",
    "\n",
    "     \n"
   ]
  },
  {
   "cell_type": "code",
   "execution_count": null,
   "id": "1ccb3833-eeac-4cfc-b181-0445a9d3f382",
   "metadata": {},
   "outputs": [],
   "source": []
  }
 ],
 "metadata": {
  "kernelspec": {
   "display_name": "Python 3 (ipykernel)",
   "language": "python",
   "name": "python3"
  },
  "language_info": {
   "codemirror_mode": {
    "name": "ipython",
    "version": 3
   },
   "file_extension": ".py",
   "mimetype": "text/x-python",
   "name": "python",
   "nbconvert_exporter": "python",
   "pygments_lexer": "ipython3",
   "version": "3.13.2"
  }
 },
 "nbformat": 4,
 "nbformat_minor": 5
}
