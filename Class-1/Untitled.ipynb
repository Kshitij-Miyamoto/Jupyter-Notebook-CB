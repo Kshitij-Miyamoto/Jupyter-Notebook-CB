{
 "cells": [
  {
   "cell_type": "code",
   "execution_count": 15,
   "id": "b85536a1-82bd-4568-852c-e680936a9183",
   "metadata": {},
   "outputs": [
    {
     "name": "stdin",
     "output_type": "stream",
     "text": [
      "Enter the number :  11\n"
     ]
    },
    {
     "name": "stdout",
     "output_type": "stream",
     "text": [
      "1\n",
      "11\n",
      "The number of factors are :  2\n"
     ]
    }
   ],
   "source": [
    "facnt = 0 \n",
    "n = int(input(\"Enter the number : \" ))\n",
    "i = 1 \n",
    "while(n >= i ):\n",
    "    if(n%i ==0):\n",
    "        print(i)\n",
    "        facnt = facnt + 1 \n",
    "        \n",
    "    i = i+1\n",
    "\n",
    "print(\"The number of factors are : \", facnt)\n",
    "\n",
    "\n",
    "              \n",
    "              \n",
    "        "
   ]
  },
  {
   "cell_type": "code",
   "execution_count": null,
   "id": "29ddc71d-fe49-4d79-8747-0cc0b1781643",
   "metadata": {},
   "outputs": [],
   "source": []
  },
  {
   "cell_type": "code",
   "execution_count": null,
   "id": "daef6b77-6106-49af-8ddd-df2ff3482cc4",
   "metadata": {},
   "outputs": [],
   "source": []
  }
 ],
 "metadata": {
  "kernelspec": {
   "display_name": "Python 3 (ipykernel)",
   "language": "python",
   "name": "python3"
  },
  "language_info": {
   "codemirror_mode": {
    "name": "ipython",
    "version": 3
   },
   "file_extension": ".py",
   "mimetype": "text/x-python",
   "name": "python",
   "nbconvert_exporter": "python",
   "pygments_lexer": "ipython3",
   "version": "3.13.2"
  }
 },
 "nbformat": 4,
 "nbformat_minor": 5
}
