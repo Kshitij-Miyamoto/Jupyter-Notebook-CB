{
 "cells": [
  {
   "cell_type": "code",
   "execution_count": null,
   "id": "eb9d2dbb-e5a1-4f00-bbb1-1c6594ad0fe4",
   "metadata": {},
   "outputs": [],
   "source": [
    "#Class : 12, Never out of the fight, never affected by the fight."
   ]
  },
  {
   "cell_type": "code",
   "execution_count": 6,
   "id": "634a2556-05c7-40d5-a48c-8e1c3b417d0f",
   "metadata": {},
   "outputs": [
    {
     "name": "stdout",
     "output_type": "stream",
     "text": [
      "[5 7 9]\n"
     ]
    }
   ],
   "source": [
    "import numpy as np #it is bascially a library for array manuplations\n",
    "a = np.array([1, 2, 3])\n",
    "b = np.array([4, 5, 6])\n",
    "print(a + b)  # Output: [5 7 9]"
   ]
  },
  {
   "cell_type": "code",
   "execution_count": 7,
   "id": "600d1dd2-6aea-4a55-9d82-989937b204a2",
   "metadata": {},
   "outputs": [],
   "source": [
    "# basically helps in doing scientific calculations in python."
   ]
  },
  {
   "cell_type": "code",
   "execution_count": 8,
   "id": "c4da9b5d-47ff-4b45-8ec3-311953dfad74",
   "metadata": {},
   "outputs": [
    {
     "name": "stdout",
     "output_type": "stream",
     "text": [
      "[ 4 10 18]\n",
      "[1 4 9]\n",
      "[16 25 36]\n"
     ]
    }
   ],
   "source": [
    "a = np.array([1, 2, 3])\n",
    "b = np.array([4, 5, 6])\n",
    "print(a * b)        # [4 10 18]\n",
    "print(a ** 2)       # [1 4 9]\n",
    "print(b ** 2) "
   ]
  },
  {
   "cell_type": "code",
   "execution_count": 9,
   "id": "fcb79820-a6f6-49b3-ba5f-4c8e24a09a51",
   "metadata": {},
   "outputs": [
    {
     "data": {
      "text/plain": [
       "array([[1., 0., 0.],\n",
       "       [0., 1., 0.],\n",
       "       [0., 0., 1.]])"
      ]
     },
     "execution_count": 9,
     "metadata": {},
     "output_type": "execute_result"
    }
   ],
   "source": [
    "np.eye(3)   "
   ]
  },
  {
   "cell_type": "code",
   "execution_count": 10,
   "id": "23a9784e-4c74-4794-9464-f3614ba0cad6",
   "metadata": {},
   "outputs": [
    {
     "data": {
      "text/plain": [
       "array([[1., 1., 1.],\n",
       "       [1., 1., 1.],\n",
       "       [1., 1., 1.]])"
      ]
     },
     "execution_count": 10,
     "metadata": {},
     "output_type": "execute_result"
    }
   ],
   "source": [
    "np.ones((3, 3))    #3*3 matrix with ones  "
   ]
  },
  {
   "cell_type": "code",
   "execution_count": 12,
   "id": "5489026a-3c57-418c-9c7d-50bfc1cc0a46",
   "metadata": {},
   "outputs": [
    {
     "data": {
      "text/plain": [
       "array([20, 30])"
      ]
     },
     "execution_count": 12,
     "metadata": {},
     "output_type": "execute_result"
    }
   ],
   "source": [
    "\n",
    "a = np.array([10, 20, 30, 40])\n",
    "a[1:3]"
   ]
  },
  {
   "cell_type": "code",
   "execution_count": 16,
   "id": "b027f49d-4ac3-402f-952a-099b9cb89c49",
   "metadata": {},
   "outputs": [
    {
     "data": {
      "text/plain": [
       "array([0.  , 0.25, 0.5 , 0.75, 1.  ])"
      ]
     },
     "execution_count": 16,
     "metadata": {},
     "output_type": "execute_result"
    }
   ],
   "source": [
    "np.zeros((2, 3))     # 2x3 matrix of zeros\n",
    "np.ones((3, 2))      # 3x2 matrix of ones\n",
    "np.eye(3)            # 3x3 Identity matrix\n",
    "np.arange(0, 10, 2)  # [0 2 4 6 8]\n",
    "np.linspace(0, 1, 5) # [0.   0.25 0.5  0.75 1.]"
   ]
  },
  {
   "cell_type": "code",
   "execution_count": 17,
   "id": "bfc8711d-8361-4be4-be50-8cc7dc4a6718",
   "metadata": {},
   "outputs": [
    {
     "data": {
      "text/plain": [
       "array([[0., 0., 0.],\n",
       "       [0., 0., 0.]])"
      ]
     },
     "execution_count": 17,
     "metadata": {},
     "output_type": "execute_result"
    }
   ],
   "source": [
    "np.zeros((2, 3)) "
   ]
  },
  {
   "cell_type": "code",
   "execution_count": 45,
   "id": "a7e2db35-d296-4160-adca-2c1e28278473",
   "metadata": {},
   "outputs": [
    {
     "name": "stdout",
     "output_type": "stream",
     "text": [
      "2.2.3\n"
     ]
    }
   ],
   "source": [
    "import numpy as np\n",
    "print(np.__version__)\n"
   ]
  },
  {
   "cell_type": "code",
   "execution_count": 61,
   "id": "26fb36b0-aba0-447f-96d7-48be86ee1929",
   "metadata": {},
   "outputs": [],
   "source": [
    "l1 = [1,2,3,4]\n",
    "l2 = [[1,2],[3,4],[5,6]] #Numpy is considering the list as an object here.\n",
    "l3 = [[[10, 20], [30, 40]], [[1, 2], [3, 4]]]\n",
    "\n"
   ]
  },
  {
   "cell_type": "code",
   "execution_count": 68,
   "id": "b4fc79d3-d5b7-48d0-9069-19d9864d3f15",
   "metadata": {},
   "outputs": [],
   "source": [
    "n1 = np.array(l1)\n",
    "n2 = np.array(l2, dtype  = 'object')\n",
    "n3 = np.array(l3)"
   ]
  },
  {
   "cell_type": "code",
   "execution_count": 77,
   "id": "0dbc0079-2157-485e-951e-1a2dd77353a6",
   "metadata": {},
   "outputs": [
    {
     "data": {
      "text/plain": [
       "numpy.ndarray"
      ]
     },
     "execution_count": 77,
     "metadata": {},
     "output_type": "execute_result"
    }
   ],
   "source": [
    "type(n1)\n",
    "type(n2)\n",
    "type(n2)"
   ]
  },
  {
   "cell_type": "code",
   "execution_count": 78,
   "id": "2a887c4d-639c-4756-b548-b36a926d4353",
   "metadata": {},
   "outputs": [
    {
     "name": "stdout",
     "output_type": "stream",
     "text": [
      "[1 2 3 4]\n"
     ]
    }
   ],
   "source": [
    "print(n1)"
   ]
  },
  {
   "cell_type": "code",
   "execution_count": 79,
   "id": "f10bf2c7-1f60-4db1-8e75-51b20d68cc4f",
   "metadata": {},
   "outputs": [
    {
     "data": {
      "text/plain": [
       "(4,)"
      ]
     },
     "execution_count": 79,
     "metadata": {},
     "output_type": "execute_result"
    }
   ],
   "source": [
    "n1.shape #basically gives us the shape."
   ]
  },
  {
   "cell_type": "code",
   "execution_count": 80,
   "id": "95feb433-761b-4f51-a5ea-2b17aea79c49",
   "metadata": {},
   "outputs": [
    {
     "data": {
      "text/plain": [
       "(3, 2)"
      ]
     },
     "execution_count": 80,
     "metadata": {},
     "output_type": "execute_result"
    }
   ],
   "source": [
    "n2.shape"
   ]
  },
  {
   "cell_type": "code",
   "execution_count": 73,
   "id": "1de9e5fb-cebf-417e-bd69-c7f6784286e3",
   "metadata": {},
   "outputs": [
    {
     "data": {
      "text/plain": [
       "(2, 2, 2)"
      ]
     },
     "execution_count": 73,
     "metadata": {},
     "output_type": "execute_result"
    }
   ],
   "source": [
    "n3.shape"
   ]
  },
  {
   "cell_type": "code",
   "execution_count": 75,
   "id": "da8d9910-d7fc-4c30-b5c1-9ee1c0031c59",
   "metadata": {},
   "outputs": [
    {
     "name": "stdout",
     "output_type": "stream",
     "text": [
      "3 3\n"
     ]
    }
   ],
   "source": [
    "print(l1[2] ,n1[2])"
   ]
  },
  {
   "cell_type": "code",
   "execution_count": 81,
   "id": "90e7badd-5726-4577-92fa-62404f334f98",
   "metadata": {},
   "outputs": [
    {
     "name": "stdout",
     "output_type": "stream",
     "text": [
      "30 30\n"
     ]
    }
   ],
   "source": [
    "print(l3[0][1][0],n3[0,1,0])"
   ]
  },
  {
   "cell_type": "code",
   "execution_count": 82,
   "id": "60a9392a-4043-495a-b93c-544c31f5d188",
   "metadata": {},
   "outputs": [
    {
     "data": {
      "text/plain": [
       "dtype('int64')"
      ]
     },
     "execution_count": 82,
     "metadata": {},
     "output_type": "execute_result"
    }
   ],
   "source": [
    "n1.dtype"
   ]
  },
  {
   "cell_type": "code",
   "execution_count": 84,
   "id": "b889e14e-1238-49a3-8b3a-5da51115d45d",
   "metadata": {},
   "outputs": [
    {
     "data": {
      "text/plain": [
       "dtype('int64')"
      ]
     },
     "execution_count": 84,
     "metadata": {},
     "output_type": "execute_result"
    }
   ],
   "source": [
    "n3.dtype"
   ]
  },
  {
   "cell_type": "code",
   "execution_count": 88,
   "id": "a6c16a28-472b-455b-9b82-723245456e47",
   "metadata": {},
   "outputs": [],
   "source": [
    "narr = np.arange(1,11)"
   ]
  },
  {
   "cell_type": "code",
   "execution_count": 89,
   "id": "98dca8cd-2e16-4b4e-8d82-a615625d2433",
   "metadata": {},
   "outputs": [
    {
     "name": "stdout",
     "output_type": "stream",
     "text": [
      "[ 1  2  3  4  5  6  7  8  9 10]\n"
     ]
    }
   ],
   "source": [
    "print(narr)"
   ]
  },
  {
   "cell_type": "code",
   "execution_count": 91,
   "id": "7b5e8c46-ca3f-4db9-bb5f-6ee1e1f8dd44",
   "metadata": {},
   "outputs": [
    {
     "data": {
      "text/plain": [
       "array([ 1.  ,  3.25,  5.5 ,  7.75, 10.  ])"
      ]
     },
     "execution_count": 91,
     "metadata": {},
     "output_type": "execute_result"
    }
   ],
   "source": [
    "np.linspace(1,10,5) #2.25 in between [1,10]"
   ]
  },
  {
   "cell_type": "code",
   "execution_count": 99,
   "id": "56f5d6b0-c18b-414e-8df2-939a3b3cf444",
   "metadata": {},
   "outputs": [
    {
     "data": {
      "text/plain": [
       "array([[[1, 1, 1],\n",
       "        [1, 1, 1]],\n",
       "\n",
       "       [[1, 1, 1],\n",
       "        [1, 1, 1]],\n",
       "\n",
       "       [[1, 1, 1],\n",
       "        [1, 1, 1]]])"
      ]
     },
     "execution_count": 99,
     "metadata": {},
     "output_type": "execute_result"
    }
   ],
   "source": [
    "np.ones(shape = (3,2,3) , dtype='int')"
   ]
  },
  {
   "cell_type": "code",
   "execution_count": 102,
   "id": "d7cec0b9-bee1-4499-b09a-486946abe3fa",
   "metadata": {},
   "outputs": [
    {
     "name": "stdout",
     "output_type": "stream",
     "text": [
      "[1 2 3]\n",
      "int64\n"
     ]
    }
   ],
   "source": [
    "a = np.array([1, 2, 3], dtype='int')\n",
    "print(a)        # [1. 2. 3.]\n",
    "print(a.dtype)  # int64"
   ]
  },
  {
   "cell_type": "code",
   "execution_count": 104,
   "id": "12b93257-11cf-4955-a877-97202bc17018",
   "metadata": {},
   "outputs": [
    {
     "data": {
      "text/plain": [
       "array([[1, 1],\n",
       "       [1, 1],\n",
       "       [1, 1],\n",
       "       [1, 1],\n",
       "       [1, 1]])"
      ]
     },
     "execution_count": 104,
     "metadata": {},
     "output_type": "execute_result"
    }
   ],
   "source": [
    "np.ones(shape = (5,2) , dtype = 'int')"
   ]
  },
  {
   "cell_type": "code",
   "execution_count": 106,
   "id": "5372061e-42e7-4a83-86ec-6d5e9674b35b",
   "metadata": {},
   "outputs": [],
   "source": [
    "narr = np.arange(1,101)"
   ]
  },
  {
   "cell_type": "code",
   "execution_count": 108,
   "id": "8e96ca9d-f3ff-4c42-8656-727f726cd84a",
   "metadata": {},
   "outputs": [],
   "source": [
    "narr = narr.reshape(10,10)"
   ]
  },
  {
   "cell_type": "code",
   "execution_count": 109,
   "id": "e3d0c174-b969-4e89-8b14-cb5de3a6b344",
   "metadata": {},
   "outputs": [
    {
     "data": {
      "text/plain": [
       "array([[  1,   2,   3,   4,   5,   6,   7,   8,   9,  10],\n",
       "       [ 11,  12,  13,  14,  15,  16,  17,  18,  19,  20],\n",
       "       [ 21,  22,  23,  24,  25,  26,  27,  28,  29,  30],\n",
       "       [ 31,  32,  33,  34,  35,  36,  37,  38,  39,  40],\n",
       "       [ 41,  42,  43,  44,  45,  46,  47,  48,  49,  50],\n",
       "       [ 51,  52,  53,  54,  55,  56,  57,  58,  59,  60],\n",
       "       [ 61,  62,  63,  64,  65,  66,  67,  68,  69,  70],\n",
       "       [ 71,  72,  73,  74,  75,  76,  77,  78,  79,  80],\n",
       "       [ 81,  82,  83,  84,  85,  86,  87,  88,  89,  90],\n",
       "       [ 91,  92,  93,  94,  95,  96,  97,  98,  99, 100]])"
      ]
     },
     "execution_count": 109,
     "metadata": {},
     "output_type": "execute_result"
    }
   ],
   "source": [
    "narr"
   ]
  },
  {
   "cell_type": "code",
   "execution_count": 110,
   "id": "7246d96a-27b0-4088-aaa7-fbd4347357fa",
   "metadata": {},
   "outputs": [
    {
     "data": {
      "text/plain": [
       "array([[[-0.35082103,  0.87689349],\n",
       "        [-1.65026394,  0.71456948]],\n",
       "\n",
       "       [[-0.00611269, -0.43579516],\n",
       "        [-0.3070612 ,  1.13938521]],\n",
       "\n",
       "       [[-0.17298134,  0.8056248 ],\n",
       "        [ 1.1278695 , -0.4852198 ]]])"
      ]
     },
     "execution_count": 110,
     "metadata": {},
     "output_type": "execute_result"
    }
   ],
   "source": [
    "np.random.randn(3,2,2)"
   ]
  },
  {
   "cell_type": "code",
   "execution_count": 112,
   "id": "43a4c78f-19dc-4d1f-8670-940f6ceb65c3",
   "metadata": {},
   "outputs": [
    {
     "data": {
      "text/plain": [
       "array([[0.21619621, 0.82983575],\n",
       "       [0.61225883, 0.22321155],\n",
       "       [0.4809446 , 0.48481602],\n",
       "       [0.48380833, 0.56070533],\n",
       "       [0.8835038 , 0.76160669]])"
      ]
     },
     "execution_count": 112,
     "metadata": {},
     "output_type": "execute_result"
    }
   ],
   "source": [
    "np.random.random(size=(5,2))"
   ]
  },
  {
   "cell_type": "code",
   "execution_count": 114,
   "id": "85151726-69cb-490e-9e91-6f253f50a869",
   "metadata": {},
   "outputs": [
    {
     "data": {
      "text/plain": [
       "array([[98, 72],\n",
       "       [45, 10],\n",
       "       [70, 44],\n",
       "       [35, 19],\n",
       "       [43, 39]])"
      ]
     },
     "execution_count": 114,
     "metadata": {},
     "output_type": "execute_result"
    }
   ],
   "source": [
    "np.random.randint(1,101,size=(5,2))"
   ]
  },
  {
   "cell_type": "code",
   "execution_count": 117,
   "id": "49a4be48-c38a-44fe-b387-32e6fc12018f",
   "metadata": {},
   "outputs": [
    {
     "data": {
      "text/plain": [
       "array([6, 7, 5, 7, 8])"
      ]
     },
     "execution_count": 117,
     "metadata": {},
     "output_type": "execute_result"
    }
   ],
   "source": [
    "np.random.choice(np.array([1,2,3,4,5,6,7,8,9]),size=(5,),replace= True,p = [0,0,0,0,0.1,0.2,0.3,0.4,0])"
   ]
  },
  {
   "cell_type": "code",
   "execution_count": 122,
   "id": "9437ea35-19d0-4fbe-b940-bb07425d7238",
   "metadata": {},
   "outputs": [],
   "source": [
    "narr = np.arange(1,101)\n",
    "np.random.shuffle(narr)#basicaly shuffling will happen !!"
   ]
  },
  {
   "cell_type": "code",
   "execution_count": 123,
   "id": "e793162b-ef57-4b7c-bd7c-66ef177b6673",
   "metadata": {},
   "outputs": [
    {
     "data": {
      "text/plain": [
       "array([ 19,   5,  95,  26,  35,  42,  75,  45,  94,   4,  87,  71,  56,\n",
       "        83,  15,  23,  14,  85,  90,  20,  93,   1,  91,  30,   9,  96,\n",
       "        52,   3,  47,  29,  88,  63,  18,  76,  80,  69,  64,  22,  58,\n",
       "        66,  17,  51,  82,  33,  72,  53,  38,  50,  44,  59,  49,  92,\n",
       "        97,  25,  39,  12,  55,   7,  65,  67,  11,  41,  10,  99,  34,\n",
       "        81,  46,  28,  24,  86,  21,  57,  60,  32,  16,   8,   6,   2,\n",
       "        98,  73,  61,  79,  84,  89,  31,  48,  40,  27,  70,  54,  13,\n",
       "        62,  77,  37,  68, 100,  36,  78,  74,  43])"
      ]
     },
     "execution_count": 123,
     "metadata": {},
     "output_type": "execute_result"
    }
   ],
   "source": [
    "narr"
   ]
  },
  {
   "cell_type": "code",
   "execution_count": 126,
   "id": "20c81599-8179-475a-a8bc-89987c9b42e9",
   "metadata": {},
   "outputs": [
    {
     "data": {
      "text/plain": [
       "array([  1,   2,   3,   4,   5,   6,   7,   8,   9,  10,  11,  12,  13,\n",
       "        14,  15,  16,  17,  18,  19,  20,  21,  22,  23,  24,  25,  26,\n",
       "        27,  28,  29,  30,  31,  32,  33,  34,  35,  36,  37,  38,  39,\n",
       "        40,  41,  42,  43,  44,  45,  46,  47,  48,  49,  50,  51,  52,\n",
       "        53,  54,  55,  56,  57,  58,  59,  60,  61,  62,  63,  64,  65,\n",
       "        66,  67,  68,  69,  70,  71,  72,  73,  74,  75,  76,  77,  78,\n",
       "        79,  80,  81,  82,  83,  84,  85,  86,  87,  88,  89,  90,  91,\n",
       "        92,  93,  94,  95,  96,  97,  98,  99, 100])"
      ]
     },
     "execution_count": 126,
     "metadata": {},
     "output_type": "execute_result"
    }
   ],
   "source": [
    "\n",
    "narr.reshape((-1,))"
   ]
  },
  {
   "cell_type": "code",
   "execution_count": 134,
   "id": "91b65d6b-185d-4ae1-9662-87bbda8686d5",
   "metadata": {},
   "outputs": [],
   "source": [
    "narr[1] = 350 #narr[1,4,4] = 350 "
   ]
  },
  {
   "cell_type": "code",
   "execution_count": 135,
   "id": "1b67d580-1cf2-4ba8-a57c-b03319ec1f71",
   "metadata": {},
   "outputs": [
    {
     "data": {
      "text/plain": [
       "array([  1, 350,   3,   4, 350,   6,   7,   8,   9,  10,  11,  12,  13,\n",
       "        14,  15,  16,  17,  18,  19,  20,  21,  22,  23,  24,  25,  26,\n",
       "        27,  28,  29,  30,  31,  32,  33,  34,  35,  36,  37,  38,  39,\n",
       "        40,  41,  42,  43,  44,  45,  46,  47,  48,  49,  50,  51,  52,\n",
       "        53,  54,  55,  56,  57,  58,  59,  60,  61,  62,  63,  64,  65,\n",
       "        66,  67,  68,  69,  70,  71,  72,  73,  74,  75,  76,  77,  78,\n",
       "        79,  80,  81,  82,  83,  84,  85,  86,  87,  88,  89,  90,  91,\n",
       "        92,  93,  94,  95,  96,  97,  98,  99, 100])"
      ]
     },
     "execution_count": 135,
     "metadata": {},
     "output_type": "execute_result"
    }
   ],
   "source": [
    "narr"
   ]
  },
  {
   "cell_type": "code",
   "execution_count": 136,
   "id": "ce23905c-c842-4468-9a1d-ad7d4c129ce4",
   "metadata": {},
   "outputs": [],
   "source": [
    "narr = np.arange(1,101).reshape((10,10))"
   ]
  },
  {
   "cell_type": "code",
   "execution_count": 137,
   "id": "71986e87-ed77-4ff2-a5f9-ee0fb6d4ee6a",
   "metadata": {},
   "outputs": [
    {
     "data": {
      "text/plain": [
       "array([[  1,   2,   3,   4,   5,   6,   7,   8,   9,  10],\n",
       "       [ 11,  12,  13,  14,  15,  16,  17,  18,  19,  20],\n",
       "       [ 21,  22,  23,  24,  25,  26,  27,  28,  29,  30],\n",
       "       [ 31,  32,  33,  34,  35,  36,  37,  38,  39,  40],\n",
       "       [ 41,  42,  43,  44,  45,  46,  47,  48,  49,  50],\n",
       "       [ 51,  52,  53,  54,  55,  56,  57,  58,  59,  60],\n",
       "       [ 61,  62,  63,  64,  65,  66,  67,  68,  69,  70],\n",
       "       [ 71,  72,  73,  74,  75,  76,  77,  78,  79,  80],\n",
       "       [ 81,  82,  83,  84,  85,  86,  87,  88,  89,  90],\n",
       "       [ 91,  92,  93,  94,  95,  96,  97,  98,  99, 100]])"
      ]
     },
     "execution_count": 137,
     "metadata": {},
     "output_type": "execute_result"
    }
   ],
   "source": [
    "narr"
   ]
  },
  {
   "cell_type": "code",
   "execution_count": null,
   "id": "76cd3fca-a41e-433a-bbcc-0195310b4493",
   "metadata": {},
   "outputs": [],
   "source": []
  }
 ],
 "metadata": {
  "kernelspec": {
   "display_name": "Python 3 (ipykernel)",
   "language": "python",
   "name": "python3"
  },
  "language_info": {
   "codemirror_mode": {
    "name": "ipython",
    "version": 3
   },
   "file_extension": ".py",
   "mimetype": "text/x-python",
   "name": "python",
   "nbconvert_exporter": "python",
   "pygments_lexer": "ipython3",
   "version": "3.13.2"
  }
 },
 "nbformat": 4,
 "nbformat_minor": 5
}
