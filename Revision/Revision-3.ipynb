{
 "cells": [
  {
   "cell_type": "code",
   "execution_count": 1,
   "id": "205fd509-73cc-4c4f-9c58-cef7ab0e2d7c",
   "metadata": {},
   "outputs": [
    {
     "name": "stdout",
     "output_type": "stream",
     "text": [
      "Lists and tuples Revision\n"
     ]
    }
   ],
   "source": [
    "print(\"Lists and tuples Revision\")"
   ]
  },
  {
   "cell_type": "code",
   "execution_count": 5,
   "id": "50389160-80c8-41d2-9e22-41d727b8e6ce",
   "metadata": {},
   "outputs": [],
   "source": [
    "l = [ 10, 20, 30, 40, 50]\n"
   ]
  },
  {
   "cell_type": "code",
   "execution_count": 6,
   "id": "7f51daaf-5e83-4ed9-ae3c-feacad687027",
   "metadata": {},
   "outputs": [
    {
     "name": "stdout",
     "output_type": "stream",
     "text": [
      "[10, 20, 30, 40, 50]\n"
     ]
    }
   ],
   "source": [
    "print(l)"
   ]
  },
  {
   "cell_type": "code",
   "execution_count": 18,
   "id": "e19a999e-d44e-43eb-b460-faaacd60f136",
   "metadata": {},
   "outputs": [
    {
     "name": "stdout",
     "output_type": "stream",
     "text": [
      "10\n",
      "20\n",
      "30\n",
      "40\n",
      "50\n"
     ]
    }
   ],
   "source": [
    "for i in l :  #Traversing through the. array\n",
    "    print(i)"
   ]
  },
  {
   "cell_type": "code",
   "execution_count": 19,
   "id": "e9d6c13d-cba9-44e8-b1ba-be6fe5246933",
   "metadata": {},
   "outputs": [
    {
     "name": "stdout",
     "output_type": "stream",
     "text": [
      "10\n",
      "20\n",
      "30\n",
      "40\n",
      "50\n"
     ]
    }
   ],
   "source": [
    "i = 0   #Traversing through the list using while loop \n",
    "while i < len(l):\n",
    "    print(l[i])\n",
    "    i = i+1"
   ]
  },
  {
   "cell_type": "code",
   "execution_count": 20,
   "id": "19b11fee-9c0f-4742-bf14-302a20c9d2dc",
   "metadata": {},
   "outputs": [],
   "source": [
    "matrix = [\n",
    "    [1, 2, 3],\n",
    "    [4, 5, 6],\n",
    "    [7, 8, 9]\n",
    "]"
   ]
  },
  {
   "cell_type": "code",
   "execution_count": 25,
   "id": "d85fcd4d-3bbd-416b-a217-1d75cc446b02",
   "metadata": {},
   "outputs": [
    {
     "name": "stdout",
     "output_type": "stream",
     "text": [
      "6\n"
     ]
    }
   ],
   "source": [
    "print(matrix[1][2]) #accessing elements of a matrix"
   ]
  },
  {
   "cell_type": "code",
   "execution_count": 28,
   "id": "00aff830-9a59-41b3-8675-4be0911c4323",
   "metadata": {},
   "outputs": [
    {
     "name": "stdout",
     "output_type": "stream",
     "text": [
      "[0, 1, 8, 27, 64, 125, 216, 343, 512, 729]\n"
     ]
    }
   ],
   "source": [
    "squares = [x**3 for x in range(10)]\n",
    "print(squares) "
   ]
  },
  {
   "cell_type": "code",
   "execution_count": 30,
   "id": "aa2bfc14-f33b-4e13-a58f-408cea6aede9",
   "metadata": {},
   "outputs": [
    {
     "name": "stdout",
     "output_type": "stream",
     "text": [
      "[0, 1, 8, 27, 64, 125, 216, 343, 512, 729]\n"
     ]
    }
   ],
   "source": [
    "print(squares)"
   ]
  },
  {
   "cell_type": "code",
   "execution_count": 32,
   "id": "041985a8-06b4-4cf1-b60d-a541bfc65fe7",
   "metadata": {},
   "outputs": [],
   "source": [
    "squares.append(1000)"
   ]
  },
  {
   "cell_type": "code",
   "execution_count": 33,
   "id": "9f825f5c-535d-48d9-a536-a64548473ee5",
   "metadata": {},
   "outputs": [
    {
     "name": "stdout",
     "output_type": "stream",
     "text": [
      "[0, 1, 8, 27, 64, 125, 216, 343, 512, 729, 1000]\n"
     ]
    }
   ],
   "source": [
    "print(squares)"
   ]
  },
  {
   "cell_type": "code",
   "execution_count": 39,
   "id": "d15022f9-df43-4bd6-8870-492f07ed1ef0",
   "metadata": {},
   "outputs": [
    {
     "name": "stdout",
     "output_type": "stream",
     "text": [
      "[1, 2, 4, 5, 6, 7, 8]\n"
     ]
    }
   ],
   "source": [
    "nums = [ 1 , 5, 6, 2, 4, 8, 7] #basically using inbuilt sort\n",
    "nums.sort()\n",
    "print(nums)\n"
   ]
  },
  {
   "cell_type": "code",
   "execution_count": 40,
   "id": "67c72584-f676-40c1-a18f-b7e66ce061bc",
   "metadata": {},
   "outputs": [
    {
     "name": "stdout",
     "output_type": "stream",
     "text": [
      "['b', 'c', 'd']\n",
      "['a', 'b', 'c']\n",
      "['a', 'c', 'e']\n",
      "['e', 'd', 'c', 'b', 'a']\n"
     ]
    }
   ],
   "source": [
    "letters = ['a', 'b', 'c', 'd', 'e']\n",
    "print(letters[1:4])   # Output: ['b', 'c', 'd']\n",
    "print(letters[:3])    # Output: ['a', 'b', 'c']\n",
    "print(letters[::2])   # Output: ['a', 'c', 'e'] (Step of 2)\n",
    "print(letters[::-1])  # Output: ['e', 'd', 'c', 'b', 'a'] (Reversed)"
   ]
  },
  {
   "cell_type": "code",
   "execution_count": 41,
   "id": "b4f56787-d44c-4d0f-b052-80747d274851",
   "metadata": {},
   "outputs": [
    {
     "name": "stdout",
     "output_type": "stream",
     "text": [
      "('Kshitij', 'Salu', 'King', 'Rascal')\n"
     ]
    }
   ],
   "source": [
    "names = (\"Kshitij\" , \"Salu\" , \"King\", \"Rascal\")\n",
    "print(names)"
   ]
  },
  {
   "cell_type": "code",
   "execution_count": 42,
   "id": "db1fc05e-53b4-4619-9a92-ab2ba098d7a7",
   "metadata": {},
   "outputs": [
    {
     "name": "stdout",
     "output_type": "stream",
     "text": [
      "Kshitij\n",
      "Salu\n",
      "King\n",
      "Rascal\n"
     ]
    }
   ],
   "source": [
    "for i in names:\n",
    "    print(i)"
   ]
  },
  {
   "cell_type": "code",
   "execution_count": 45,
   "id": "796444b0-20a8-4f9b-9695-c5782c389164",
   "metadata": {},
   "outputs": [
    {
     "name": "stdout",
     "output_type": "stream",
     "text": [
      "Kshitij\n",
      "Salu\n",
      "King\n",
      "Rascal\n"
     ]
    }
   ],
   "source": [
    "i = 0 \n",
    "while i < len(names):\n",
    "    print(names[i])\n",
    "    i+=1"
   ]
  },
  {
   "cell_type": "code",
   "execution_count": 47,
   "id": "a194c545-c38c-43fd-a823-a5e62ec4c1ff",
   "metadata": {},
   "outputs": [
    {
     "data": {
      "text/plain": [
       "tuple"
      ]
     },
     "execution_count": 47,
     "metadata": {},
     "output_type": "execute_result"
    }
   ],
   "source": [
    "type(names)"
   ]
  },
  {
   "cell_type": "code",
   "execution_count": 49,
   "id": "e6725792-2f4e-4aea-bc5d-68ec03023788",
   "metadata": {},
   "outputs": [],
   "source": [
    "import json #Importing and trying out Javascript object notation to basically get and try data from other areas\n",
    "Bio = {\n",
    "    \"Name\" : \"Kshitij Sharma\",\n",
    "    \"Roll\" : 9,\n",
    "    \"Major\": \"AI and ML\"\n",
    "}"
   ]
  },
  {
   "cell_type": "code",
   "execution_count": 50,
   "id": "2dbb47f3-4333-4532-a041-5e4538ccade3",
   "metadata": {},
   "outputs": [
    {
     "name": "stdout",
     "output_type": "stream",
     "text": [
      "{'Name': 'Kshitij Sharma', 'Roll': 9, 'Major': 'AI and ML'}\n"
     ]
    }
   ],
   "source": [
    "print(Bio)"
   ]
  },
  {
   "cell_type": "code",
   "execution_count": 56,
   "id": "4b46c618-8ff2-4f34-85d6-9d2f0942a9d1",
   "metadata": {},
   "outputs": [],
   "source": [
    "with open(\"Salu.txt\" , \"w\") as file : #We are opening the file in write mode \n",
    "       file.write(\"Hello, this is a single line.\\n\")"
   ]
  },
  {
   "cell_type": "code",
   "execution_count": 57,
   "id": "f34f605a-a2e4-4528-a623-5d7f33c41203",
   "metadata": {},
   "outputs": [],
   "source": [
    "lines = '''              Kshitij Sharma MAIT CS\n",
    "            Python Enjoyer\n",
    "            Data Science and Developer Enjoyer\n",
    "            Philopsopher for life\n",
    "            Student of Acharya Prashant\n",
    "            Also not all these things.'''\n",
    "with open(\"Salu.txt\" , \"w\") as file : #we can write multiple lines at once here using this.\n",
    "    file.writelines(lines)"
   ]
  },
  {
   "cell_type": "code",
   "execution_count": null,
   "id": "28f40895-252c-458c-aeb8-fb4772398e39",
   "metadata": {},
   "outputs": [],
   "source": [
    "#Understanding Local and Global Scope in python"
   ]
  },
  {
   "cell_type": "code",
   "execution_count": 66,
   "id": "d270f36e-70ed-43be-b676-e77a05138236",
   "metadata": {},
   "outputs": [
    {
     "name": "stdout",
     "output_type": "stream",
     "text": [
      "10\n",
      "100\n"
     ]
    }
   ],
   "source": [
    "a = 100 # here this is present in the global scope\n",
    "\n",
    "def value() : \n",
    "    a = 10 # basically this is the local scope\n",
    "    print(a)\n",
    "\n",
    "    \n",
    "value() # calling the function and checking it out\n",
    "print(a) # printing a which is present in the global scope"
   ]
  },
  {
   "cell_type": "code",
   "execution_count": 67,
   "id": "7bca4bcf-b8ae-4e34-9fb1-e44a04ea7183",
   "metadata": {},
   "outputs": [
    {
     "name": "stdout",
     "output_type": "stream",
     "text": [
      "10\n",
      "10\n"
     ]
    }
   ],
   "source": [
    "#usage of the word global\n",
    "a = 100  # Global variable\n",
    "\n",
    "def value():\n",
    "    global a  # Now we are referring to the global 'a'\n",
    "    a = 10  # Modifies the global 'a'\n",
    "    print(a)\n",
    "\n",
    "value()  \n",
    "print(a)  # Now prints 10 instead of 100"
   ]
  },
  {
   "cell_type": "code",
   "execution_count": 68,
   "id": "c5e171c8-a692-4e90-9021-4585d798888b",
   "metadata": {},
   "outputs": [
    {
     "name": "stdout",
     "output_type": "stream",
     "text": [
      "Local variables: {'x': 10, 'y': 20}\n"
     ]
    }
   ],
   "source": [
    "def my_function():\n",
    "    x = 10  # Local variable\n",
    "    y = 20  # Local variable\n",
    "    print(\"Local variables:\", locals())  \n",
    "\n",
    "my_function()"
   ]
  },
  {
   "cell_type": "code",
   "execution_count": 69,
   "id": "cecbd031-74e7-47d5-a124-466761048940",
   "metadata": {},
   "outputs": [
    {
     "data": {
      "text/plain": [
       "(3.0, -4.5)"
      ]
     },
     "execution_count": 69,
     "metadata": {},
     "output_type": "execute_result"
    }
   ],
   "source": [
    "class Complex:\n",
    "    def __init__(self, realpart, imagpart):\n",
    "        self.r = realpart\n",
    "        self.i = imagpart\n",
    "\n",
    "x = Complex(3.0, -4.5)\n",
    "x.r, x.i"
   ]
  },
  {
   "cell_type": "code",
   "execution_count": 71,
   "id": "565cc444-6ac9-42a0-a569-04cf18ab8cbd",
   "metadata": {},
   "outputs": [
    {
     "name": "stdout",
     "output_type": "stream",
     "text": [
      "Kshitij Sharma\n",
      "25\n",
      "100000000000000000\n"
     ]
    }
   ],
   "source": [
    "class Kshitij:\n",
    "    def __init__(self, Name, Roll, Income):  # Fixed __init__\n",
    "        self.Name = Name \n",
    "        self.Roll = Roll  # Fixed 'self' and correct parameter name\n",
    "        self.Income = Income\n",
    "\n",
    "# Creating an instance\n",
    "data = Kshitij(\"Kshitij Sharma\", 25, 100000000000000000)\n",
    "\n",
    "# Accessing attributes\n",
    "print(data.Name)    # Output: Kshitij Sharma\n",
    "print(data.Roll)    # Output: 25\n",
    "print(data.Income)  # Output: 100000000000000000\n"
   ]
  },
  {
   "cell_type": "code",
   "execution_count": null,
   "id": "3aaa1a5f-2e96-4761-ad0a-127b1660b666",
   "metadata": {},
   "outputs": [],
   "source": []
  }
 ],
 "metadata": {
  "kernelspec": {
   "display_name": "Python 3 (ipykernel)",
   "language": "python",
   "name": "python3"
  },
  "language_info": {
   "codemirror_mode": {
    "name": "ipython",
    "version": 3
   },
   "file_extension": ".py",
   "mimetype": "text/x-python",
   "name": "python",
   "nbconvert_exporter": "python",
   "pygments_lexer": "ipython3",
   "version": "3.13.2"
  }
 },
 "nbformat": 4,
 "nbformat_minor": 5
}
