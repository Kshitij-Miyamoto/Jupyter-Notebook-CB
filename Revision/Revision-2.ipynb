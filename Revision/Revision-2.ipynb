{
 "cells": [
  {
   "cell_type": "code",
   "execution_count": 2,
   "id": "22fba319-8035-4916-be49-9d1bf1261905",
   "metadata": {},
   "outputs": [],
   "source": [
    "import json\n",
    "data = {\n",
    "    \"name\" : \"Kshitij Sharma\",\n",
    "    \"Age\" : 21,\n",
    "    \"Batallion\" : \"9-Para\"\n",
    "    }\n",
    "    "
   ]
  },
  {
   "cell_type": "code",
   "execution_count": 4,
   "id": "e2ff61ec-e56a-4407-83db-db4d915ef88e",
   "metadata": {},
   "outputs": [],
   "source": [
    "with open (\"SecretFile.txt\" , \"w\") as file : \n",
    "    file.write(\"Hello, Hi there\")"
   ]
  },
  {
   "cell_type": "code",
   "execution_count": 9,
   "id": "0917208c-b054-4c2d-b419-032887c9ca4c",
   "metadata": {},
   "outputs": [
    {
     "name": "stdout",
     "output_type": "stream",
     "text": [
      "Hello, Hi there\n"
     ]
    }
   ],
   "source": [
    "with open (\"SecretFile.txt\" , \"r\") as file : \n",
    "          content = file.read()\n",
    "          print(content)"
   ]
  },
  {
   "cell_type": "code",
   "execution_count": 14,
   "id": "13eed091-25ed-4126-bfc3-4819f91db5a7",
   "metadata": {},
   "outputs": [],
   "source": [
    "with open (\"SecretFile.txt\" , \"a\") as file : \n",
    "    file.writelines([\n",
    "        \"\\n Kshitij Sharma, Parachute Regiment : 9-Para SF.\",\n",
    "        \"\\n Why do I want to even go there, just because it badass, to be there ? .\"\n",
    "    ])"
   ]
  },
  {
   "cell_type": "code",
   "execution_count": 20,
   "id": "fdaecd76-a8ed-4b2d-9a37-c0e156d85259",
   "metadata": {},
   "outputs": [
    {
     "name": "stdout",
     "output_type": "stream",
     "text": [
      " Kshitij Sharma, Parachute Regiment : 9-Para SF.\n",
      "\n",
      " Why do I want to even go there, just because it badass, to be there ? .\n",
      "\n",
      " Kshitij Sharma, Parachute Regiment : 9-Para SF.\n",
      "\n",
      " Why do I want to even go there, just because it badass, to be there ? .\n"
     ]
    }
   ],
   "source": [
    "with open (\"SecretFile.txt\" , \"r\") as file : \n",
    "    content = file.readline()\n",
    "    for content in file:\n",
    "      print(content)"
   ]
  },
  {
   "cell_type": "code",
   "execution_count": 23,
   "id": "89c0087e-f5a4-43e3-922a-f0a1ed09fc15",
   "metadata": {},
   "outputs": [],
   "source": [
    "#Writing a file  :\n",
    "\n",
    "with open(\"Kshitij.txt\", \"w\") as file:\n",
    "    file.writelines([\"Chat-Gpt is amazing\\n\" for i in range(1, 5)])\n"
   ]
  },
  {
   "cell_type": "code",
   "execution_count": 30,
   "id": "9080f7fc-93d4-4a49-aaa4-b01b4a70d840",
   "metadata": {},
   "outputs": [
    {
     "name": "stdout",
     "output_type": "stream",
     "text": [
      "Chat-Gpt i\n"
     ]
    }
   ],
   "source": [
    "with open(\"Kshitij.txt\", \"r\") as file:\n",
    "    print(file.read(10))# Reading the first 10 characters"
   ]
  },
  {
   "cell_type": "code",
   "execution_count": 31,
   "id": "70ad259c-6093-4925-81bd-2238c0b8c6f3",
   "metadata": {},
   "outputs": [
    {
     "name": "stdout",
     "output_type": "stream",
     "text": [
      "['Chat-Gpt is amazing\\n', 'Chat-Gpt is amazing\\n', 'Chat-Gpt is amazing\\n', 'Chat-Gpt is amazing\\n']\n"
     ]
    }
   ],
   "source": [
    "with open(\"Kshitij.txt\" , \"r\") as file: \n",
    "    print(file.readlines()) #Reading all the lines possible"
   ]
  },
  {
   "cell_type": "code",
   "execution_count": 32,
   "id": "8df126bb-2dd8-493f-b969-d53a3fc342e8",
   "metadata": {},
   "outputs": [
    {
     "name": "stdout",
     "output_type": "stream",
     "text": [
      "Chat-Gpt is amazing\n",
      "\n"
     ]
    }
   ],
   "source": [
    "with open(\"Kshitij.txt\" , \"r\") as file: \n",
    "    print(file.readline()) #Reading a single line, the first line"
   ]
  },
  {
   "cell_type": "code",
   "execution_count": 34,
   "id": "387e4ba5-cb6a-4808-a606-eb4fdcd8f5f5",
   "metadata": {},
   "outputs": [
    {
     "name": "stdout",
     "output_type": "stream",
     "text": [
      "['Chat-Gpt is amazing\\n', 'Chat-Gpt is amazing\\n', 'Chat-Gpt is amazing\\n', 'Chat-Gpt is amazing\\n']\n"
     ]
    }
   ],
   "source": [
    "with open(\"Kshitij.txt\", \"r\") as file:\n",
    "    lines = file.readlines()  # Returns a list of lines\n",
    "    print(lines)"
   ]
  },
  {
   "cell_type": "code",
   "execution_count": 44,
   "id": "d741471c-617c-4bfe-be0f-781eae723433",
   "metadata": {},
   "outputs": [
    {
     "name": "stdout",
     "output_type": "stream",
     "text": [
      "/Users/kshitijsharma/Desktop/CB-ML-AI/Revision/Kshitij.txt\n"
     ]
    }
   ],
   "source": [
    "import os \n",
    "print(os.path.abspath(\"Kshitij.txt\")) #Gives out the absolute path"
   ]
  },
  {
   "cell_type": "code",
   "execution_count": 45,
   "id": "bab4c7d6-575d-4b91-9583-b1bff8f81ce9",
   "metadata": {},
   "outputs": [
    {
     "name": "stdout",
     "output_type": "stream",
     "text": [
      "Kshitij.txt\n"
     ]
    }
   ],
   "source": [
    "print(os.path.basename(\"Kshitij.txt\")) #Basically gives the directory name"
   ]
  },
  {
   "cell_type": "code",
   "execution_count": 46,
   "id": "f96f748d-d0a7-4dc9-82b7-d3526dc6cc86",
   "metadata": {},
   "outputs": [
    {
     "name": "stdout",
     "output_type": "stream",
     "text": [
      "\n"
     ]
    }
   ],
   "source": [
    "print(os.path.dirname(\"Kshitij.txt\"))"
   ]
  },
  {
   "cell_type": "code",
   "execution_count": 47,
   "id": "adf144d5-bfd1-47d1-9ec1-68cff07b645e",
   "metadata": {},
   "outputs": [
    {
     "name": "stdout",
     "output_type": "stream",
     "text": [
      "False\n"
     ]
    }
   ],
   "source": [
    "print(os.path.exists(\"example.txt\")) #To check if the file exists or not"
   ]
  },
  {
   "cell_type": "code",
   "execution_count": null,
   "id": "b5aa34db-e57f-43d1-af3f-0534e9f8af49",
   "metadata": {},
   "outputs": [],
   "source": []
  }
 ],
 "metadata": {
  "kernelspec": {
   "display_name": "Python 3 (ipykernel)",
   "language": "python",
   "name": "python3"
  },
  "language_info": {
   "codemirror_mode": {
    "name": "ipython",
    "version": 3
   },
   "file_extension": ".py",
   "mimetype": "text/x-python",
   "name": "python",
   "nbconvert_exporter": "python",
   "pygments_lexer": "ipython3",
   "version": "3.13.2"
  }
 },
 "nbformat": 4,
 "nbformat_minor": 5
}
