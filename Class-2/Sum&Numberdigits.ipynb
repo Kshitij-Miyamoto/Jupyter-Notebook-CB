{
 "cells": [
  {
   "cell_type": "code",
   "execution_count": 3,
   "id": "f93778a0-1e12-4897-80be-90a7da80d0c3",
   "metadata": {},
   "outputs": [
    {
     "name": "stdin",
     "output_type": "stream",
     "text": [
      "Enter the number :  145\n"
     ]
    },
    {
     "name": "stdout",
     "output_type": "stream",
     "text": [
      "The sum of the digits is  10\n",
      "The number of digits in the number are  3\n"
     ]
    }
   ],
   "source": [
    "N = int(input(\"Enter the number : \"))\n",
    "sum = 0\n",
    "count = 0\n",
    "\n",
    "while N != 0:\n",
    "    rem = N % 10\n",
    "    sum = sum + rem\n",
    "    count = count + 1\n",
    "    N = N // 10  \n",
    "\n",
    "print(\"The sum of the digits is \",sum)\n",
    "print(\"The number of digits in the number are \", count)"
   ]
  },
  {
   "cell_type": "code",
   "execution_count": null,
   "id": "a14fd29f-3a2f-423d-a1c0-a597f23370b8",
   "metadata": {},
   "outputs": [],
   "source": []
  }
 ],
 "metadata": {
  "kernelspec": {
   "display_name": "Python 3 (ipykernel)",
   "language": "python",
   "name": "python3"
  },
  "language_info": {
   "codemirror_mode": {
    "name": "ipython",
    "version": 3
   },
   "file_extension": ".py",
   "mimetype": "text/x-python",
   "name": "python",
   "nbconvert_exporter": "python",
   "pygments_lexer": "ipython3",
   "version": "3.13.2"
  }
 },
 "nbformat": 4,
 "nbformat_minor": 5
}
