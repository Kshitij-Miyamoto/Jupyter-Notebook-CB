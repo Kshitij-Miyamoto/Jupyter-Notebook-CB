{
 "cells": [
  {
   "cell_type": "code",
   "execution_count": 2,
   "id": "5444ff23-35ef-4d67-a51f-46d9ae253e09",
   "metadata": {},
   "outputs": [
    {
     "name": "stdout",
     "output_type": "stream",
     "text": [
      "Never out of the fight, Modules in Python\n"
     ]
    }
   ],
   "source": [
    "print(\"Never out of the fight, Modules in Python\")\n"
   ]
  },
  {
   "cell_type": "code",
   "execution_count": null,
   "id": "04d40c9f-2ca7-4c97-8f29-1afaad0f8597",
   "metadata": {},
   "outputs": [],
   "source": [
    "''' Built-in Modules: These come pre-installed with Python.\n",
    "\n",
    "Example: math, os, sys, random, datetime, json\n",
    "\n",
    "User-defined Modules: These are created by users to organize reusable code.\n",
    "\n",
    "Example: Creating a file mymodule.py with functions and importing it.\n",
    "\n",
    "Third-party Modules: These are external modules that can be installed using pip.\n",
    "\n",
    "Example: numpy, pandas, requests, flask, django\n",
    "\n",
    "'''"
   ]
  },
  {
   "cell_type": "code",
   "execution_count": 4,
   "id": "ed6d33cc-f33d-4f65-94d7-97a3f048c70f",
   "metadata": {},
   "outputs": [
    {
     "name": "stdout",
     "output_type": "stream",
     "text": [
      "5.0\n"
     ]
    }
   ],
   "source": [
    "#Importing module in python\n",
    "import math\n",
    "print(math.sqrt(25))  # Output: 5.0"
   ]
  },
  {
   "cell_type": "code",
   "execution_count": 5,
   "id": "32ad1079-7d61-4867-996f-1d065edf4fd6",
   "metadata": {},
   "outputs": [
    {
     "name": "stdout",
     "output_type": "stream",
     "text": [
      "[1 2 3]\n"
     ]
    }
   ],
   "source": [
    "import numpy as np\n",
    "array = np.array([1, 2, 3])\n",
    "print(array)"
   ]
  },
  {
   "cell_type": "code",
   "execution_count": 6,
   "id": "612e3688-e3f4-42a3-abed-a09a13eb8c1e",
   "metadata": {},
   "outputs": [],
   "source": [
    "# mymodule.py\n",
    "def greet(name):\n",
    "    return f\"Hello, {name}!\"\n",
    "\n",
    "PI = 3.14159"
   ]
  },
  {
   "cell_type": "code",
   "execution_count": 7,
   "id": "8f2b570d-7b71-448b-beeb-52b380976c4c",
   "metadata": {},
   "outputs": [
    {
     "data": {
      "text/plain": [
       "'Hello, Kshitij!'"
      ]
     },
     "execution_count": 7,
     "metadata": {},
     "output_type": "execute_result"
    }
   ],
   "source": [
    "greet(\"Kshitij\")\n"
   ]
  },
  {
   "cell_type": "code",
   "execution_count": 8,
   "id": "f598ee54-5e02-4f91-aa4a-07b88d273ea3",
   "metadata": {},
   "outputs": [],
   "source": [
    "l = [i for i in range(1,101)]\n"
   ]
  },
  {
   "cell_type": "code",
   "execution_count": 9,
   "id": "4ab33781-0324-478e-99c8-4787546d4900",
   "metadata": {},
   "outputs": [],
   "source": [
    "l = [(1,10),(5,20),(3,40),(2,100),(4,150)]"
   ]
  },
  {
   "cell_type": "code",
   "execution_count": 10,
   "id": "f35fb52e-8e12-4d2f-8db4-7617efeeb8f7",
   "metadata": {},
   "outputs": [
    {
     "data": {
      "text/plain": [
       "True"
      ]
     },
     "execution_count": 10,
     "metadata": {},
     "output_type": "execute_result"
    }
   ],
   "source": [
    "isinstance(l,list)"
   ]
  },
  {
   "cell_type": "code",
   "execution_count": 13,
   "id": "6d0a7401-609e-44b2-b246-7a788a5b5d2c",
   "metadata": {},
   "outputs": [
    {
     "name": "stdout",
     "output_type": "stream",
     "text": [
      "Index: 0, Value: Kshitij\n",
      "Index: 1, Value: 9-Para\n",
      "Index: 2, Value: NeverOutOfTheFight\n",
      "Index: 0, Value: Kshitij\n",
      "Index: 1, Value: 9-Para\n",
      "Index: 2, Value: NeverOutOfTheFight\n"
     ]
    }
   ],
   "source": [
    "my_list = ['Kshitij', '9-Para', 'NeverOutOfTheFight']\n",
    "\n",
    "for index, value in enumerate(my_list):\n",
    "    print(f\"Index: {index}, Value: {value}\")\n",
    "\n",
    "#output:\n",
    "#Index: 0, Value: apple\n",
    "#Index: 1, Value: banana\n",
    "#Index: 2, Value: cherry\n",
    "\n",
    "for index, value in enumerate(my_list, start=0):\n",
    "    print(f\"Index: {index}, Value: {value}\")\n",
    "\n",
    "#output:\n",
    "#Index: 1, Value: apple\n",
    "#Index: 2, Value: banana\n",
    "#Index: 3, Value: cherry"
   ]
  },
  {
   "cell_type": "code",
   "execution_count": 14,
   "id": "d8006b23-5f7b-485e-9c5f-0e257e6c6cbc",
   "metadata": {},
   "outputs": [
    {
     "data": {
      "text/plain": [
       "'enumerate() is a built-in Python function that adds a counter to an iterable and returns an enumerate object. \\nThis object yields pairs of (index, value) for each element in the iterable.enumerate(iterable, start=0) takes an \\niterable as input and an optional start argument,which specifies the starting index (default is 0).\\nIt returns an iterator that produces tuples containing the index and the corresponding element from the iterable.\\n'"
      ]
     },
     "execution_count": 14,
     "metadata": {},
     "output_type": "execute_result"
    }
   ],
   "source": [
    "'''enumerate() is a built-in Python function that adds a counter to an iterable and returns an enumerate object. \n",
    "This object yields pairs of (index, value) for each element in the iterable.enumerate(iterable, start=0) takes an \n",
    "iterable as input and an optional start argument,which specifies the starting index (default is 0).\n",
    "It returns an iterator that produces tuples containing the index and the corresponding element from the iterable.\n",
    "'''"
   ]
  },
  {
   "cell_type": "code",
   "execution_count": 15,
   "id": "8ac24665-6638-423b-bd5c-284e549a5669",
   "metadata": {},
   "outputs": [],
   "source": [
    "#filter(function, iterable) is a built-in Python function that constructs an iterator\n",
    "#from elements of an iterable for which a function returns true"
   ]
  },
  {
   "cell_type": "code",
   "execution_count": 16,
   "id": "5f775027-29b6-4aa1-bd58-4e2b4cc77388",
   "metadata": {},
   "outputs": [
    {
     "name": "stdout",
     "output_type": "stream",
     "text": [
      "[2, 4, 6]\n",
      "[1, 3, 5]\n"
     ]
    }
   ],
   "source": [
    "numbers = [1, 2, 3, 4, 5, 6]\n",
    "\n",
    "def is_even(n):\n",
    "    return n % 2 == 0\n",
    "\n",
    "even_numbers = filter(is_even, numbers)\n",
    "\n",
    "print(list(even_numbers))  # Output: [2, 4, 6]\n",
    "\n",
    "#using lambda function\n",
    "odd_numbers = filter(lambda x: x%2 !=0, numbers)\n",
    "print(list(odd_numbers)) #output: [1, 3, 5]"
   ]
  },
  {
   "cell_type": "code",
   "execution_count": 18,
   "id": "31418e8e-499c-4c21-8454-a8c997b99dd8",
   "metadata": {},
   "outputs": [],
   "source": [
    "from functools import reduce\n"
   ]
  },
  {
   "cell_type": "code",
   "execution_count": 19,
   "id": "6836d715-3f6f-42d6-ad59-570a4a512e55",
   "metadata": {},
   "outputs": [
    {
     "data": {
      "text/plain": [
       "15"
      ]
     },
     "execution_count": 19,
     "metadata": {},
     "output_type": "execute_result"
    }
   ],
   "source": [
    "reduce(lambda a,b : a+b,[1,2,3,4,5,])"
   ]
  },
  {
   "cell_type": "code",
   "execution_count": 20,
   "id": "8e25da81-bdb1-406e-bb55-3d8864eb87a3",
   "metadata": {},
   "outputs": [
    {
     "data": {
      "text/plain": [
       "5"
      ]
     },
     "execution_count": 20,
     "metadata": {},
     "output_type": "execute_result"
    }
   ],
   "source": [
    "reduce(max,[1,2,3,4,5])\n"
   ]
  },
  {
   "cell_type": "code",
   "execution_count": null,
   "id": "c0e2b79b-2835-42ab-8c06-fffaec8d40a9",
   "metadata": {},
   "outputs": [],
   "source": []
  }
 ],
 "metadata": {
  "kernelspec": {
   "display_name": "Python 3 (ipykernel)",
   "language": "python",
   "name": "python3"
  },
  "language_info": {
   "codemirror_mode": {
    "name": "ipython",
    "version": 3
   },
   "file_extension": ".py",
   "mimetype": "text/x-python",
   "name": "python",
   "nbconvert_exporter": "python",
   "pygments_lexer": "ipython3",
   "version": "3.13.2"
  }
 },
 "nbformat": 4,
 "nbformat_minor": 5
}
