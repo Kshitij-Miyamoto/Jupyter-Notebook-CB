{
 "cells": [
  {
   "cell_type": "code",
   "execution_count": 3,
   "id": "f93778a0-1e12-4897-80be-90a7da80d0c3",
   "metadata": {},
   "outputs": [
    {
     "name": "stdin",
     "output_type": "stream",
     "text": [
      "Enter the number :  145\n"
     ]
    },
    {
     "name": "stdout",
     "output_type": "stream",
     "text": [
      "The sum of the digits is  10\n",
      "The number of digits in the number are  3\n"
     ]
    }
   ],
   "source": [
    "N = int(input(\"Enter the number : \"))\n",
    "sum = 0\n",
    "count = 0\n",
    "\n",
    "while N != 0:\n",
    "    rem = N % 10\n",
    "    sum = sum + rem\n",
    "    count = count + 1\n",
    "    N = N // 10  \n",
    "\n",
    "print(\"The sum of the digits is \",sum)\n",
    "print(\"The number of digits in the number are \", count)"
   ]
  },
  {
   "cell_type": "code",
   "execution_count": 6,
   "id": "b100192c-3af3-4b48-bbbd-27d2aa8beb49",
   "metadata": {},
   "outputs": [
    {
     "name": "stdin",
     "output_type": "stream",
     "text": [
      "Enter the number :  123\n"
     ]
    },
    {
     "name": "stdout",
     "output_type": "stream",
     "text": [
      "The reverse of the number is :  321\n"
     ]
    }
   ],
   "source": [
    "N = int(input(\"Enter the number : \"))\n",
    "rem = 0\n",
    "revNum = 0\n",
    "\n",
    "while N != 0:\n",
    "      rem = N%10\n",
    "      revNum = revNum * 10 + rem;\n",
    "      N = N//10\n",
    "\n",
    "print(\"The reverse of the number is : \", revNum)"
   ]
  },
  {
   "cell_type": "code",
   "execution_count": 8,
   "id": "7e45334f-80cc-434f-8b04-0483145d6490",
   "metadata": {
    "scrolled": true
   },
   "outputs": [
    {
     "name": "stdin",
     "output_type": "stream",
     "text": [
      "Enter the number  5\n"
     ]
    },
    {
     "name": "stdout",
     "output_type": "stream",
     "text": [
      "Enter the factorial of the number will be :  120\n"
     ]
    }
   ],
   "source": [
    "N = int(input(\"Enter the number\"  ))\n",
    "fact = 1 \n",
    "i = 1\n",
    "while( i <= N):\n",
    "    fact = fact*i\n",
    "    i = i+1\n",
    "\n",
    "print(\"Enter the factorial of the number will be : \", fact)"
   ]
  },
  {
   "cell_type": "code",
   "execution_count": null,
   "id": "8a285230-e8b8-4a28-a413-79d6d8e4273b",
   "metadata": {},
   "outputs": [],
   "source": []
  }
 ],
 "metadata": {
  "kernelspec": {
   "display_name": "Python 3 (ipykernel)",
   "language": "python",
   "name": "python3"
  },
  "language_info": {
   "codemirror_mode": {
    "name": "ipython",
    "version": 3
   },
   "file_extension": ".py",
   "mimetype": "text/x-python",
   "name": "python",
   "nbconvert_exporter": "python",
   "pygments_lexer": "ipython3",
   "version": "3.13.2"
  }
 },
 "nbformat": 4,
 "nbformat_minor": 5
}
