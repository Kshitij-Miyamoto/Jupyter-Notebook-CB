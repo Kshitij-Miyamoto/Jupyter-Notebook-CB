{
 "cells": [
  {
   "cell_type": "code",
   "execution_count": 1,
   "id": "74022b7f-3075-432b-8c64-56e0d1ac857f",
   "metadata": {},
   "outputs": [
    {
     "name": "stdout",
     "output_type": "stream",
     "text": [
      "Hello World\n"
     ]
    }
   ],
   "source": [
    "print(\"Hello World\")\n"
   ]
  },
  {
   "cell_type": "code",
   "execution_count": 4,
   "id": "c4739bb6-7ec3-42c9-8502-a2ec6b0ea5c8",
   "metadata": {},
   "outputs": [
    {
     "name": "stdin",
     "output_type": "stream",
     "text": [
      " 3\n"
     ]
    },
    {
     "name": "stdout",
     "output_type": "stream",
     "text": [
      "    1 \n",
      "  1 1 1 \n",
      "1 1 1 1 1 \n"
     ]
    }
   ],
   "source": [
    "\n",
    "N = int(input())\n",
    "row = 1\n",
    "nsp = N-1\n",
    "nst = 1\n",
    "\n",
    "while row <= N:\n",
    "    csp = 1\n",
    "    while csp <= nsp:\n",
    "        print(\" \",end = \" \")\n",
    "        csp += 1\n",
    "\n",
    "    cst = 1\n",
    "    while cst <= nst:\n",
    "        print('1',end = ' ')\n",
    "        cst += 1\n",
    "    nsp -= 1\n",
    "    nst += 2\n",
    "    print()\n",
    "    row += 1\n",
    "        \n"
   ]
  },
  {
   "cell_type": "code",
   "execution_count": null,
   "id": "3f2da558-0211-4459-afb7-bb3a3b0703d0",
   "metadata": {},
   "outputs": [],
   "source": [
    "N = 5 \n",
    "nst = N\n",
    "row = 1 \n",
    "val = N\n",
    "while row <= N:\n",
    "    cst = 1 \n",
    "    cval = val\n",
    "    while cst <= nst:\n",
    "        if cst+row == N+1 \n",
    "        print(\"*\", end = \" \")\n",
    "    else:\n",
    "        print(cval, end= \" \")\n",
    "        \n",
    "        "
   ]
  },
  {
   "cell_type": "code",
   "execution_count": null,
   "id": "87a6bf6d-d208-474b-8ce4-4d6d8ac25df2",
   "metadata": {},
   "outputs": [],
   "source": [
    "n = int(input())"
   ]
  }
 ],
 "metadata": {
  "kernelspec": {
   "display_name": "Python 3 (ipykernel)",
   "language": "python",
   "name": "python3"
  },
  "language_info": {
   "codemirror_mode": {
    "name": "ipython",
    "version": 3
   },
   "file_extension": ".py",
   "mimetype": "text/x-python",
   "name": "python",
   "nbconvert_exporter": "python",
   "pygments_lexer": "ipython3",
   "version": "3.13.2"
  }
 },
 "nbformat": 4,
 "nbformat_minor": 5
}
