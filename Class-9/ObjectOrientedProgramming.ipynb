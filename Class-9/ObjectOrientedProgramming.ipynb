{
 "cells": [
  {
   "cell_type": "code",
   "execution_count": 2,
   "id": "b70253d9-0e1e-4700-8419-a358f0200fb7",
   "metadata": {},
   "outputs": [
    {
     "name": "stdout",
     "output_type": "stream",
     "text": [
      "Never out of the fight : Class - 9 \n"
     ]
    }
   ],
   "source": [
    "print(\"Never out of the fight : Class - 9 \")"
   ]
  },
  {
   "cell_type": "code",
   "execution_count": 9,
   "id": "0331e5fe-bb9c-4171-af10-5ab742ad97ab",
   "metadata": {},
   "outputs": [
    {
     "name": "stdout",
     "output_type": "stream",
     "text": [
      "Car: Toyota Corolla\n"
     ]
    }
   ],
   "source": [
    "#Class is basically a real world template, basically a blue print and it helps us to write some efficient code \n",
    "# Objects can be unserstood as instance of the class.\n",
    "\n",
    "class Car:\n",
    "    #This _init_ is basically a constructor, the arguments are given as (self, brand, model)\n",
    "    def __init__(self, brand, model):\n",
    "        self.brand = brand  # Public attribute\n",
    "        self.model = model  # Public attribute\n",
    "\n",
    "    def display_info(self):\n",
    "        return f\"Car: {self.brand} {self.model}\"\n",
    "\n",
    "# Creating an object\n",
    "car1 = Car(\"Toyota\", \"Corolla\")\n",
    "print(car1.display_info())  # Output: Car: Toyota Corolla"
   ]
  },
  {
   "cell_type": "code",
   "execution_count": 10,
   "id": "585a4eeb-bd8d-4c0d-bc94-da246f3a3434",
   "metadata": {},
   "outputs": [],
   "source": [
    "class Person:\n",
    "    def sayHello():\n",
    "        print(\"Person says hello\")"
   ]
  },
  {
   "cell_type": "code",
   "execution_count": 11,
   "id": "575191c8-1a0c-49bc-b933-6fcb8c58a0b8",
   "metadata": {},
   "outputs": [
    {
     "name": "stdout",
     "output_type": "stream",
     "text": [
      "Person says hello\n"
     ]
    }
   ],
   "source": [
    "Person.sayHello()\n"
   ]
  },
  {
   "cell_type": "code",
   "execution_count": 12,
   "id": "d45ec7a9-732d-4215-9db8-6d957bcd7d27",
   "metadata": {},
   "outputs": [
    {
     "name": "stdout",
     "output_type": "stream",
     "text": [
      "<__main__.Person object at 0x110bc0590>\n"
     ]
    }
   ],
   "source": [
    "p1 = Person()\n",
    "print(p1)\n"
   ]
  },
  {
   "cell_type": "code",
   "execution_count": 13,
   "id": "8be31490-c407-4b2e-9407-3d02dbaf399c",
   "metadata": {},
   "outputs": [
    {
     "name": "stdout",
     "output_type": "stream",
     "text": [
      "Shubham 28\n"
     ]
    }
   ],
   "source": [
    "p1 = Person()\n",
    "p1.name = \"Shubham\"\n",
    "p1.age = 28\n",
    "print(p1.name,p1.age)\n"
   ]
  },
  {
   "cell_type": "code",
   "execution_count": 19,
   "id": "1783a597-b02c-4562-aaf3-5502d2648d76",
   "metadata": {},
   "outputs": [],
   "source": [
    "class Person:\n",
    "    def _init_(self,name = \"xyz\", age = 0 ):\n",
    "        self.name = name\n",
    "        self.age = age \n",
    "\n",
    "    def sayHello(self):\n",
    "        #print(self)\n",
    "        print(f\"{self.name} says Hello\")"
   ]
  },
  {
   "cell_type": "code",
   "execution_count": 21,
   "id": "83f6b69a-e63c-4730-8879-154637ffecb0",
   "metadata": {},
   "outputs": [
    {
     "name": "stdout",
     "output_type": "stream",
     "text": [
      "Shubham\n",
      "28\n"
     ]
    }
   ],
   "source": [
    "class Person:\n",
    "    def __init__(self, name, age):  # Constructor with parameters\n",
    "        self.name = name\n",
    "        self.age = age\n",
    "\n",
    "# Creating an object with parameters\n",
    "p1 = Person(\"Shubham\", 28)\n",
    "\n",
    "# Accessing attributes\n",
    "print(p1.name)  # Output: Shubham\n",
    "print(p1.age)   # Output: 28"
   ]
  },
  {
   "cell_type": "code",
   "execution_count": null,
   "id": "68da5018-7fb2-4e1f-806e-5daa0ea33fc5",
   "metadata": {},
   "outputs": [],
   "source": [
    "#Only two things are callable : Function and Classes !!"
   ]
  },
  {
   "cell_type": "code",
   "execution_count": 22,
   "id": "5d082c05-157e-47aa-98b1-6bb1259d2c6e",
   "metadata": {},
   "outputs": [
    {
     "data": {
      "text/plain": [
       "True"
      ]
     },
     "execution_count": 22,
     "metadata": {},
     "output_type": "execute_result"
    }
   ],
   "source": [
    "isinstance(2 , int)\n"
   ]
  },
  {
   "cell_type": "code",
   "execution_count": 23,
   "id": "3d30ecbd-c8a0-44c3-88c2-246d9ba2b0cc",
   "metadata": {},
   "outputs": [
    {
     "data": {
      "text/plain": [
       "True"
      ]
     },
     "execution_count": 23,
     "metadata": {},
     "output_type": "execute_result"
    }
   ],
   "source": [
    "isinstance(p1 , object)"
   ]
  },
  {
   "cell_type": "code",
   "execution_count": 34,
   "id": "cf8aa251-a3e8-47c6-bb49-55c1e66ad518",
   "metadata": {},
   "outputs": [],
   "source": [
    "class Dog:\n",
    "    legs = 4 \n",
    "    tail = 1 \n",
    "    tricks = [\"sit\" , \"stand\"]\n",
    "\n",
    "    def _init_(self, name, breed):\n",
    "        self.name = name \n",
    "        self.breed = breed\n",
    "\n",
    "    def bark(self, sound = \"Bhow\"):\n",
    "        self.sound = sound\n",
    "        print(f\"{self.name} : {sound} {sound}\")\n",
    "        "
   ]
  },
  {
   "cell_type": "code",
   "execution_count": 38,
   "id": "875441ff-35b2-439c-a888-657f21787c02",
   "metadata": {},
   "outputs": [
    {
     "name": "stdout",
     "output_type": "stream",
     "text": [
      "Brandy : Bhow Bhow\n"
     ]
    }
   ],
   "source": [
    "class Dog:\n",
    "    legs = 4 \n",
    "    tail = 1 \n",
    "\n",
    "    def __init__(self, name, breed):\n",
    "        self.name = name \n",
    "        self.breed = breed\n",
    "\n",
    "\n",
    "    def bark(self, sound=\"Bhow\"):\n",
    "        print(f\"{self.name} : {sound} {sound}\")\n",
    "\n",
    "# Creating an object\n",
    "d1 = Dog(\"Brandy\", \"Shih Tzu\")\n",
    "d1.bark() "
   ]
  },
  {
   "cell_type": "code",
   "execution_count": 39,
   "id": "5ec8d16b-9bf2-40fe-a382-9f40024048aa",
   "metadata": {},
   "outputs": [
    {
     "data": {
      "text/plain": [
       "1"
      ]
     },
     "execution_count": 39,
     "metadata": {},
     "output_type": "execute_result"
    }
   ],
   "source": [
    "d1.tail"
   ]
  },
  {
   "cell_type": "code",
   "execution_count": 41,
   "id": "ca5e4c22-edfd-491b-a77e-734cfd5bef37",
   "metadata": {},
   "outputs": [
    {
     "name": "stdout",
     "output_type": "stream",
     "text": [
      "['sit', 'stand']\n",
      "['sit', 'stand']\n",
      "['sit', 'stand', 'roll over']\n",
      "['sit', 'stand']\n"
     ]
    }
   ],
   "source": [
    "class Dog:\n",
    "    legs = 4 \n",
    "    tail = 1 \n",
    "\n",
    "    def __init__(self, name, breed):\n",
    "        self.name = name \n",
    "        self.breed = breed\n",
    "        self.tricks = [\"sit\", \"stand\"]  # Instance-level attribute\n",
    "\n",
    "    def bark(self, sound=\"Bhow\"):\n",
    "        print(f\"{self.name} : {sound} {sound}\")\n",
    "\n",
    "# Creating an object\n",
    "d1 = Dog(\"Brandy\", \"Shih Tzu\")\n",
    "d2 = Dog(\"Max\", \"Labrador\")\n",
    "\n",
    "# Checking individual objects' tricks\n",
    "print(d1.tricks)  # Output: ['sit', 'stand']\n",
    "print(d2.tricks)  # Output: ['sit', 'stand']\n",
    "\n",
    "# Modifying tricks for d1\n",
    "d1.tricks.append(\"roll over\")\n",
    "\n",
    "print(d1.tricks)  # Output: ['sit', 'stand', 'roll over']\n",
    "print(d2.tricks)  # Output: ['sit', 'stand']  (Unchanged, as expected)\n"
   ]
  },
  {
   "cell_type": "code",
   "execution_count": null,
   "id": "895e7855-ba44-4ff4-91f5-769fc08dc17d",
   "metadata": {},
   "outputs": [],
   "source": [
    "class Student(Person):\n",
    "\n",
    "    def _init_(self,name = \"xyz\", age = 10, roll_no = 1):\n",
    "        #super()._init_(name,age)\n",
    "        Person."
   ]
  }
 ],
 "metadata": {
  "kernelspec": {
   "display_name": "Python 3 (ipykernel)",
   "language": "python",
   "name": "python3"
  },
  "language_info": {
   "codemirror_mode": {
    "name": "ipython",
    "version": 3
   },
   "file_extension": ".py",
   "mimetype": "text/x-python",
   "name": "python",
   "nbconvert_exporter": "python",
   "pygments_lexer": "ipython3",
   "version": "3.13.2"
  }
 },
 "nbformat": 4,
 "nbformat_minor": 5
}
