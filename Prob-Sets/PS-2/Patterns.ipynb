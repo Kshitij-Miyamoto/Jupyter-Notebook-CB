{
 "cells": [
  {
   "cell_type": "code",
   "execution_count": 1,
   "id": "ea9a5085-202d-44bb-9f81-0211147fabdc",
   "metadata": {},
   "outputs": [
    {
     "name": "stdout",
     "output_type": "stream",
     "text": [
      "Hello World\n"
     ]
    }
   ],
   "source": [
    "print(\"Hello World\")"
   ]
  },
  {
   "cell_type": "code",
   "execution_count": 2,
   "id": "afdfe792-4ed1-4e64-904e-b2c64f472de0",
   "metadata": {},
   "outputs": [
    {
     "name": "stdin",
     "output_type": "stream",
     "text": [
      " 5\n"
     ]
    },
    {
     "name": "stdout",
     "output_type": "stream",
     "text": [
      "* * * * * \n",
      "* * * * * \n",
      "* * * * * \n",
      "* * * * * \n",
      "* * * * * \n"
     ]
    }
   ],
   "source": [
    "N = int(input()) \n",
    "nst = N \n",
    "row = 1 \n",
    "while row <= N:\n",
    "    cst = 1 \n",
    "    while cst<=nst:\n",
    "        print(\"*\", end = \" \")\n",
    "        cst += 1 \n",
    "    print()\n",
    "    row = row+1 "
   ]
  },
  {
   "cell_type": "code",
   "execution_count": 3,
   "id": "4eda9f6e-e21d-4867-be75-7d8ea4d37d65",
   "metadata": {},
   "outputs": [
    {
     "name": "stdin",
     "output_type": "stream",
     "text": [
      " 5\n"
     ]
    },
    {
     "name": "stdout",
     "output_type": "stream",
     "text": [
      "* \n",
      "* * \n",
      "* * * \n",
      "* * * * \n",
      "* * * * * \n"
     ]
    }
   ],
   "source": [
    "N = int(input())\n",
    "nst = 1 \n",
    "row = 1 \n",
    "while row<= N:\n",
    "    cst = 1 \n",
    "    while cst <= nst:\n",
    "        print(\"*\" , end = \" \")\n",
    "        cst += 1 \n",
    "\n",
    "    nst += 1 \n",
    "    print()\n",
    "    row +=1"
   ]
  },
  {
   "cell_type": "code",
   "execution_count": 4,
   "id": "332a4623-4928-48f1-b0b8-47e67a34da84",
   "metadata": {},
   "outputs": [
    {
     "name": "stdin",
     "output_type": "stream",
     "text": [
      " 5\n"
     ]
    },
    {
     "name": "stdout",
     "output_type": "stream",
     "text": [
      "* * * * * \n",
      "* * * * \n",
      "* * * \n",
      "* * \n",
      "* \n"
     ]
    }
   ],
   "source": [
    "N = int(input())\n",
    "nst = N\n",
    "row = 1 \n",
    "while row<= N:\n",
    "    cst = 1 \n",
    "    while cst <= nst:\n",
    "        print(\"*\" , end = \" \")\n",
    "        cst += 1 \n",
    "\n",
    "    nst -=1\n",
    "    print()\n",
    "    row +=1"
   ]
  },
  {
   "cell_type": "code",
   "execution_count": 6,
   "id": "abee0a6d-43f9-4715-8785-739d2f4da48d",
   "metadata": {},
   "outputs": [
    {
     "name": "stdin",
     "output_type": "stream",
     "text": [
      " 4\n"
     ]
    },
    {
     "name": "stdout",
     "output_type": "stream",
     "text": [
      "      * \n",
      "    * * \n",
      "  * * * \n",
      "* * * * \n"
     ]
    }
   ],
   "source": [
    "N = int(input())\n",
    "nst = 1\n",
    "nsp = N-1\n",
    "row = 1\n",
    "while(row <= N):\n",
    "    csp = 1\n",
    "    while(csp <= nsp):\n",
    "        print(\" \", end = \" \")\n",
    "        csp += 1 \n",
    "    nsp -= 1\n",
    "    cst = 1\n",
    "    while(cst <= nst):\n",
    "        print(\"*\", end = \" \")\n",
    "        cst += 1\n",
    "    nst += 1 \n",
    "\n",
    "    print()\n",
    "    row += 1\n",
    "        "
   ]
  },
  {
   "cell_type": "code",
   "execution_count": 7,
   "id": "f397f71b-439f-4bed-9851-4601f64280fd",
   "metadata": {},
   "outputs": [
    {
     "name": "stdin",
     "output_type": "stream",
     "text": [
      " 5\n"
     ]
    },
    {
     "name": "stdout",
     "output_type": "stream",
     "text": [
      "        * \n",
      "      * * * \n",
      "    * * * * * \n",
      "  * * * * * * * \n",
      "* * * * * * * * * \n"
     ]
    }
   ],
   "source": [
    "N = int(input())\n",
    "nst = 1 \n",
    "nsp = N-1 \n",
    "row = 1 \n",
    "while(row <= N):\n",
    "    csp = 1 \n",
    "    while(csp <= nsp):\n",
    "        print(\" \", end = \" \")\n",
    "        csp += 1 \n",
    "    nsp -= 1\n",
    "    cst = 1 \n",
    "    while(cst <= nst):\n",
    "        print(\"*\", end = \" \")\n",
    "        cst += 1\n",
    "    nst += 2 \n",
    "\n",
    "    print()\n",
    "    row +=1 "
   ]
  },
  {
   "cell_type": "code",
   "execution_count": 10,
   "id": "6c6e51ae-9bb9-4d25-94bb-60c6652f7208",
   "metadata": {},
   "outputs": [
    {
     "name": "stdin",
     "output_type": "stream",
     "text": [
      " 5\n"
     ]
    },
    {
     "name": "stdout",
     "output_type": "stream",
     "text": [
      "  * * * * * * * * * \n",
      "    * * * * * * * \n",
      "      * * * * * \n",
      "        * * * \n",
      "          * \n"
     ]
    }
   ],
   "source": [
    "N = int(input())\n",
    "nst = 2*N-1 \n",
    "nsp = 0\n",
    "row = 1 \n",
    "while(row <= N):\n",
    "    csp = 0\n",
    "    while(csp <= nsp):\n",
    "        print(\" \", end = \" \")\n",
    "        csp += 1 \n",
    "    nsp += 1\n",
    "    cst = 1 \n",
    "    while(cst <= nst):\n",
    "        print(\"*\", end = \" \")\n",
    "        cst += 1\n",
    "    nst -= 2 \n",
    "\n",
    "    print()\n",
    "    row +=1 "
   ]
  },
  {
   "cell_type": "code",
   "execution_count": 12,
   "id": "f50f8a3e-cba7-44ce-bf10-f944eced3d08",
   "metadata": {},
   "outputs": [
    {
     "name": "stdin",
     "output_type": "stream",
     "text": [
      " 5\n"
     ]
    },
    {
     "name": "stdout",
     "output_type": "stream",
     "text": [
      "        * \n",
      "      * ! * \n",
      "    * ! * ! * \n",
      "  * ! * ! * ! * \n",
      "* ! * ! * ! * ! * \n"
     ]
    }
   ],
   "source": [
    "N = int(input())\n",
    "nst = 1 \n",
    "nsp = N-1 \n",
    "row = 1 \n",
    "while(row <= N):\n",
    "    csp = 1 \n",
    "    while(csp <= nsp):\n",
    "        print(\" \", end = \" \")\n",
    "        csp += 1 \n",
    "    nsp -= 1\n",
    "    cst = 1 \n",
    "    while(cst <= nst):\n",
    "        if(cst%2 == 0):\n",
    "            print(\"!\", end = \" \")\n",
    "        else:\n",
    "            print(\"*\", end = \" \")\n",
    "        cst += 1\n",
    "    nst += 2 \n",
    "\n",
    "    print()\n",
    "    row +=1 "
   ]
  },
  {
   "cell_type": "code",
   "execution_count": 21,
   "id": "61f10a98-4a1e-4cbf-8250-6a30a7e018fc",
   "metadata": {},
   "outputs": [
    {
     "name": "stdin",
     "output_type": "stream",
     "text": [
      " 4\n"
     ]
    },
    {
     "name": "stdout",
     "output_type": "stream",
     "text": [
      "* * * * \n",
      "*     * \n",
      "*     * \n",
      "* * * * \n"
     ]
    }
   ],
   "source": [
    "N = int(input())\n",
    "nst = N\n",
    "row = 1\n",
    "while row <= N:\n",
    "    cst = 1\n",
    "    while cst <= nst:\n",
    "        if row == 1 or row == N or cst == 1 or cst == N:\n",
    "            print('*',end = ' ')\n",
    "        else:\n",
    "            print(' ' ,end = ' ')\n",
    "        cst += 1\n",
    "\n",
    "    print()\n",
    "    row += 1"
   ]
  },
  {
   "cell_type": "code",
   "execution_count": 2,
   "id": "9b83d28c-f44d-46c5-83f0-a067307a60c2",
   "metadata": {},
   "outputs": [
    {
     "name": "stdin",
     "output_type": "stream",
     "text": [
      " 5\n"
     ]
    },
    {
     "name": "stdout",
     "output_type": "stream",
     "text": [
      "0 \n",
      "1 1 \n",
      "2 3 5 \n",
      "8 13 21 34 \n",
      "55 89 144 233 377 \n"
     ]
    }
   ],
   "source": [
    "N = int(input())\n",
    "\n",
    "nst = 1  # Number of elements in the row\n",
    "row = 1  # Row counter\n",
    "\n",
    "a, b = 0, 1  # Initial Fibonacci numbers\n",
    "\n",
    "while row <= N:\n",
    "    cst = 1  # Counter for elements in the row\n",
    "    while cst <= nst:\n",
    "        print(a, end=\" \")  # Print Fibonacci number\n",
    "        a, b = b, a + b  # Move to the next Fibonacci number\n",
    "        cst += 1\n",
    "\n",
    "    nst += 1  # Increase elements in the next row\n",
    "    print()  # Move to the next line\n",
    "    row += 1"
   ]
  },
  {
   "cell_type": "code",
   "execution_count": 3,
   "id": "24b95831-8cff-4c03-b060-fe190fcdf069",
   "metadata": {},
   "outputs": [
    {
     "name": "stdin",
     "output_type": "stream",
     "text": [
      " 5\n"
     ]
    },
    {
     "name": "stdout",
     "output_type": "stream",
     "text": [
      "        * \n",
      "      * * * \n",
      "    * * * * * \n",
      "  * * * * * * * \n",
      "* * * * * * * * * \n"
     ]
    }
   ],
   "source": [
    "N = int(input())\n",
    "nst = 1 \n",
    "nsp = N-1 \n",
    "row = 1 \n",
    "while(row <= N):\n",
    "    csp = 1 \n",
    "    while(csp <= nsp):\n",
    "        print(\" \", end = \" \")\n",
    "        csp += 1 \n",
    "    nsp -= 1\n",
    "    cst = 1 \n",
    "    while(cst <= nst):\n",
    "        print(\"*\", end = \" \")\n",
    "        cst += 1\n",
    "    nst += 2 \n",
    "\n",
    "    print()\n",
    "    row +=1 "
   ]
  },
  {
   "cell_type": "code",
   "execution_count": 4,
   "id": "f7da2547-d4bc-4028-b3a8-004ca69d1454",
   "metadata": {},
   "outputs": [
    {
     "name": "stdin",
     "output_type": "stream",
     "text": [
      " 4\n"
     ]
    },
    {
     "name": "stdout",
     "output_type": "stream",
     "text": [
      "      1 \n",
      "    2 3 2 \n",
      "  3 4 5 4 3 \n",
      "4 5 6 7 6 5 4 \n"
     ]
    }
   ],
   "source": [
    "N = int(input())\n",
    "\n",
    "nst = 1   # Number of elements in the row\n",
    "nsp = N-1 # Number of spaces before numbers\n",
    "row = 1   # Row counter\n",
    "\n",
    "while row <= N:\n",
    "    # Print leading spaces for alignment\n",
    "    csp = 1\n",
    "    while csp <= nsp:\n",
    "        print(\" \", end=\" \")\n",
    "        csp += 1\n",
    "    nsp -= 1  # Reduce spaces for the next row\n",
    "\n",
    "    # Print increasing sequence\n",
    "    num = row\n",
    "    cst = 1\n",
    "    while cst <= nst // 2 + 1:  # Printing first half (including middle)\n",
    "        print(num, end=\" \")\n",
    "        num += 1\n",
    "        cst += 1\n",
    "\n",
    "    # Print decreasing sequence\n",
    "    num -= 2\n",
    "    cst = 1\n",
    "    while cst <= nst // 2:\n",
    "        print(num, end=\" \")\n",
    "        num -= 1\n",
    "        cst += 1\n",
    "\n",
    "    nst += 2  # Increase number count for the next row\n",
    "    print()   # Move to next line\n",
    "    row += 1"
   ]
  },
  {
   "cell_type": "code",
   "execution_count": 5,
   "id": "a38e2489-5e6d-4f79-82fd-e9cafc503db6",
   "metadata": {},
   "outputs": [
    {
     "name": "stdout",
     "output_type": "stream",
     "text": [
      "* * * * * * * \n",
      "* * *   * * * \n",
      "* *       * * \n",
      "*           * \n",
      "* *       * * \n",
      "* * *   * * * \n",
      "* * * * * * * \n"
     ]
    }
   ],
   "source": [
    "N = 7\n",
    "row = 1\n",
    "nsp = -1\n",
    "nst = N//2+1\n",
    "while row <= N:\n",
    "    cst = 1\n",
    "    while cst <= nst:\n",
    "        print(\"*\",end=\" \")\n",
    "        cst += 1\n",
    "\n",
    "    csp = 1\n",
    "    while csp <= nsp:\n",
    "        print(\" \",end = \" \")\n",
    "        csp += 1\n",
    "\n",
    "    cst = 1\n",
    "    if row == 1 or row == N:\n",
    "        cst = 2\n",
    "    while cst <= nst:\n",
    "        print(\"*\",end=\" \")\n",
    "        cst += 1\n",
    "\n",
    "    if row <= N//2:\n",
    "        nst -= 1\n",
    "        nsp += 2\n",
    "    else:\n",
    "        nst += 1\n",
    "        nsp -= 2\n",
    "\n",
    "    row += 1\n",
    "    print()"
   ]
  },
  {
   "cell_type": "code",
   "execution_count": 8,
   "id": "bbe15201-08c3-4c29-8022-7ba7eb5a1c73",
   "metadata": {},
   "outputs": [
    {
     "name": "stdout",
     "output_type": "stream",
     "text": [
      "5                   5\n",
      "5 4               4 5\n",
      "5 4 3           3 4 5\n",
      "5 4 3 2       2 3 4 5\n",
      "5 4 3 2 1   1 2 3 4 5\n",
      "5 4 3 2 1 0 0 1 2 3 4 5\n",
      "5 4 3 2 1   1 2 3 4 5\n",
      "5 4 3 2       2 3 4 5\n",
      "5 4 3           3 4 5\n",
      "5 4               4 5\n",
      "5                   5\n"
     ]
    }
   ],
   "source": [
    "# Taking input (for demonstration, let's use N=5)\n",
    "n = 5\n",
    "\n",
    "# Calculate total rows (2n+1)\n",
    "total_rows = 2*n + 1\n",
    "row = 0\n",
    "\n",
    "# Outer loop for each row\n",
    "while row < total_rows:\n",
    "    line = \"\"\n",
    "    \n",
    "    # Calculate distance from the middle row\n",
    "    dist_from_middle = abs(n - row)\n",
    "    \n",
    "    # Build the left side (decreasing numbers)\n",
    "    j = n\n",
    "    while j >= dist_from_middle:\n",
    "        line += str(j) + \" \"\n",
    "        j -= 1\n",
    "    \n",
    "    # Add spaces between the numbers\n",
    "    spaces = 2 * (dist_from_middle - 1) + 1 if dist_from_middle > 0 else 0\n",
    "    space_count = 0\n",
    "    while space_count < spaces:\n",
    "        line += \"  \"  # Two spaces for each position\n",
    "        space_count += 1\n",
    "    \n",
    "    # Build the right side (increasing numbers)\n",
    "    j = dist_from_middle\n",
    "    while j <= n:\n",
    "        line += str(j) + \" \"\n",
    "        j += 1\n",
    "    \n",
    "    print(line.rstrip())\n",
    "    row += 1"
   ]
  },
  {
   "cell_type": "code",
   "execution_count": 9,
   "id": "a26ec700-cf17-4f44-8acd-b561b70f8a2e",
   "metadata": {},
   "outputs": [
    {
     "name": "stdin",
     "output_type": "stream",
     "text": [
      "Enter the value of N:  4\n"
     ]
    },
    {
     "name": "stdout",
     "output_type": "stream",
     "text": [
      "1        1\n",
      "1 2      2 1\n",
      "1 2 3    3 2 1\n",
      "1 2 3 4  4 3 2 1\n"
     ]
    }
   ],
   "source": [
    "n = int(input(\"Enter the value of N: \"))\n",
    "\n",
    "# Initialize row counter\n",
    "row = 1\n",
    "\n",
    "# Outer loop for each row\n",
    "while row <= n:\n",
    "    line = \"\"\n",
    "    \n",
    "    # Print ascending numbers from 1 to current row\n",
    "    j = 1\n",
    "    while j <= row:\n",
    "        line += str(j) + \" \"\n",
    "        j += 1\n",
    "    \n",
    "    # Calculate and add middle spaces (decreases as row increases)\n",
    "    middle_spaces = 2 * (n - row) + 1\n",
    "    space_count = 0\n",
    "    while space_count < middle_spaces:\n",
    "        line += \" \"\n",
    "        space_count += 1\n",
    "    \n",
    "    # Print descending numbers from current row down to 1\n",
    "    j = row\n",
    "    while j >= 1:\n",
    "        # Don't add space after the last number\n",
    "        if j == 1:\n",
    "            line += str(j)\n",
    "        else:\n",
    "            line += str(j) + \" \"\n",
    "        j -= 1\n",
    "    \n",
    "    print(line)\n",
    "    row += 1"
   ]
  },
  {
   "cell_type": "code",
   "execution_count": 11,
   "id": "53f0647b-0cda-4fed-b4ed-3c530af5a4d1",
   "metadata": {},
   "outputs": [
    {
     "name": "stdout",
     "output_type": "stream",
     "text": [
      "1\t\t\t\t\t\t\t1\t\n",
      "1\t2\t\t\t\t\t2\t1\t\n",
      "1\t2\t3\t\t\t3\t2\t1\t\n",
      "1\t2\t3\t4\t4\t3\t2\t1\t\n"
     ]
    }
   ],
   "source": [
    "def print_pattern(n):\n",
    "    \"\"\"Prints the specified pattern for a given integer n, with only one 4 in the last row, and decreasing numbers.\"\"\"\n",
    "\n",
    "    for i in range(1, n + 1):\n",
    "        # Print increasing numbers\n",
    "        for j in range(1, i + 1):\n",
    "            print(j, end=\"\\t\")\n",
    "\n",
    "        # Print middle spaces\n",
    "        if i == n:\n",
    "            pass # no middle spaces on last row\n",
    "        else:\n",
    "            print(\"\\t\" * (2 * (n - i)), end=\"\")\n",
    "\n",
    "        # Print decreasing numbers\n",
    "        for j in range(i, 0, -1):\n",
    "            print(j, end=\"\\t\")\n",
    "\n",
    "        print()\n",
    "\n",
    "print_pattern(4)"
   ]
  },
  {
   "cell_type": "code",
   "execution_count": 60,
   "id": "d8fe8654-6f61-4a81-97bc-2a2002f20988",
   "metadata": {},
   "outputs": [
    {
     "name": "stdout",
     "output_type": "stream",
     "text": [
      "1           1 \n",
      "1 2       1 2 \n",
      "1 2 3   1 2 3 \n",
      "1 2 3 4 1 2 3 4 \n"
     ]
    }
   ],
   "source": [
    "N = 4\n",
    "nst = 1\n",
    "row = 1\n",
    "nsp = 5\n",
    "\n",
    "while row <= N:\n",
    "    cst = 1\n",
    "    while cst <= nst:\n",
    "        print(cst, end=' ')\n",
    "        cst += 1\n",
    "        \n",
    "    csp = 1\n",
    "    while csp <= nsp:\n",
    "        print(\" \", end=\" \")\n",
    "        csp += 1\n",
    "\n",
    "    cst = 1\n",
    "    val = 1\n",
    "    while cst <= nst:\n",
    "        print(val,end = ' ')\n",
    "        val += 1 \n",
    "        cst += 1\n",
    "\n",
    "    nsp -= 2\n",
    "    nst += 1\n",
    "    print()\n",
    "    row += 1"
   ]
  },
  {
   "cell_type": "code",
   "execution_count": 67,
   "id": "432a0799-e9e5-4f07-ad86-e24091bf4fd1",
   "metadata": {},
   "outputs": [
    {
     "name": "stdout",
     "output_type": "stream",
     "text": [
      "*           * \n",
      "* *       * * \n",
      "* * *   * * * \n",
      "* * * * * * * * \n"
     ]
    }
   ],
   "source": [
    "N = 4\n",
    "nst = 1\n",
    "row = 1\n",
    "nsp = N+1\n",
    "while row <= N:\n",
    "    cst = 1\n",
    "    while cst <= nst:\n",
    "        print('*',end = ' ')\n",
    "        cst += 1\n",
    "        \n",
    "    csp = 1\n",
    "    while csp <= nsp:\n",
    "        print(\" \",end = \" \")\n",
    "        csp += 1\n",
    "\n",
    "    cst = 1\n",
    "    while cst <= nst:\n",
    "        print('*',end = ' ')\n",
    "        cst += 1\n",
    "        \n",
    "    nsp -= 2\n",
    "    nst += 1\n",
    "    print()\n",
    "    row += 1"
   ]
  },
  {
   "cell_type": "code",
   "execution_count": 79,
   "id": "d3349492-cb66-41d8-9db7-345d51d8826b",
   "metadata": {},
   "outputs": [
    {
     "name": "stdout",
     "output_type": "stream",
     "text": [
      "1           1 \n",
      "1 2       2 1 \n",
      "1 2 3   3 2 1 \n",
      "1 2 3 4 3 2 1 \n"
     ]
    }
   ],
   "source": [
    "N = 4\n",
    "nst = 1\n",
    "row = 1\n",
    "nsp = N + 1\n",
    "\n",
    "while row <= N:\n",
    "    cst = 1\n",
    "    while cst <= nst:\n",
    "        print(cst, end=' ')\n",
    "        cst += 1\n",
    "\n",
    "    csp = 1\n",
    "    while csp <= nsp and row < N:\n",
    "        print(\" \", end=\" \")\n",
    "        csp += 1\n",
    "\n",
    "    if row < N:\n",
    "        cst = 1\n",
    "        val = row\n",
    "        while cst <= nst:\n",
    "            print(val, end=' ')\n",
    "            cst += 1\n",
    "            val -=1\n",
    "    elif row == N:\n",
    "        val = N-1\n",
    "        cst = 1\n",
    "        while cst < nst:\n",
    "            print(val, end = ' ')\n",
    "            cst+=1\n",
    "            val -=1\n",
    "    \n",
    "\n",
    "    nsp -= 2\n",
    "    nst += 1\n",
    "    print()\n",
    "    row += 1\n"
   ]
  },
  {
   "cell_type": "code",
   "execution_count": 78,
   "id": "05078d5b-e5d2-44aa-8ae7-6b2c42ed1ea1",
   "metadata": {},
   "outputs": [
    {
     "name": "stdout",
     "output_type": "stream",
     "text": [
      "1           1 \n",
      "1 2       2 1 \n",
      "1 2 3   3 2 1 \n",
      "1 2 3 4 3 2 1 \n"
     ]
    }
   ],
   "source": [
    "N = 4\n",
    "nst = 1\n",
    "row = 1\n",
    "nsp = N + 1\n",
    "\n",
    "while row <= N:\n",
    "    cst = 1\n",
    "    while cst <= nst:\n",
    "        print(cst, end=' ')\n",
    "        cst += 1\n",
    "\n",
    "    csp = 1\n",
    "    while csp <= nsp and row < N:\n",
    "        print(\" \", end=\" \")\n",
    "        csp += 1\n",
    "\n",
    "    if row < N:\n",
    "        cst = 1\n",
    "        val = row\n",
    "        while cst <= nst:\n",
    "            print(val, end=' ')\n",
    "            cst += 1\n",
    "            val -= 1\n",
    "    elif row == N:\n",
    "        cst = 1\n",
    "        val = N - 1  # Initialize val to N - 1 (3 for N = 4)\n",
    "        while cst < nst:\n",
    "            print(val, end=' ')\n",
    "            cst += 1\n",
    "            val -= 1\n",
    "\n",
    "    nsp -= 2\n",
    "    nst += 1\n",
    "    print()\n",
    "    row += 1"
   ]
  },
  {
   "cell_type": "code",
   "execution_count": null,
   "id": "8a514738-b142-4218-a160-29e73f278344",
   "metadata": {},
   "outputs": [],
   "source": []
  }
 ],
 "metadata": {
  "kernelspec": {
   "display_name": "Python 3 (ipykernel)",
   "language": "python",
   "name": "python3"
  },
  "language_info": {
   "codemirror_mode": {
    "name": "ipython",
    "version": 3
   },
   "file_extension": ".py",
   "mimetype": "text/x-python",
   "name": "python",
   "nbconvert_exporter": "python",
   "pygments_lexer": "ipython3",
   "version": "3.13.2"
  }
 },
 "nbformat": 4,
 "nbformat_minor": 5
}
