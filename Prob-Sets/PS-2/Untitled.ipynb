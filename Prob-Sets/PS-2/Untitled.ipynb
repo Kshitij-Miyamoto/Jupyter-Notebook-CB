{
 "cells": [
  {
   "cell_type": "code",
   "execution_count": 1,
   "id": "ea9a5085-202d-44bb-9f81-0211147fabdc",
   "metadata": {},
   "outputs": [
    {
     "name": "stdout",
     "output_type": "stream",
     "text": [
      "Hello World\n"
     ]
    }
   ],
   "source": [
    "print(\"Hello World\")"
   ]
  },
  {
   "cell_type": "code",
   "execution_count": 2,
   "id": "afdfe792-4ed1-4e64-904e-b2c64f472de0",
   "metadata": {},
   "outputs": [
    {
     "name": "stdin",
     "output_type": "stream",
     "text": [
      " 5\n"
     ]
    },
    {
     "name": "stdout",
     "output_type": "stream",
     "text": [
      "* * * * * \n",
      "* * * * * \n",
      "* * * * * \n",
      "* * * * * \n",
      "* * * * * \n"
     ]
    }
   ],
   "source": [
    "N = int(input()) \n",
    "nst = N \n",
    "row = 1 \n",
    "while row <= N:\n",
    "    cst = 1 \n",
    "    while cst<=nst:\n",
    "        print(\"*\", end = \" \")\n",
    "        cst += 1 \n",
    "    print()\n",
    "    row = row+1 "
   ]
  },
  {
   "cell_type": "code",
   "execution_count": 3,
   "id": "4eda9f6e-e21d-4867-be75-7d8ea4d37d65",
   "metadata": {},
   "outputs": [
    {
     "name": "stdin",
     "output_type": "stream",
     "text": [
      " 5\n"
     ]
    },
    {
     "name": "stdout",
     "output_type": "stream",
     "text": [
      "* \n",
      "* * \n",
      "* * * \n",
      "* * * * \n",
      "* * * * * \n"
     ]
    }
   ],
   "source": [
    "N = int(input())\n",
    "nst = 1 \n",
    "row = 1 \n",
    "while row<= N:\n",
    "    cst = 1 \n",
    "    while cst <= nst:\n",
    "        print(\"*\" , end = \" \")\n",
    "        cst += 1 \n",
    "\n",
    "    nst += 1 \n",
    "    print()\n",
    "    row +=1"
   ]
  },
  {
   "cell_type": "code",
   "execution_count": 4,
   "id": "332a4623-4928-48f1-b0b8-47e67a34da84",
   "metadata": {},
   "outputs": [
    {
     "name": "stdin",
     "output_type": "stream",
     "text": [
      " 5\n"
     ]
    },
    {
     "name": "stdout",
     "output_type": "stream",
     "text": [
      "* * * * * \n",
      "* * * * \n",
      "* * * \n",
      "* * \n",
      "* \n"
     ]
    }
   ],
   "source": [
    "N = int(input())\n",
    "nst = N\n",
    "row = 1 \n",
    "while row<= N:\n",
    "    cst = 1 \n",
    "    while cst <= nst:\n",
    "        print(\"*\" , end = \" \")\n",
    "        cst += 1 \n",
    "\n",
    "    nst -=1\n",
    "    print()\n",
    "    row +=1"
   ]
  },
  {
   "cell_type": "code",
   "execution_count": 6,
   "id": "abee0a6d-43f9-4715-8785-739d2f4da48d",
   "metadata": {},
   "outputs": [
    {
     "name": "stdin",
     "output_type": "stream",
     "text": [
      " 4\n"
     ]
    },
    {
     "name": "stdout",
     "output_type": "stream",
     "text": [
      "      * \n",
      "    * * \n",
      "  * * * \n",
      "* * * * \n"
     ]
    }
   ],
   "source": [
    "N = int(input())\n",
    "nst = 1\n",
    "nsp = N-1\n",
    "row = 1\n",
    "while(row <= N):\n",
    "    csp = 1\n",
    "    while(csp <= nsp):\n",
    "        print(\" \", end = \" \")\n",
    "        csp += 1 \n",
    "    nsp -= 1\n",
    "    cst = 1\n",
    "    while(cst <= nst):\n",
    "        print(\"*\", end = \" \")\n",
    "        cst += 1\n",
    "    nst += 1 \n",
    "\n",
    "    print()\n",
    "    row += 1\n",
    "        "
   ]
  },
  {
   "cell_type": "code",
   "execution_count": 7,
   "id": "f397f71b-439f-4bed-9851-4601f64280fd",
   "metadata": {},
   "outputs": [
    {
     "name": "stdin",
     "output_type": "stream",
     "text": [
      " 5\n"
     ]
    },
    {
     "name": "stdout",
     "output_type": "stream",
     "text": [
      "        * \n",
      "      * * * \n",
      "    * * * * * \n",
      "  * * * * * * * \n",
      "* * * * * * * * * \n"
     ]
    }
   ],
   "source": [
    "N = int(input())\n",
    "nst = 1 \n",
    "nsp = N-1 \n",
    "row = 1 \n",
    "while(row <= N):\n",
    "    csp = 1 \n",
    "    while(csp <= nsp):\n",
    "        print(\" \", end = \" \")\n",
    "        csp += 1 \n",
    "    nsp -= 1\n",
    "    cst = 1 \n",
    "    while(cst <= nst):\n",
    "        print(\"*\", end = \" \")\n",
    "        cst += 1\n",
    "    nst += 2 \n",
    "\n",
    "    print()\n",
    "    row +=1 "
   ]
  },
  {
   "cell_type": "code",
   "execution_count": 10,
   "id": "6c6e51ae-9bb9-4d25-94bb-60c6652f7208",
   "metadata": {},
   "outputs": [
    {
     "name": "stdin",
     "output_type": "stream",
     "text": [
      " 5\n"
     ]
    },
    {
     "name": "stdout",
     "output_type": "stream",
     "text": [
      "  * * * * * * * * * \n",
      "    * * * * * * * \n",
      "      * * * * * \n",
      "        * * * \n",
      "          * \n"
     ]
    }
   ],
   "source": [
    "N = int(input())\n",
    "nst = 2*N-1 \n",
    "nsp = 0\n",
    "row = 1 \n",
    "while(row <= N):\n",
    "    csp = 0\n",
    "    while(csp <= nsp):\n",
    "        print(\" \", end = \" \")\n",
    "        csp += 1 \n",
    "    nsp += 1\n",
    "    cst = 1 \n",
    "    while(cst <= nst):\n",
    "        print(\"*\", end = \" \")\n",
    "        cst += 1\n",
    "    nst -= 2 \n",
    "\n",
    "    print()\n",
    "    row +=1 "
   ]
  },
  {
   "cell_type": "code",
   "execution_count": 12,
   "id": "f50f8a3e-cba7-44ce-bf10-f944eced3d08",
   "metadata": {},
   "outputs": [
    {
     "name": "stdin",
     "output_type": "stream",
     "text": [
      " 5\n"
     ]
    },
    {
     "name": "stdout",
     "output_type": "stream",
     "text": [
      "        * \n",
      "      * ! * \n",
      "    * ! * ! * \n",
      "  * ! * ! * ! * \n",
      "* ! * ! * ! * ! * \n"
     ]
    }
   ],
   "source": [
    "N = int(input())\n",
    "nst = 1 \n",
    "nsp = N-1 \n",
    "row = 1 \n",
    "while(row <= N):\n",
    "    csp = 1 \n",
    "    while(csp <= nsp):\n",
    "        print(\" \", end = \" \")\n",
    "        csp += 1 \n",
    "    nsp -= 1\n",
    "    cst = 1 \n",
    "    while(cst <= nst):\n",
    "        if(cst%2 == 0):\n",
    "            print(\"!\", end = \" \")\n",
    "        else:\n",
    "            print(\"*\", end = \" \")\n",
    "        cst += 1\n",
    "    nst += 2 \n",
    "\n",
    "    print()\n",
    "    row +=1 "
   ]
  },
  {
   "cell_type": "code",
   "execution_count": 21,
   "id": "61f10a98-4a1e-4cbf-8250-6a30a7e018fc",
   "metadata": {},
   "outputs": [
    {
     "name": "stdin",
     "output_type": "stream",
     "text": [
      " 4\n"
     ]
    },
    {
     "name": "stdout",
     "output_type": "stream",
     "text": [
      "* * * * \n",
      "*     * \n",
      "*     * \n",
      "* * * * \n"
     ]
    }
   ],
   "source": [
    "N = int(input())\n",
    "nst = N\n",
    "row = 1\n",
    "while row <= N:\n",
    "    cst = 1\n",
    "    while cst <= nst:\n",
    "        if row == 1 or row == N or cst == 1 or cst == N:\n",
    "            print('*',end = ' ')\n",
    "        else:\n",
    "            print(' ' ,end = ' ')\n",
    "        cst += 1\n",
    "\n",
    "    print()\n",
    "    row += 1"
   ]
  },
  {
   "cell_type": "code",
   "execution_count": null,
   "id": "9b83d28c-f44d-46c5-83f0-a067307a60c2",
   "metadata": {},
   "outputs": [],
   "source": [
    " N = int(input())\n",
    "nst = 1\n",
    "nsp = 1"
   ]
  }
 ],
 "metadata": {
  "kernelspec": {
   "display_name": "Python 3 (ipykernel)",
   "language": "python",
   "name": "python3"
  },
  "language_info": {
   "codemirror_mode": {
    "name": "ipython",
    "version": 3
   },
   "file_extension": ".py",
   "mimetype": "text/x-python",
   "name": "python",
   "nbconvert_exporter": "python",
   "pygments_lexer": "ipython3",
   "version": "3.13.2"
  }
 },
 "nbformat": 4,
 "nbformat_minor": 5
}
