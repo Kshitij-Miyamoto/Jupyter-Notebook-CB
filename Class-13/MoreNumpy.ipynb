{
 "cells": [
  {
   "cell_type": "code",
   "execution_count": null,
   "id": "b3965dab-49d2-4e58-8f95-5a8d3dd8685e",
   "metadata": {},
   "outputs": [],
   "source": [
    "#Numpy once again, Never out of the fight, never affected by the fight.\n",
    "# I am here to study and listen to the class, give my best, less GO !!"
   ]
  },
  {
   "cell_type": "code",
   "execution_count": 5,
   "id": "f852c2e5-db71-4948-a69f-867c00fddee7",
   "metadata": {},
   "outputs": [],
   "source": [
    "import numpy as np "
   ]
  },
  {
   "cell_type": "code",
   "execution_count": 16,
   "id": "12a90a1b-e69b-45c5-b118-1dd09cdb4ec0",
   "metadata": {},
   "outputs": [],
   "source": [
    "n1 = np.array([[1,2,3,4,5],[11,12,13,14,15]]) #basically we can also do this on a 2-D array !\n",
    "n2 = np.array([10,20,30,40,50])"
   ]
  },
  {
   "cell_type": "code",
   "execution_count": 17,
   "id": "64482d9a-6328-4bd2-bb94-6483062a8f1d",
   "metadata": {},
   "outputs": [
    {
     "name": "stdout",
     "output_type": "stream",
     "text": [
      "[[ 4  5  6  7  8]\n",
      " [14 15 16 17 18]]\n"
     ]
    }
   ],
   "source": [
    "print(n1+3) #this is basically scalar and vector addition, element-wise +3"
   ]
  },
  {
   "cell_type": "code",
   "execution_count": 18,
   "id": "194d7933-3cd6-49e6-9303-57b96bf49aaf",
   "metadata": {},
   "outputs": [
    {
     "name": "stdout",
     "output_type": "stream",
     "text": [
      "[[ 3  6  9 12 15]\n",
      " [33 36 39 42 45]]\n"
     ]
    }
   ],
   "source": [
    "print(n1*3)"
   ]
  },
  {
   "cell_type": "code",
   "execution_count": 19,
   "id": "437654f1-9bde-4f6c-8c54-8a5e6bcfd429",
   "metadata": {},
   "outputs": [
    {
     "name": "stdout",
     "output_type": "stream",
     "text": [
      "[[ 1  2  3  4  5]\n",
      " [11 12 13 14 15]]\n"
     ]
    }
   ],
   "source": [
    "print(n1)"
   ]
  },
  {
   "cell_type": "code",
   "execution_count": 20,
   "id": "e37d47f1-a849-4b3b-a71a-7e42ca823b5f",
   "metadata": {},
   "outputs": [
    {
     "name": "stdout",
     "output_type": "stream",
     "text": [
      "[[   1    8   27   64  125]\n",
      " [1331 1728 2197 2744 3375]]\n"
     ]
    }
   ],
   "source": [
    "print(n1**3)"
   ]
  },
  {
   "cell_type": "code",
   "execution_count": 24,
   "id": "84eb4213-f1f4-4e1c-821c-c5e9b063a6ae",
   "metadata": {},
   "outputs": [],
   "source": [
    "n1 = np.array([[1,2,3],[4,5,6]])\n",
    "n2 = np.array([[10,20,30],[40,50,60]])"
   ]
  },
  {
   "cell_type": "code",
   "execution_count": 30,
   "id": "105aa94c-9db8-4ea4-9db0-606798775aba",
   "metadata": {},
   "outputs": [
    {
     "name": "stdout",
     "output_type": "stream",
     "text": [
      "[[11 22 33]\n",
      " [44 55 66]]\n"
     ]
    }
   ],
   "source": [
    "print(n1+n2)"
   ]
  },
  {
   "cell_type": "code",
   "execution_count": 29,
   "id": "b94acdf9-3716-4363-9516-f731bc56eb80",
   "metadata": {},
   "outputs": [
    {
     "name": "stdout",
     "output_type": "stream",
     "text": [
      "[[ -9 -18 -27]\n",
      " [-36 -45 -54]]\n"
     ]
    }
   ],
   "source": [
    "print(n1-n2)"
   ]
  },
  {
   "cell_type": "code",
   "execution_count": 28,
   "id": "b15ee4f8-1d24-4725-be96-89dbb4ff904c",
   "metadata": {},
   "outputs": [
    {
     "name": "stdout",
     "output_type": "stream",
     "text": [
      "[[ 10  40  90]\n",
      " [160 250 360]]\n"
     ]
    }
   ],
   "source": [
    "print(n1*n2)"
   ]
  },
  {
   "cell_type": "code",
   "execution_count": 31,
   "id": "61cd32ef-445b-4cbc-ab6b-59ae9d240429",
   "metadata": {},
   "outputs": [
    {
     "name": "stdout",
     "output_type": "stream",
     "text": [
      "[[ 20  40  60]\n",
      " [ 80 100 120]]\n"
     ]
    }
   ],
   "source": [
    "print(n1*10+n2)"
   ]
  },
  {
   "cell_type": "code",
   "execution_count": 32,
   "id": "3ce4721d-ade3-4415-962d-7bb056b55e87",
   "metadata": {},
   "outputs": [],
   "source": [
    "n1 = np.arange(1,21)"
   ]
  },
  {
   "cell_type": "code",
   "execution_count": 33,
   "id": "8d75e277-1a37-4737-aabb-afac02bb3812",
   "metadata": {},
   "outputs": [
    {
     "name": "stdout",
     "output_type": "stream",
     "text": [
      "[ 1  2  3  4  5  6  7  8  9 10 11 12 13 14 15 16 17 18 19 20]\n"
     ]
    }
   ],
   "source": [
    "print(n1)"
   ]
  },
  {
   "cell_type": "code",
   "execution_count": 34,
   "id": "fa738300-fbaf-4d9f-8607-b1550a6d63a1",
   "metadata": {},
   "outputs": [
    {
     "name": "stdout",
     "output_type": "stream",
     "text": [
      "[  1   2   3   4   5   6   7   8   9  10  11  12  13  14  15  16  17  18\n",
      "  19  20  21  22  23  24  25  26  27  28  29  30  31  32  33  34  35  36\n",
      "  37  38  39  40  41  42  43  44  45  46  47  48  49  50  51  52  53  54\n",
      "  55  56  57  58  59  60  61  62  63  64  65  66  67  68  69  70  71  72\n",
      "  73  74  75  76  77  78  79  80  81  82  83  84  85  86  87  88  89  90\n",
      "  91  92  93  94  95  96  97  98  99 100]\n"
     ]
    }
   ],
   "source": [
    "n2 = np.arange(1,101)\n",
    "print(n2)"
   ]
  },
  {
   "cell_type": "code",
   "execution_count": 36,
   "id": "63502bb2-9929-4fb3-8318-804000075293",
   "metadata": {},
   "outputs": [],
   "source": [
    "newarr = n2.reshape(10, 10)"
   ]
  },
  {
   "cell_type": "code",
   "execution_count": 37,
   "id": "adf8a126-b258-454a-9401-672fb7ecb1ac",
   "metadata": {},
   "outputs": [
    {
     "name": "stdout",
     "output_type": "stream",
     "text": [
      "[[  1   2   3   4   5   6   7   8   9  10]\n",
      " [ 11  12  13  14  15  16  17  18  19  20]\n",
      " [ 21  22  23  24  25  26  27  28  29  30]\n",
      " [ 31  32  33  34  35  36  37  38  39  40]\n",
      " [ 41  42  43  44  45  46  47  48  49  50]\n",
      " [ 51  52  53  54  55  56  57  58  59  60]\n",
      " [ 61  62  63  64  65  66  67  68  69  70]\n",
      " [ 71  72  73  74  75  76  77  78  79  80]\n",
      " [ 81  82  83  84  85  86  87  88  89  90]\n",
      " [ 91  92  93  94  95  96  97  98  99 100]]\n"
     ]
    }
   ],
   "source": [
    "print(newarr)"
   ]
  },
  {
   "cell_type": "code",
   "execution_count": 50,
   "id": "17ee4ee4-8e13-42cc-b987-65ef0a702b71",
   "metadata": {},
   "outputs": [
    {
     "name": "stdout",
     "output_type": "stream",
     "text": [
      "[ 2 12 22]\n"
     ]
    }
   ],
   "source": [
    "print(newarr[[0,1,2],[1,1,1]]) #fancy way of indexing, I firt chose the arr, then I further closed in on the index."
   ]
  },
  {
   "cell_type": "code",
   "execution_count": 51,
   "id": "6863c5ea-cb7a-4850-a762-8255a31f04d4",
   "metadata": {},
   "outputs": [],
   "source": [
    "a,b = [1,2]"
   ]
  },
  {
   "cell_type": "code",
   "execution_count": 54,
   "id": "220138bd-dfb6-4ee9-b3cd-6ff788ea8e47",
   "metadata": {},
   "outputs": [
    {
     "data": {
      "text/plain": [
       "array([[  1,   2,   3,   4,   5,   6,   7,   8,   9,  10],\n",
       "       [ 31,  32,  33,  34,  35,  36,  37,  38,  39,  40],\n",
       "       [ 51,  52,  53,  54,  55,  56,  57,  58,  59,  60],\n",
       "       [ 71,  72,  73,  74,  75,  76,  77,  78,  79,  80],\n",
       "       [ 91,  92,  93,  94,  95,  96,  97,  98,  99, 100]])"
      ]
     },
     "execution_count": 54,
     "metadata": {},
     "output_type": "execute_result"
    }
   ],
   "source": [
    "newarr[[True, False, False, True, False, True, False, True, False, True]] #so basically only those arrays with tru printed"
   ]
  },
  {
   "cell_type": "code",
   "execution_count": 57,
   "id": "908125e9-7fbf-4f73-a3ef-cfabccbdbc22",
   "metadata": {},
   "outputs": [
    {
     "data": {
      "text/plain": [
       "array([False, False, False, False, False, False, False, False, False,\n",
       "       False,  True,  True,  True,  True,  True,  True,  True,  True,\n",
       "        True,  True,  True,  True,  True,  True,  True,  True,  True,\n",
       "        True,  True,  True,  True,  True,  True,  True,  True,  True,\n",
       "        True,  True,  True,  True,  True,  True,  True,  True,  True,\n",
       "        True,  True,  True,  True,  True,  True,  True,  True,  True,\n",
       "        True,  True,  True,  True,  True,  True,  True,  True,  True,\n",
       "        True,  True,  True,  True,  True,  True,  True,  True,  True,\n",
       "        True,  True,  True,  True,  True,  True,  True,  True,  True,\n",
       "        True,  True,  True,  True,  True,  True,  True,  True,  True,\n",
       "        True,  True,  True,  True,  True,  True,  True,  True,  True,\n",
       "        True])"
      ]
     },
     "execution_count": 57,
     "metadata": {},
     "output_type": "execute_result"
    }
   ],
   "source": [
    "n2 > 10 #Impotant concept, known as filtering."
   ]
  },
  {
   "cell_type": "code",
   "execution_count": 60,
   "id": "e6acb368-49d1-4d23-96a1-4b1155ee23bb",
   "metadata": {},
   "outputs": [
    {
     "data": {
      "text/plain": [
       "array([ 11,  12,  13,  14,  15,  16,  17,  18,  19,  20,  21,  22,  23,\n",
       "        24,  25,  26,  27,  28,  29,  30,  31,  32,  33,  34,  35,  36,\n",
       "        37,  38,  39,  40,  41,  42,  43,  44,  45,  46,  47,  48,  49,\n",
       "        50,  51,  52,  53,  54,  55,  56,  57,  58,  59,  60,  61,  62,\n",
       "        63,  64,  65,  66,  67,  68,  69,  70,  71,  72,  73,  74,  75,\n",
       "        76,  77,  78,  79,  80,  81,  82,  83,  84,  85,  86,  87,  88,\n",
       "        89,  90,  91,  92,  93,  94,  95,  96,  97,  98,  99, 100])"
      ]
     },
     "execution_count": 60,
     "metadata": {},
     "output_type": "execute_result"
    }
   ],
   "source": [
    "n2[n2 > 10] #the only true values will be printed here."
   ]
  },
  {
   "cell_type": "code",
   "execution_count": 69,
   "id": "8a19c290-fee6-44ed-b0fa-e2609ca2cb0c",
   "metadata": {},
   "outputs": [],
   "source": [
    "arr = np.array([[[1,2],[3,4],[5,6]],[[10,20],[30,40],[50,60]]]) #axis = 0,1,2"
   ]
  },
  {
   "cell_type": "code",
   "execution_count": 70,
   "id": "634c4105-3e12-4dfc-9782-2bfb07855720",
   "metadata": {},
   "outputs": [
    {
     "name": "stdout",
     "output_type": "stream",
     "text": [
      "[[[ 1  2]\n",
      "  [ 3  4]\n",
      "  [ 5  6]]\n",
      "\n",
      " [[10 20]\n",
      "  [30 40]\n",
      "  [50 60]]]\n"
     ]
    }
   ],
   "source": [
    "print(arr)"
   ]
  },
  {
   "cell_type": "code",
   "execution_count": 75,
   "id": "65ce2df2-0c1b-4d9e-ac78-eef1647f5345",
   "metadata": {},
   "outputs": [
    {
     "name": "stdout",
     "output_type": "stream",
     "text": [
      "[[11 22]\n",
      " [33 44]\n",
      " [55 66]]\n"
     ]
    }
   ],
   "source": [
    "print(arr.sum(axis = 0))"
   ]
  },
  {
   "cell_type": "code",
   "execution_count": 78,
   "id": "1b980a0a-7dff-45af-a145-c0dbd2f1b196",
   "metadata": {},
   "outputs": [
    {
     "name": "stdout",
     "output_type": "stream",
     "text": [
      "[[  9  12]\n",
      " [ 90 120]]\n"
     ]
    }
   ],
   "source": [
    "print(arr.sum(axis = 1)) #corresponds to 1-D arrays"
   ]
  },
  {
   "cell_type": "code",
   "execution_count": 84,
   "id": "dcbd3fa7-ec50-4f5d-b7bb-2083924818a7",
   "metadata": {},
   "outputs": [
    {
     "name": "stdout",
     "output_type": "stream",
     "text": [
      "[[  3   7  11]\n",
      " [ 30  70 110]]\n"
     ]
    }
   ],
   "source": [
    "print(arr.sum(axis = 2)) #corresponding to the columns"
   ]
  },
  {
   "cell_type": "code",
   "execution_count": 87,
   "id": "050a9ff5-2eeb-4433-af07-05f1d92c3514",
   "metadata": {},
   "outputs": [
    {
     "name": "stdout",
     "output_type": "stream",
     "text": [
      "[[ 2  4  6]\n",
      " [20 40 60]]\n"
     ]
    }
   ],
   "source": [
    "print(arr.max(axis = 2)) #brings the maximum value from the columns"
   ]
  },
  {
   "cell_type": "code",
   "execution_count": 88,
   "id": "2832090a-f532-43eb-9221-e6dc731c33f2",
   "metadata": {},
   "outputs": [],
   "source": [
    "n = np.array([False, True, False])\n"
   ]
  },
  {
   "cell_type": "code",
   "execution_count": 90,
   "id": "20e05bd6-eb24-4b6d-b3d2-8ce644672fe8",
   "metadata": {},
   "outputs": [],
   "source": [
    "n1 = np.arange(1,11)"
   ]
  },
  {
   "cell_type": "code",
   "execution_count": 91,
   "id": "c6da61bc-1cbe-4d06-a2f7-6226caea73c7",
   "metadata": {},
   "outputs": [
    {
     "name": "stdout",
     "output_type": "stream",
     "text": [
      "((0,), np.int64(1))\n",
      "((1,), np.int64(2))\n",
      "((2,), np.int64(3))\n",
      "((3,), np.int64(4))\n",
      "((4,), np.int64(5))\n",
      "((5,), np.int64(6))\n",
      "((6,), np.int64(7))\n",
      "((7,), np.int64(8))\n",
      "((8,), np.int64(9))\n",
      "((9,), np.int64(10))\n"
     ]
    }
   ],
   "source": [
    "for t in np.ndenumerate(n1):\n",
    "    print(t)"
   ]
  },
  {
   "cell_type": "code",
   "execution_count": 92,
   "id": "c9ee7f4c-1f81-4391-b58c-b42b477e5b25",
   "metadata": {},
   "outputs": [],
   "source": [
    "n1 = np.array([1,2,3])\n",
    "n2 = np.array([10,20,30])"
   ]
  },
  {
   "cell_type": "code",
   "execution_count": 95,
   "id": "fd433143-d06b-4746-a6ab-37879d707528",
   "metadata": {},
   "outputs": [
    {
     "data": {
      "text/plain": [
       "array([[ 1,  2,  3],\n",
       "       [10, 20, 30]])"
      ]
     },
     "execution_count": 95,
     "metadata": {},
     "output_type": "execute_result"
    }
   ],
   "source": [
    "np.vstack((n1,n2)) #stack them vertically"
   ]
  },
  {
   "cell_type": "code",
   "execution_count": 96,
   "id": "ba88b1cd-e9f8-4102-823b-c29b16cd8e2f",
   "metadata": {},
   "outputs": [
    {
     "data": {
      "text/plain": [
       "array([ 1,  2,  3, 10, 20, 30])"
      ]
     },
     "execution_count": 96,
     "metadata": {},
     "output_type": "execute_result"
    }
   ],
   "source": [
    "np.hstack((n1,n2)) #stack them horizontally"
   ]
  },
  {
   "cell_type": "code",
   "execution_count": 99,
   "id": "c10de693-b7e6-428c-b71d-b0f8326cf0e6",
   "metadata": {},
   "outputs": [
    {
     "data": {
      "text/plain": [
       "array([[ 1, 10],\n",
       "       [ 2, 20],\n",
       "       [ 3, 30]])"
      ]
     },
     "execution_count": 99,
     "metadata": {},
     "output_type": "execute_result"
    }
   ],
   "source": [
    "np.stack((n1,n2),axis = 1)"
   ]
  },
  {
   "cell_type": "code",
   "execution_count": 103,
   "id": "60e18c54-65ae-41ac-8721-c27728f2b8fd",
   "metadata": {},
   "outputs": [
    {
     "name": "stdout",
     "output_type": "stream",
     "text": [
      "[array([1]), array([2]), array([3])]\n"
     ]
    }
   ],
   "source": [
    "print(np.hsplit(n1,3))"
   ]
  },
  {
   "cell_type": "code",
   "execution_count": 104,
   "id": "5bdf3bb3-4b01-47f3-8cb6-ad56d6f24e4b",
   "metadata": {},
   "outputs": [],
   "source": [
    "#Broadcasting in numpyBroadcasting is a \n",
    "#powerful feature in NumPy that allows operations between arrays\n",
    "#of different shapes without making unnecessary copies of data."
   ]
  },
  {
   "cell_type": "code",
   "execution_count": 105,
   "id": "80526796-ad23-4972-96ba-9d3d66f9cf92",
   "metadata": {},
   "outputs": [],
   "source": [
    "n1 = np.arange(1,13).reshape(4,3)"
   ]
  },
  {
   "cell_type": "code",
   "execution_count": 108,
   "id": "a3140991-f2ff-490b-93d0-2f47358e6244",
   "metadata": {},
   "outputs": [
    {
     "name": "stdout",
     "output_type": "stream",
     "text": [
      "[[ 1  2  3]\n",
      " [ 4  5  6]\n",
      " [ 7  8  9]\n",
      " [10 11 12]]\n"
     ]
    }
   ],
   "source": [
    "print(n1)"
   ]
  },
  {
   "cell_type": "code",
   "execution_count": 107,
   "id": "332490df-f56a-4a7f-a659-3e76dc7b85b3",
   "metadata": {},
   "outputs": [
    {
     "name": "stdout",
     "output_type": "stream",
     "text": [
      "[[11 22 33]\n",
      " [14 25 36]\n",
      " [17 28 39]\n",
      " [20 31 42]]\n"
     ]
    }
   ],
   "source": [
    "print(np.array([10,20,30]) + n1)"
   ]
  },
  {
   "cell_type": "code",
   "execution_count": 110,
   "id": "0b718c5b-54b4-4e42-9e29-1967def51e2f",
   "metadata": {},
   "outputs": [
    {
     "name": "stdout",
     "output_type": "stream",
     "text": [
      "[[11 22 33]\n",
      " [14 25 36]]\n"
     ]
    }
   ],
   "source": [
    "a = np.array([[1, 2, 3],\n",
    "              [4, 5, 6]])\n",
    "b = np.array([10, 20, 30])\n",
    "\n",
    "print(a + b) #this is a classic example of broadcasting.\n"
   ]
  },
  {
   "cell_type": "code",
   "execution_count": 111,
   "id": "e9a51416-c3d0-4379-a32d-8b62b3ef233a",
   "metadata": {},
   "outputs": [
    {
     "data": {
      "text/plain": [
       "'/Users/kshitijsharma/Desktop/CB-ML-AI/Class-13'"
      ]
     },
     "execution_count": 111,
     "metadata": {},
     "output_type": "execute_result"
    }
   ],
   "source": [
    "import os\n",
    "os.getcwd()"
   ]
  },
  {
   "cell_type": "code",
   "execution_count": 121,
   "id": "8ac67b54-a68d-4af5-b978-2d429723aecb",
   "metadata": {},
   "outputs": [],
   "source": [
    "file_path = '/Users/kshitijsharma/Desktop/populations.txt'\n"
   ]
  },
  {
   "cell_type": "code",
   "execution_count": 122,
   "id": "c1868ddf-be05-4e8d-8b30-df5af0444a42",
   "metadata": {},
   "outputs": [
    {
     "name": "stdout",
     "output_type": "stream",
     "text": [
      "# year\thare\tlynx\tcarrot\n",
      "1900\t30e3\t4e3\t48300\n",
      "1901\t47.2e3\t6.1e3\t48200\n",
      "1902\t70.2e3\t9.8e3\t41500\n",
      "1903\t77.4e3\t35.2e3\t38200\n",
      "1904\t36.3e3\t59.4e3\t40600\n",
      "1905\t20.6e3\t41.7e3\t39800\n",
      "1906\t18.1e3\t19e3\t38600\n",
      "1907\t21.4e3\t13e3\t42300\n",
      "1908\t22e3\t8.3e3\t44500\n",
      "1909\t25.4e3\t9.1e3\t42100\n",
      "1910\t27.1e3\t7.4e3\t46000\n",
      "1911\t40.3e3\t8e3\t46800\n",
      "1912\t57e3\t12.3e3\t43800\n",
      "1913\t76.6e3\t19.5e3\t40900\n",
      "1914\t52.3e3\t45.7e3\t39400\n",
      "1915\t19.5e3\t51.1e3\t39000\n",
      "1916\t11.2e3\t29.7e3\t36700\n",
      "1917\t7.6e3\t15.8e3\t41800\n",
      "1918\t14.6e3\t9.7e3\t43300\n",
      "1919\t16.2e3\t10.1e3\t41300\n",
      "1920\t24.7e3\t8.6e3\t47300\n",
      "\n"
     ]
    }
   ],
   "source": [
    "with open(file_path, 'r') as f:\n",
    "    data = f.read()\n",
    "    print(data)"
   ]
  },
  {
   "cell_type": "code",
   "execution_count": 129,
   "id": "7374b5e9-869f-4183-82cc-6a274554e655",
   "metadata": {},
   "outputs": [],
   "source": [
    "pop = np.loadtxt('/Users/kshitijsharma/Desktop/populations.txt')\n"
   ]
  },
  {
   "cell_type": "code",
   "execution_count": 131,
   "id": "ff08c11b-bfb5-4c28-b15b-cca13a6dd811",
   "metadata": {},
   "outputs": [
    {
     "name": "stdout",
     "output_type": "stream",
     "text": [
      "[[ 1900. 30000.  4000. 48300.]\n",
      " [ 1901. 47200.  6100. 48200.]\n",
      " [ 1902. 70200.  9800. 41500.]\n",
      " [ 1903. 77400. 35200. 38200.]\n",
      " [ 1904. 36300. 59400. 40600.]\n",
      " [ 1905. 20600. 41700. 39800.]\n",
      " [ 1906. 18100. 19000. 38600.]\n",
      " [ 1907. 21400. 13000. 42300.]\n",
      " [ 1908. 22000.  8300. 44500.]\n",
      " [ 1909. 25400.  9100. 42100.]\n",
      " [ 1910. 27100.  7400. 46000.]\n",
      " [ 1911. 40300.  8000. 46800.]\n",
      " [ 1912. 57000. 12300. 43800.]\n",
      " [ 1913. 76600. 19500. 40900.]\n",
      " [ 1914. 52300. 45700. 39400.]\n",
      " [ 1915. 19500. 51100. 39000.]\n",
      " [ 1916. 11200. 29700. 36700.]\n",
      " [ 1917.  7600. 15800. 41800.]\n",
      " [ 1918. 14600.  9700. 43300.]\n",
      " [ 1919. 16200. 10100. 41300.]\n",
      " [ 1920. 24700.  8600. 47300.]]\n"
     ]
    }
   ],
   "source": [
    "print(pop)"
   ]
  },
  {
   "cell_type": "code",
   "execution_count": 132,
   "id": "f72790c6-1366-49d9-96a0-7808285983d2",
   "metadata": {},
   "outputs": [
    {
     "data": {
      "text/plain": [
       "array([ 1920., 77400., 59400., 48300.])"
      ]
     },
     "execution_count": 132,
     "metadata": {},
     "output_type": "execute_result"
    }
   ],
   "source": [
    "pop.max(axis = 0)"
   ]
  },
  {
   "cell_type": "code",
   "execution_count": 133,
   "id": "ff244ba4-a634-4924-88a9-f5c6f599a93e",
   "metadata": {},
   "outputs": [
    {
     "data": {
      "text/plain": [
       "array([1903., 1904., 1900.])"
      ]
     },
     "execution_count": 133,
     "metadata": {},
     "output_type": "execute_result"
    }
   ],
   "source": [
    "pop[:,0][pop.argmax(axis = 0)][1:]"
   ]
  },
  {
   "cell_type": "code",
   "execution_count": 134,
   "id": "59faf0cf-608d-44ca-8357-5d4b09e21867",
   "metadata": {},
   "outputs": [],
   "source": [
    "n1 = np.arange(1,13).reshape(3,4)"
   ]
  },
  {
   "cell_type": "code",
   "execution_count": 135,
   "id": "0d696e32-dfdd-43e5-8a7e-f16fa92f8c0f",
   "metadata": {},
   "outputs": [
    {
     "data": {
      "text/plain": [
       "array([[ 1,  2,  3,  4],\n",
       "       [ 5,  6,  7,  8],\n",
       "       [ 9, 10, 11, 12]])"
      ]
     },
     "execution_count": 135,
     "metadata": {},
     "output_type": "execute_result"
    }
   ],
   "source": [
    "n1"
   ]
  },
  {
   "cell_type": "code",
   "execution_count": null,
   "id": "117fc1a8-57de-40da-8c4b-1b00dd8d90f3",
   "metadata": {},
   "outputs": [],
   "source": []
  }
 ],
 "metadata": {
  "kernelspec": {
   "display_name": "Python 3 (ipykernel)",
   "language": "python",
   "name": "python3"
  },
  "language_info": {
   "codemirror_mode": {
    "name": "ipython",
    "version": 3
   },
   "file_extension": ".py",
   "mimetype": "text/x-python",
   "name": "python",
   "nbconvert_exporter": "python",
   "pygments_lexer": "ipython3",
   "version": "3.13.2"
  }
 },
 "nbformat": 4,
 "nbformat_minor": 5
}
