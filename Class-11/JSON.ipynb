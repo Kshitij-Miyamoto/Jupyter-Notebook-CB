{
 "cells": [
  {
   "cell_type": "code",
   "execution_count": null,
   "id": "5eca9991-0edd-45d7-80d1-2219f042fbc9",
   "metadata": {},
   "outputs": [],
   "source": [
    "#JSON : Javascript Object notation, Class-11"
   ]
  },
  {
   "cell_type": "code",
   "execution_count": 1,
   "id": "f98e898c-b588-44c3-b9d9-fe60ba8b3f19",
   "metadata": {},
   "outputs": [],
   "source": [
    "js = {\n",
    "    \"India\" : 1000,\n",
    "     \"USA\" : 100\n",
    "}\n"
   ]
  },
  {
   "cell_type": "code",
   "execution_count": 2,
   "id": "5989cbb9-2ef4-40ed-a293-70b0591ae5a7",
   "metadata": {},
   "outputs": [],
   "source": [
    "import json"
   ]
  },
  {
   "cell_type": "code",
   "execution_count": 3,
   "id": "a6c46fad-1f96-45c4-aaa8-7d72cce48688",
   "metadata": {},
   "outputs": [],
   "source": [
    "with open(\"Country.json\", \"w\") as file:\n",
    "    json.dump(js,file)"
   ]
  },
  {
   "cell_type": "code",
   "execution_count": 5,
   "id": "8212ed49-9ccf-4c4a-9fc3-9114b41fbd42",
   "metadata": {},
   "outputs": [
    {
     "name": "stdout",
     "output_type": "stream",
     "text": [
      "{'India': 1000, 'USA': 100} <class 'dict'>\n"
     ]
    }
   ],
   "source": [
    "with open(\"Country.json\", \"r\") as file:\n",
    "    j = json.load(file)\n",
    "    print(j,type(j))"
   ]
  },
  {
   "cell_type": "code",
   "execution_count": null,
   "id": "0399247b-bca7-4781-be33-72f6be87f482",
   "metadata": {},
   "outputs": [],
   "source": []
  },
  {
   "cell_type": "code",
   "execution_count": null,
   "id": "6e808679-37bc-4c22-9987-e0f01ba8c764",
   "metadata": {},
   "outputs": [],
   "source": []
  },
  {
   "cell_type": "code",
   "execution_count": null,
   "id": "71de951f-6871-4be0-a0be-b6c39484125c",
   "metadata": {},
   "outputs": [],
   "source": []
  }
 ],
 "metadata": {
  "kernelspec": {
   "display_name": "Python 3 (ipykernel)",
   "language": "python",
   "name": "python3"
  },
  "language_info": {
   "codemirror_mode": {
    "name": "ipython",
    "version": 3
   },
   "file_extension": ".py",
   "mimetype": "text/x-python",
   "name": "python",
   "nbconvert_exporter": "python",
   "pygments_lexer": "ipython3",
   "version": "3.13.2"
  }
 },
 "nbformat": 4,
 "nbformat_minor": 5
}
