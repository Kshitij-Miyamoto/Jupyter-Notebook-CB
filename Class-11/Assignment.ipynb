{
 "cells": [
  {
   "cell_type": "code",
   "execution_count": 28,
   "id": "7d1dff06-cf5d-4145-ae7c-f5ebe7fc970d",
   "metadata": {},
   "outputs": [],
   "source": [
    "l = [\"S1\" , \"S2\" ,\"S3\" , \"S4\"]\n",
    "\n",
    "with open(\"Output.txt\", \"w\") as file : \n",
    "    for item in l:\n",
    "        file.write(item + \"\\n\")"
   ]
  },
  {
   "cell_type": "code",
   "execution_count": 31,
   "id": "31633696-bd25-445f-9381-6b26221f8aad",
   "metadata": {},
   "outputs": [
    {
     "data": {
      "text/plain": [
       "['0  S10', '0  S20', '0  S30', '0  S40']"
      ]
     },
     "execution_count": 31,
     "metadata": {},
     "output_type": "execute_result"
    }
   ],
   "source": [
    "ans = [] #so basically we are printing 0 after all the elements.\n",
    "with open(\"Output.txt\" , \"r\") as file:\n",
    "   for line in file:\n",
    "       ans.append(line[:-1] + \"0\")\n",
    "ans"
   ]
  },
  {
   "cell_type": "code",
   "execution_count": 32,
   "id": "80de889c-498a-445d-aab2-2a585b0b96d8",
   "metadata": {},
   "outputs": [],
   "source": [
    "\n",
    "with open(\"Output.txt\", \"r\") as file:\n",
    "    lines = file.readlines()\n",
    "\n",
    "lines = [ (f\"0  {line}\") for line in lines]\n",
    "\n",
    "with open(\"Output.txt\", \"w\") as file:\n",
    "    for line in lines:\n",
    "        file.write(line)"
   ]
  },
  {
   "cell_type": "code",
   "execution_count": null,
   "id": "8371f8ae-44ad-4fb3-b6f4-2d36e8edbe8c",
   "metadata": {},
   "outputs": [],
   "source": [
    "#path in python, How we can access Python files from different directories."
   ]
  },
  {
   "cell_type": "code",
   "execution_count": 34,
   "id": "bf9b37f7-c62e-4647-b8ed-647d94b4842a",
   "metadata": {},
   "outputs": [
    {
     "data": {
      "text/plain": [
       "['FileHandling.ipynb',\n",
       " 'output.json',\n",
       " 'JSON.ipynb',\n",
       " '.ipynb_checkpoints',\n",
       " 'Assignment.ipynb',\n",
       " 'Output.txt',\n",
       " 'Country.json',\n",
       " 'sample.txt']"
      ]
     },
     "execution_count": 34,
     "metadata": {},
     "output_type": "execute_result"
    }
   ],
   "source": [
    "import os\n",
    "os.listdir(\"./\")"
   ]
  },
  {
   "cell_type": "code",
   "execution_count": null,
   "id": "53c35860-98d3-4991-b4b7-d429b7f936e9",
   "metadata": {},
   "outputs": [],
   "source": []
  }
 ],
 "metadata": {
  "kernelspec": {
   "display_name": "Python 3 (ipykernel)",
   "language": "python",
   "name": "python3"
  },
  "language_info": {
   "codemirror_mode": {
    "name": "ipython",
    "version": 3
   },
   "file_extension": ".py",
   "mimetype": "text/x-python",
   "name": "python",
   "nbconvert_exporter": "python",
   "pygments_lexer": "ipython3",
   "version": "3.13.2"
  }
 },
 "nbformat": 4,
 "nbformat_minor": 5
}
