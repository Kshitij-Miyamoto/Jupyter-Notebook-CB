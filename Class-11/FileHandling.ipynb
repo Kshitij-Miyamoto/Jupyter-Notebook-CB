{
 "cells": [
  {
   "cell_type": "code",
   "execution_count": null,
   "id": "2de3e738-41e8-40cb-bfa8-0c1191739f02",
   "metadata": {},
   "outputs": [],
   "source": [
    "#Class-11 ; File Handling\n",
    "print(\"Never out of the fight\")\n",
    "      "
   ]
  },
  {
   "cell_type": "code",
   "execution_count": null,
   "id": "55b73df6-5538-413f-a352-31e57a4073d7",
   "metadata": {},
   "outputs": [],
   "source": [
    "#What are files, basically collection of data."
   ]
  },
  {
   "cell_type": "code",
   "execution_count": null,
   "id": "1a9b564e-e362-412f-99d0-eaddd4376213",
   "metadata": {},
   "outputs": [],
   "source": [
    "%%writefile sample.txt\n",
    "This is the first line.\n",
    "This is the second line.\n",
    "kshitij Sharma never out of the fight, never affected by the fight."
   ]
  },
  {
   "cell_type": "code",
   "execution_count": null,
   "id": "e036b7a4-a720-4dbe-93a9-01f3b937b2de",
   "metadata": {},
   "outputs": [],
   "source": [
    "with open(\"sample.txt\", \"r\") as file: #this is the read mode\n",
    "    content = file.read()\n",
    "    print(content)"
   ]
  },
  {
   "cell_type": "code",
   "execution_count": null,
   "id": "5c3370ba-f7c4-4a7b-9224-018ea479054e",
   "metadata": {},
   "outputs": [],
   "source": [
    "file  = open(\"Sample.txt\", 'r') #here we are basically reading from the following"
   ]
  },
  {
   "cell_type": "code",
   "execution_count": null,
   "id": "35a4d91a-d7e2-483f-a8b3-9f8116bf6b36",
   "metadata": {},
   "outputs": [],
   "source": [
    "print(file.read()) #this will not written anything if you are already in the reading mode."
   ]
  },
  {
   "cell_type": "code",
   "execution_count": null,
   "id": "a93dd8d0-92e7-4ef7-9ed1-e7531e38038d",
   "metadata": {},
   "outputs": [],
   "source": [
    "print(file)"
   ]
  },
  {
   "cell_type": "code",
   "execution_count": null,
   "id": "aedea16f-72aa-480a-8644-fb707af39fdb",
   "metadata": {},
   "outputs": [],
   "source": [
    "print(type(file))"
   ]
  },
  {
   "cell_type": "code",
   "execution_count": null,
   "id": "309f8223-c79c-4d18-93b0-a7d664bb3393",
   "metadata": {},
   "outputs": [],
   "source": [
    "#open() --> close() , this is basically the file handling"
   ]
  },
  {
   "cell_type": "code",
   "execution_count": null,
   "id": "fd41df74-4e9e-4df8-8e60-935028a37ad1",
   "metadata": {},
   "outputs": [],
   "source": [
    "print(file.read()) #As we are already in the reading mode, hence nothing is being printed."
   ]
  },
  {
   "cell_type": "code",
   "execution_count": null,
   "id": "dc3f96ef-c08f-4945-8096-f3e1d482777f",
   "metadata": {},
   "outputs": [],
   "source": [
    "file.seek(0) # to solce the thing that we are in the reading mode, hence we are using seek() "
   ]
  },
  {
   "cell_type": "code",
   "execution_count": null,
   "id": "cb92ca6a-bc3a-47e1-aff8-262e8b27c815",
   "metadata": {},
   "outputs": [],
   "source": [
    "print(file.read()) #This was able to work cause of seek, we got the pointer at the starting."
   ]
  },
  {
   "cell_type": "code",
   "execution_count": null,
   "id": "fb9f2b75-6ee4-4037-abb1-7dfa01547181",
   "metadata": {},
   "outputs": [],
   "source": [
    "file.seek(0)\n"
   ]
  },
  {
   "cell_type": "code",
   "execution_count": null,
   "id": "6ea7c1b4-2d19-47db-938e-158c49fa0a35",
   "metadata": {},
   "outputs": [],
   "source": [
    "file.read()"
   ]
  },
  {
   "cell_type": "code",
   "execution_count": null,
   "id": "a7e55e5c-8408-4616-9aeb-151920a4be76",
   "metadata": {},
   "outputs": [],
   "source": [
    "#This was basically the full story of the read mode () 'r'"
   ]
  },
  {
   "cell_type": "code",
   "execution_count": null,
   "id": "37a61e48-89f2-4902-8bdd-eeccb927e03c",
   "metadata": {},
   "outputs": [],
   "source": [
    "file.seek(0)\n",
    "file.readline()\n",
    "print(file.readline())"
   ]
  },
  {
   "cell_type": "code",
   "execution_count": null,
   "id": "7b5df899-cecf-4e76-866f-1acb1b15a642",
   "metadata": {},
   "outputs": [],
   "source": [
    "file.seek(0)\n",
    "for line in file.readlines():\n",
    "    print(line, end = \" \")"
   ]
  },
  {
   "cell_type": "code",
   "execution_count": null,
   "id": "f5044ccd-e310-4bb2-830b-86bcbade913f",
   "metadata": {},
   "outputs": [],
   "source": [
    "file.readlines() # We are already in the modes so won't work."
   ]
  },
  {
   "cell_type": "code",
   "execution_count": null,
   "id": "af91a4cc-8db8-4a03-9816-66470c4ee228",
   "metadata": {},
   "outputs": [],
   "source": [
    "file.seek(0)\n",
    "s = file.readline()\n",
    "while s != \" \":\n",
    "    print(s , end = '')\n",
    "    s = file.readline()"
   ]
  },
  {
   "cell_type": "code",
   "execution_count": null,
   "id": "db1cd510-8c85-4efb-8ff4-7b71bea38718",
   "metadata": {},
   "outputs": [],
   "source": [
    "file.close()  #alawyays closing the file after usage."
   ]
  },
  {
   "cell_type": "code",
   "execution_count": null,
   "id": "ebcf1acf-7b40-4f17-8261-3815502fbc74",
   "metadata": {},
   "outputs": [],
   "source": [
    "file = open('FileDemo.txt' , 'w')#Making a file in write mode, 'w'"
   ]
  },
  {
   "cell_type": "code",
   "execution_count": null,
   "id": "04c4f78d-977f-4d02-b352-b351c2e5ef7f",
   "metadata": {},
   "outputs": [],
   "source": [
    "file.write(\"\"\" This is Mumukshu.\n",
    "9-para Sf.\n",
    "AI, Data Science, Machine Learning.\n",
    "\"\"\")"
   ]
  },
  {
   "cell_type": "code",
   "execution_count": null,
   "id": "aa88056e-bc87-4d09-b219-0611a288d22d",
   "metadata": {},
   "outputs": [],
   "source": [
    "file.close()"
   ]
  },
  {
   "cell_type": "code",
   "execution_count": null,
   "id": "8eafa0c0-0e23-4c75-98ee-ba2411b32721",
   "metadata": {},
   "outputs": [],
   "source": [
    "# different types of read and write modes, r+ : both read and write mode is availiable here to us.\n",
    "# append a, gets the pointer to the end, hence we can write anything at the end.\n",
    "# append + read(a+)\n",
    "# text mode is the default mode."
   ]
  },
  {
   "cell_type": "code",
   "execution_count": null,
   "id": "3d58436e-f58a-487c-a2b2-105e51aed1c2",
   "metadata": {},
   "outputs": [],
   "source": [
    "with open(\"FileDemo.txt\" , \"r\") as file: \n",
    "    print(file.read())"
   ]
  },
  {
   "cell_type": "code",
   "execution_count": null,
   "id": "c49141c9-0c6c-457c-b8bd-7f35f1f3d83f",
   "metadata": {},
   "outputs": [],
   "source": []
  },
  {
   "cell_type": "code",
   "execution_count": null,
   "id": "191ce613-707a-465c-b3e9-6047f7433054",
   "metadata": {},
   "outputs": [],
   "source": []
  },
  {
   "cell_type": "code",
   "execution_count": null,
   "id": "751bc572-22d8-424c-9937-a8d05e6bcc49",
   "metadata": {},
   "outputs": [],
   "source": []
  }
 ],
 "metadata": {
  "kernelspec": {
   "display_name": "Python 3 (ipykernel)",
   "language": "python",
   "name": "python3"
  },
  "language_info": {
   "codemirror_mode": {
    "name": "ipython",
    "version": 3
   },
   "file_extension": ".py",
   "mimetype": "text/x-python",
   "name": "python",
   "nbconvert_exporter": "python",
   "pygments_lexer": "ipython3",
   "version": "3.13.2"
  }
 },
 "nbformat": 4,
 "nbformat_minor": 5
}
