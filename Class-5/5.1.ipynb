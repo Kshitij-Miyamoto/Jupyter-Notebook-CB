{
 "cells": [
  {
   "cell_type": "code",
   "execution_count": 1,
   "id": "d6a70730-4cd6-4738-af0d-1724eff44f2e",
   "metadata": {},
   "outputs": [
    {
     "name": "stdout",
     "output_type": "stream",
     "text": [
      "30\n"
     ]
    }
   ],
   "source": [
    "def add(a,b):\n",
    "    return a + b \n",
    "print(add(10,20))\n"
   ]
  },
  {
   "cell_type": "code",
   "execution_count": 3,
   "id": "f1e92bff-0273-4b76-8e0c-b247258c1ecd",
   "metadata": {},
   "outputs": [
    {
     "name": "stdout",
     "output_type": "stream",
     "text": [
      "Hello Kshitij\n"
     ]
    }
   ],
   "source": [
    "def greet(Name):\n",
    "    print(\"Hello\", Name)\n",
    "\n",
    "greet(\"Kshitij\")"
   ]
  },
  {
   "cell_type": "code",
   "execution_count": 5,
   "id": "a4f5c396-6d10-4eab-8259-0ee591440f8f",
   "metadata": {},
   "outputs": [
    {
     "name": "stdout",
     "output_type": "stream",
     "text": [
      "55\n"
     ]
    }
   ],
   "source": [
    "def sum(n):\n",
    "    i = 0 \n",
    "    sum = 0 \n",
    "    while i <= n :\n",
    "        sum = sum + i \n",
    "        i = i+1 \n",
    "    return sum \n",
    "\n",
    "print(sum(10))\n",
    "        "
   ]
  },
  {
   "cell_type": "code",
   "execution_count": 30,
   "id": "3e2d2fbb-c970-49b4-889e-029649d7278c",
   "metadata": {},
   "outputs": [
    {
     "name": "stdout",
     "output_type": "stream",
     "text": [
      "120\n"
     ]
    }
   ],
   "source": [
    "def factorial(n):\n",
    "    if n == 0:  # Fix: Use `n` instead of `x`\n",
    "        return 1  \n",
    "    else:\n",
    "        fact = 1\n",
    "        i = 1  # Fix: Ensure `i` is initialized before the loop\n",
    "\n",
    "        while i <= n:  \n",
    "            fact = fact * i\n",
    "            i = i + 1  \n",
    "\n",
    "    return fact\n",
    "    \n",
    "\n",
    "print(factorial(5))  # ✅ Output: 120"
   ]
  },
  {
   "cell_type": "code",
   "execution_count": 25,
   "id": "d276f8c1-7f61-43e9-9e1f-90126a59764e",
   "metadata": {},
   "outputs": [
    {
     "name": "stdout",
     "output_type": "stream",
     "text": [
      "[2, 4, 6]\n"
     ]
    }
   ],
   "source": [
    "def process_numbers(nums: list[int]) -> list[int]:\n",
    "    return [n * 2 for n in nums]\n",
    "\n",
    "print(process_numbers([1, 2, 3]))  # ✅ Output: [2, 4, 6]\n"
   ]
  },
  {
   "cell_type": "code",
   "execution_count": 26,
   "id": "387b8529-833a-4115-8417-97c70224c5cc",
   "metadata": {},
   "outputs": [
    {
     "name": "stdout",
     "output_type": "stream",
     "text": [
      "Hello Alice, you are 25 years old.\n"
     ]
    }
   ],
   "source": [
    "def greet(name: str, age: int) -> str:\n",
    "    return f\"Hello {name}, you are {age} years old.\"\n",
    "\n",
    "print(greet(\"Alice\", 25))  # ✅ Works"
   ]
  },
  {
   "cell_type": "code",
   "execution_count": 27,
   "id": "af38bb98-6f4c-40bb-9b24-48626335af1e",
   "metadata": {},
   "outputs": [],
   "source": [
    "def cal(a,b,op):\n",
    "    return op(a,b)"
   ]
  },
  {
   "cell_type": "code",
   "execution_count": 28,
   "id": "fe6b3ead-8913-4654-aaa9-09ebb74e9674",
   "metadata": {},
   "outputs": [],
   "source": [
    "def add(a,b):\n",
    "    return a+b\n",
    "def sub(a,b):\n",
    "    return a-b"
   ]
  },
  {
   "cell_type": "code",
   "execution_count": 29,
   "id": "f20af258-f388-4f2a-80c6-b00f9420a019",
   "metadata": {},
   "outputs": [
    {
     "data": {
      "text/plain": [
       "20"
      ]
     },
     "execution_count": 29,
     "metadata": {},
     "output_type": "execute_result"
    }
   ],
   "source": [
    "cal(10, 20, max)"
   ]
  },
  {
   "cell_type": "code",
   "execution_count": 31,
   "id": "01cc9fc4-d856-4815-aefb-7a0314476446",
   "metadata": {},
   "outputs": [],
   "source": [
    "def nod(n):\n",
    "    dig = 0\n",
    "    while(n != 0):\n",
    "        if(n%10 >= 0):\n",
    "            dig = dig+1\n",
    "\n",
    "        n = n//10\n",
    "\n",
    "    return dig\n",
    "        "
   ]
  },
  {
   "cell_type": "code",
   "execution_count": 32,
   "id": "c118e29f-7ac8-4fee-b00f-0eec0f58dfcd",
   "metadata": {},
   "outputs": [
    {
     "name": "stdout",
     "output_type": "stream",
     "text": [
      "3\n"
     ]
    }
   ],
   "source": [
    "print(nod(123))"
   ]
  },
  {
   "cell_type": "code",
   "execution_count": 33,
   "id": "ee715e22-9b61-4d36-a80f-8456d0428a35",
   "metadata": {},
   "outputs": [
    {
     "name": "stdout",
     "output_type": "stream",
     "text": [
      "3\n"
     ]
    }
   ],
   "source": [
    "print(nod(153))"
   ]
  },
  {
   "cell_type": "code",
   "execution_count": 40,
   "id": "d9a77070-6229-4955-9563-4cec92d6783c",
   "metadata": {},
   "outputs": [],
   "source": [
    "def is_armstrong(n):\n",
    "    original = n  \n",
    "    arm = 0  \n",
    "\n",
    "    while n != 0:\n",
    "        rem = n % 10  \n",
    "        arm += rem ** 3  \n",
    "        n //= 10  \n",
    "\n",
    "    return arm == original"
   ]
  },
  {
   "cell_type": "code",
   "execution_count": 41,
   "id": "1cb2e87d-1d5f-4050-a12d-9bbe231ba9ee",
   "metadata": {},
   "outputs": [
    {
     "name": "stdout",
     "output_type": "stream",
     "text": [
      "True\n"
     ]
    }
   ],
   "source": [
    "print(is_armstrong(153))"
   ]
  },
  {
   "cell_type": "code",
   "execution_count": 42,
   "id": "e56effeb-48f4-4926-9e6e-14611cfe8e54",
   "metadata": {},
   "outputs": [
    {
     "name": "stdout",
     "output_type": "stream",
     "text": [
      "False\n"
     ]
    }
   ],
   "source": [
    "print(is_armstrong(53))"
   ]
  },
  {
   "cell_type": "code",
   "execution_count": 45,
   "id": "3ee87f8f-9d79-4eee-9725-878096df1a55",
   "metadata": {},
   "outputs": [],
   "source": [
    "def print_armstrong(n):\n",
    "    i = 1  \n",
    "    while i <= n:  \n",
    "        arm = 0  \n",
    "        temp = i  \n",
    "\n",
    "        \n",
    "        while temp != 0:\n",
    "            rem = temp % 10  \n",
    "            arm += rem ** 3  \n",
    "            temp //= 10  \n",
    "\n",
    "        if arm == i:  \n",
    "            print(i)  \n",
    "\n",
    "        i += 1  \n",
    "                  \n",
    "         \n",
    "         \n",
    "\n",
    "   "
   ]
  },
  {
   "cell_type": "code",
   "execution_count": 46,
   "id": "20db5f61-3471-47df-b189-42e736a95a80",
   "metadata": {},
   "outputs": [
    {
     "name": "stdout",
     "output_type": "stream",
     "text": [
      "1\n",
      "153\n",
      "370\n",
      "371\n",
      "407\n",
      "None\n"
     ]
    }
   ],
   "source": [
    "print(print_armstrong(1000))\n"
   ]
  },
  {
   "cell_type": "code",
   "execution_count": null,
   "id": "52c88f71-c552-4ad9-aba4-66a8271a0936",
   "metadata": {},
   "outputs": [],
   "source": []
  }
 ],
 "metadata": {
  "kernelspec": {
   "display_name": "Python 3 (ipykernel)",
   "language": "python",
   "name": "python3"
  },
  "language_info": {
   "codemirror_mode": {
    "name": "ipython",
    "version": 3
   },
   "file_extension": ".py",
   "mimetype": "text/x-python",
   "name": "python",
   "nbconvert_exporter": "python",
   "pygments_lexer": "ipython3",
   "version": "3.13.2"
  }
 },
 "nbformat": 4,
 "nbformat_minor": 5
}
