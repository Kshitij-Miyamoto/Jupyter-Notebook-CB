{
 "cells": [
  {
   "cell_type": "code",
   "execution_count": 5,
   "id": "55bed007-c4c3-4853-b5df-8b193156080f",
   "metadata": {},
   "outputs": [
    {
     "name": "stdout",
     "output_type": "stream",
     "text": [
      "* \n",
      "* * \n",
      "* * * \n",
      "* * * * \n",
      "* * * * * \n"
     ]
    }
   ],
   "source": [
    "i = 0\n",
    "n = 5\n",
    "while i < n:\n",
    "    j = 0\n",
    "    while j <= i:\n",
    "        print(\"*\", end=\" \")  \n",
    "        j += 1\n",
    "    print()  \n",
    "    i += 1\n"
   ]
  },
  {
   "cell_type": "code",
   "execution_count": 12,
   "id": "785f8927-f01c-4410-aa98-bb069a11a7ce",
   "metadata": {},
   "outputs": [
    {
     "name": "stdin",
     "output_type": "stream",
     "text": [
      "Enter the number of rows:  5\n"
     ]
    },
    {
     "name": "stdout",
     "output_type": "stream",
     "text": [
      "        * \n",
      "      * * * \n",
      "    * * * * * \n",
      "  * * * * * * * \n",
      "* * * * * * * * * \n"
     ]
    }
   ],
   "source": [
    "n = int(input(\"Enter the number of rows: \"))  \n",
    "i = 0  \n",
    "\n",
    "while i < n:  \n",
    "    \n",
    "    j = 0  \n",
    "    while j < n - i - 1:  \n",
    "        print(\" \", end=\" \")  \n",
    "        j += 1  \n",
    "\n",
    "    \n",
    "    k = 0  \n",
    "    while k < (2 * i + 1):  \n",
    "        print(\"*\", end=\" \")  \n",
    "        k += 1  \n",
    "\n",
    "    print()   \n",
    "    i += 1  "
   ]
  },
  {
   "cell_type": "code",
   "execution_count": 13,
   "id": "c05303bb-1b3e-473a-b1f0-8caf4525d639",
   "metadata": {},
   "outputs": [
    {
     "name": "stdin",
     "output_type": "stream",
     "text": [
      "Enter the number of rows:  5\n"
     ]
    },
    {
     "name": "stdout",
     "output_type": "stream",
     "text": [
      "* * * * * * * * * \n",
      "* * * * * * * \n",
      "  * * * * * \n",
      "    * * * \n",
      "      * \n"
     ]
    }
   ],
   "source": [
    "n = int(input(\"Enter the number of rows: \"))  \n",
    "i = 0  \n",
    "\n",
    "while i < n:  \n",
    "    \n",
    "    j = 0  \n",
    "    while j < i - 1:  \n",
    "        print(\" \", end=\" \")  \n",
    "        j += 1  \n",
    "\n",
    "    \n",
    "    k = 0  \n",
    "    while k < (2 * n - 2*i-1):  \n",
    "        print(\"*\", end=\" \")  \n",
    "        k += 1  \n",
    "\n",
    "    print()   \n",
    "    i += 1  "
   ]
  },
  {
   "cell_type": "code",
   "execution_count": 16,
   "id": "6d67eca0-d1a3-4568-9016-e463b35890d6",
   "metadata": {},
   "outputs": [
    {
     "name": "stdin",
     "output_type": "stream",
     "text": [
      "Enter the number of rows:  5\n"
     ]
    },
    {
     "name": "stdout",
     "output_type": "stream",
     "text": [
      "        * * * * * * * * * \n",
      "      * * * * * * * * * * * \n",
      "    * * * * * * * * * * * * * \n",
      "  * * * * * * * * * * * * * * * \n",
      "* * * * * * * * * * * * * * * * * \n"
     ]
    }
   ],
   "source": [
    "n = int(input(\"Enter the number of rows: \"))  \n",
    "i = 0  \n",
    "\n",
    "while i < n:  \n",
    "    \n",
    "    j = 0  \n",
    "    while j < n - i - 1:  \n",
    "        print(\" \", end=\" \")  \n",
    "        j += 1  \n",
    "\n",
    "    \n",
    "    k = 0  \n",
    "    while k < (2 * i + 1):  \n",
    "        print(\"*\", end=\" \")  \n",
    "        k += 1  \n",
    "\n",
    "    l = 2*n-2\n",
    "    while l > 0:\n",
    "        print(\"*\", end = \" \")\n",
    "        l -= 1\n",
    "\n",
    "    print()   \n",
    "    i += 1  "
   ]
  },
  {
   "cell_type": "code",
   "execution_count": null,
   "id": "ff5d2b0c-aee7-4127-bdf5-cdbedc7888ba",
   "metadata": {},
   "outputs": [],
   "source": []
  }
 ],
 "metadata": {
  "kernelspec": {
   "display_name": "Python 3 (ipykernel)",
   "language": "python",
   "name": "python3"
  },
  "language_info": {
   "codemirror_mode": {
    "name": "ipython",
    "version": 3
   },
   "file_extension": ".py",
   "mimetype": "text/x-python",
   "name": "python",
   "nbconvert_exporter": "python",
   "pygments_lexer": "ipython3",
   "version": "3.13.2"
  }
 },
 "nbformat": 4,
 "nbformat_minor": 5
}
